{
 "cells": [
  {
   "cell_type": "code",
   "execution_count": 4,
   "metadata": {},
   "outputs": [
    {
     "data": {
      "text/plain": [
       "<module 'data' from 'c:\\\\Users\\\\27904\\\\OneDrive\\\\桌面\\\\crypto-main\\\\AAA_Thursday1\\\\data\\\\__init__.py'>"
      ]
     },
     "execution_count": 4,
     "metadata": {},
     "output_type": "execute_result"
    }
   ],
   "source": [
    "import importlib, data, LSTM_returns, optimization\n",
    "import pandas as pd\n",
    "importlib.reload(data)"
   ]
  },
  {
   "cell_type": "code",
   "execution_count": 5,
   "metadata": {},
   "outputs": [],
   "source": [
    "importlib.reload(data)\n",
    "# Step 1: load each asset's df using data module\n",
    "XLM_df = data.load_asset('XLMUSDC')\n",
    "# BTC_df = data.load_asset('BTCUSDC')\n",
    "# ETH_df = data.load_asset('ETHUSDC')\n",
    "# ADA_df = data.load_asset('ADAUSDC')\n",
    "# XRP_df = data.load_asset('XRPUSDC')"
   ]
  },
  {
   "cell_type": "code",
   "execution_count": 6,
   "metadata": {},
   "outputs": [
    {
     "name": "stdout",
     "output_type": "stream",
     "text": [
      "[]\n"
     ]
    },
    {
     "data": {
      "text/html": [
       "<div>\n",
       "<style scoped>\n",
       "    .dataframe tbody tr th:only-of-type {\n",
       "        vertical-align: middle;\n",
       "    }\n",
       "\n",
       "    .dataframe tbody tr th {\n",
       "        vertical-align: top;\n",
       "    }\n",
       "\n",
       "    .dataframe thead th {\n",
       "        text-align: right;\n",
       "    }\n",
       "</style>\n",
       "<table border=\"1\" class=\"dataframe\">\n",
       "  <thead>\n",
       "    <tr style=\"text-align: right;\">\n",
       "      <th></th>\n",
       "      <th>Open</th>\n",
       "      <th>High</th>\n",
       "      <th>Low</th>\n",
       "      <th>Close</th>\n",
       "      <th>Volume</th>\n",
       "      <th>Quote asset volume</th>\n",
       "      <th>Number of trades</th>\n",
       "      <th>Taker buy base asset volume</th>\n",
       "      <th>Taker buy quote asset volume</th>\n",
       "      <th>Return</th>\n",
       "      <th>Return_Lookback_1</th>\n",
       "      <th>Return_Lookback_2</th>\n",
       "      <th>Return_Lookback_3</th>\n",
       "      <th>Return_Lookback_4</th>\n",
       "      <th>Return_Lookback_5</th>\n",
       "      <th>SPLIT</th>\n",
       "    </tr>\n",
       "    <tr>\n",
       "      <th>Open time</th>\n",
       "      <th></th>\n",
       "      <th></th>\n",
       "      <th></th>\n",
       "      <th></th>\n",
       "      <th></th>\n",
       "      <th></th>\n",
       "      <th></th>\n",
       "      <th></th>\n",
       "      <th></th>\n",
       "      <th></th>\n",
       "      <th></th>\n",
       "      <th></th>\n",
       "      <th></th>\n",
       "      <th></th>\n",
       "      <th></th>\n",
       "      <th></th>\n",
       "    </tr>\n",
       "  </thead>\n",
       "  <tbody>\n",
       "    <tr>\n",
       "      <th>2024-12-04 10:30:00</th>\n",
       "      <td>0.978427</td>\n",
       "      <td>0.955571</td>\n",
       "      <td>0.992711</td>\n",
       "      <td>0.997557</td>\n",
       "      <td>0.005107</td>\n",
       "      <td>0.008748</td>\n",
       "      <td>0.004978</td>\n",
       "      <td>0.002128</td>\n",
       "      <td>0.003646</td>\n",
       "      <td>0.009559</td>\n",
       "      <td>0.594627</td>\n",
       "      <td>0.527843</td>\n",
       "      <td>0.591277</td>\n",
       "      <td>0.619907</td>\n",
       "      <td>0.674017</td>\n",
       "      <td>train</td>\n",
       "    </tr>\n",
       "    <tr>\n",
       "      <th>2024-12-04 11:00:00</th>\n",
       "      <td>0.995477</td>\n",
       "      <td>1.000000</td>\n",
       "      <td>1.000000</td>\n",
       "      <td>1.000000</td>\n",
       "      <td>0.025748</td>\n",
       "      <td>0.044336</td>\n",
       "      <td>0.016209</td>\n",
       "      <td>0.010224</td>\n",
       "      <td>0.017637</td>\n",
       "      <td>0.002512</td>\n",
       "      <td>0.642095</td>\n",
       "      <td>0.594627</td>\n",
       "      <td>0.527843</td>\n",
       "      <td>0.591277</td>\n",
       "      <td>0.619907</td>\n",
       "      <td>train</td>\n",
       "    </tr>\n",
       "    <tr>\n",
       "      <th>2024-12-04 11:30:00</th>\n",
       "      <td>1.000000</td>\n",
       "      <td>0.974756</td>\n",
       "      <td>1.000000</td>\n",
       "      <td>0.990227</td>\n",
       "      <td>0.003473</td>\n",
       "      <td>0.006006</td>\n",
       "      <td>0.004850</td>\n",
       "      <td>0.003579</td>\n",
       "      <td>0.006182</td>\n",
       "      <td>-0.010794</td>\n",
       "      <td>0.602212</td>\n",
       "      <td>0.642095</td>\n",
       "      <td>0.594627</td>\n",
       "      <td>0.527843</td>\n",
       "      <td>0.591277</td>\n",
       "      <td>train</td>\n",
       "    </tr>\n",
       "    <tr>\n",
       "      <th>2024-12-04 12:00:00</th>\n",
       "      <td>0.980515</td>\n",
       "      <td>0.950522</td>\n",
       "      <td>0.963554</td>\n",
       "      <td>0.954625</td>\n",
       "      <td>0.002196</td>\n",
       "      <td>0.003726</td>\n",
       "      <td>0.005488</td>\n",
       "      <td>0.002242</td>\n",
       "      <td>0.003796</td>\n",
       "      <td>-0.014614</td>\n",
       "      <td>0.526903</td>\n",
       "      <td>0.602212</td>\n",
       "      <td>0.642095</td>\n",
       "      <td>0.594627</td>\n",
       "      <td>0.527843</td>\n",
       "      <td>train</td>\n",
       "    </tr>\n",
       "    <tr>\n",
       "      <th>2024-12-04 12:30:00</th>\n",
       "      <td>0.954419</td>\n",
       "      <td>0.928307</td>\n",
       "      <td>0.962860</td>\n",
       "      <td>0.963700</td>\n",
       "      <td>0.001616</td>\n",
       "      <td>0.002718</td>\n",
       "      <td>0.003829</td>\n",
       "      <td>0.000757</td>\n",
       "      <td>0.001273</td>\n",
       "      <td>0.001186</td>\n",
       "      <td>0.505283</td>\n",
       "      <td>0.526903</td>\n",
       "      <td>0.602212</td>\n",
       "      <td>0.642095</td>\n",
       "      <td>0.594627</td>\n",
       "      <td>train</td>\n",
       "    </tr>\n",
       "  </tbody>\n",
       "</table>\n",
       "</div>"
      ],
      "text/plain": [
       "                         Open      High       Low     Close    Volume  \\\n",
       "Open time                                                               \n",
       "2024-12-04 10:30:00  0.978427  0.955571  0.992711  0.997557  0.005107   \n",
       "2024-12-04 11:00:00  0.995477  1.000000  1.000000  1.000000  0.025748   \n",
       "2024-12-04 11:30:00  1.000000  0.974756  1.000000  0.990227  0.003473   \n",
       "2024-12-04 12:00:00  0.980515  0.950522  0.963554  0.954625  0.002196   \n",
       "2024-12-04 12:30:00  0.954419  0.928307  0.962860  0.963700  0.001616   \n",
       "\n",
       "                     Quote asset volume  Number of trades  \\\n",
       "Open time                                                   \n",
       "2024-12-04 10:30:00            0.008748          0.004978   \n",
       "2024-12-04 11:00:00            0.044336          0.016209   \n",
       "2024-12-04 11:30:00            0.006006          0.004850   \n",
       "2024-12-04 12:00:00            0.003726          0.005488   \n",
       "2024-12-04 12:30:00            0.002718          0.003829   \n",
       "\n",
       "                     Taker buy base asset volume  \\\n",
       "Open time                                          \n",
       "2024-12-04 10:30:00                     0.002128   \n",
       "2024-12-04 11:00:00                     0.010224   \n",
       "2024-12-04 11:30:00                     0.003579   \n",
       "2024-12-04 12:00:00                     0.002242   \n",
       "2024-12-04 12:30:00                     0.000757   \n",
       "\n",
       "                     Taker buy quote asset volume    Return  \\\n",
       "Open time                                                     \n",
       "2024-12-04 10:30:00                      0.003646  0.009559   \n",
       "2024-12-04 11:00:00                      0.017637  0.002512   \n",
       "2024-12-04 11:30:00                      0.006182 -0.010794   \n",
       "2024-12-04 12:00:00                      0.003796 -0.014614   \n",
       "2024-12-04 12:30:00                      0.001273  0.001186   \n",
       "\n",
       "                     Return_Lookback_1  Return_Lookback_2  Return_Lookback_3  \\\n",
       "Open time                                                                      \n",
       "2024-12-04 10:30:00           0.594627           0.527843           0.591277   \n",
       "2024-12-04 11:00:00           0.642095           0.594627           0.527843   \n",
       "2024-12-04 11:30:00           0.602212           0.642095           0.594627   \n",
       "2024-12-04 12:00:00           0.526903           0.602212           0.642095   \n",
       "2024-12-04 12:30:00           0.505283           0.526903           0.602212   \n",
       "\n",
       "                     Return_Lookback_4  Return_Lookback_5  SPLIT  \n",
       "Open time                                                         \n",
       "2024-12-04 10:30:00           0.619907           0.674017  train  \n",
       "2024-12-04 11:00:00           0.591277           0.619907  train  \n",
       "2024-12-04 11:30:00           0.527843           0.591277  train  \n",
       "2024-12-04 12:00:00           0.594627           0.527843  train  \n",
       "2024-12-04 12:30:00           0.642095           0.594627  train  "
      ]
     },
     "execution_count": 6,
     "metadata": {},
     "output_type": "execute_result"
    }
   ],
   "source": [
    "importlib.reload(data)\n",
    "\n",
    "# Step 2: pre-process each asset's df using the data module\n",
    "\n",
    "XLM_df = data.subset(XLM_df, start=pd.Timestamp('2024-12-04 08:00:00'), end=pd.Timestamp('2026-01-01'))\n",
    "print(data.report_gaps(XLM_df))\n",
    "XLM_df = data.add_returns(XLM_df)\n",
    "XLM_df = data.add_lookback_returns(XLM_df, lookback=5)\n",
    "XLM_df.dropna(inplace=True)\n",
    "\n",
    "XLM_df = data.normalize_data(XLM_df)\n",
    "\n",
    "XLM_df = data.train_test_split(XLM_df, split=0.8)\n",
    "XLM_df.head()\n"
   ]
  },
  {
   "cell_type": "code",
   "execution_count": 8,
   "metadata": {},
   "outputs": [
    {
     "name": "stdout",
     "output_type": "stream",
     "text": [
      "Epoch 1/10\n",
      "\u001b[1m141/141\u001b[0m \u001b[32m━━━━━━━━━━━━━━━━━━━━\u001b[0m\u001b[37m\u001b[0m \u001b[1m3s\u001b[0m 4ms/step - accuracy: 0.0095 - loss: 0.2390\n",
      "Epoch 2/10\n",
      "\u001b[1m141/141\u001b[0m \u001b[32m━━━━━━━━━━━━━━━━━━━━\u001b[0m\u001b[37m\u001b[0m \u001b[1m1s\u001b[0m 4ms/step - accuracy: 0.0123 - loss: 0.0631\n",
      "Epoch 3/10\n",
      "\u001b[1m141/141\u001b[0m \u001b[32m━━━━━━━━━━━━━━━━━━━━\u001b[0m\u001b[37m\u001b[0m \u001b[1m1s\u001b[0m 4ms/step - accuracy: 0.0116 - loss: 0.0307\n",
      "Epoch 4/10\n",
      "\u001b[1m141/141\u001b[0m \u001b[32m━━━━━━━━━━━━━━━━━━━━\u001b[0m\u001b[37m\u001b[0m \u001b[1m1s\u001b[0m 4ms/step - accuracy: 0.0125 - loss: 0.0150\n",
      "Epoch 5/10\n",
      "\u001b[1m141/141\u001b[0m \u001b[32m━━━━━━━━━━━━━━━━━━━━\u001b[0m\u001b[37m\u001b[0m \u001b[1m1s\u001b[0m 4ms/step - accuracy: 0.0134 - loss: 0.0076\n",
      "Epoch 6/10\n",
      "\u001b[1m141/141\u001b[0m \u001b[32m━━━━━━━━━━━━━━━━━━━━\u001b[0m\u001b[37m\u001b[0m \u001b[1m1s\u001b[0m 4ms/step - accuracy: 0.0121 - loss: 0.0050\n",
      "Epoch 7/10\n",
      "\u001b[1m141/141\u001b[0m \u001b[32m━━━━━━━━━━━━━━━━━━━━\u001b[0m\u001b[37m\u001b[0m \u001b[1m1s\u001b[0m 4ms/step - accuracy: 0.0126 - loss: 0.0030\n",
      "Epoch 8/10\n",
      "\u001b[1m141/141\u001b[0m \u001b[32m━━━━━━━━━━━━━━━━━━━━\u001b[0m\u001b[37m\u001b[0m \u001b[1m1s\u001b[0m 4ms/step - accuracy: 0.0090 - loss: 0.0021\n",
      "Epoch 9/10\n",
      "\u001b[1m141/141\u001b[0m \u001b[32m━━━━━━━━━━━━━━━━━━━━\u001b[0m\u001b[37m\u001b[0m \u001b[1m1s\u001b[0m 4ms/step - accuracy: 0.0129 - loss: 0.0017\n",
      "Epoch 10/10\n",
      "\u001b[1m141/141\u001b[0m \u001b[32m━━━━━━━━━━━━━━━━━━━━\u001b[0m\u001b[37m\u001b[0m \u001b[1m1s\u001b[0m 4ms/step - accuracy: 0.0101 - loss: 0.0010\n",
      "\u001b[1m141/141\u001b[0m \u001b[32m━━━━━━━━━━━━━━━━━━━━\u001b[0m\u001b[37m\u001b[0m \u001b[1m1s\u001b[0m 3ms/step\n"
     ]
    },
    {
     "data": {
      "text/plain": [
       "{'mse': 0.00013470667113378893, 'r2': -0.5195751039069931}"
      ]
     },
     "execution_count": 8,
     "metadata": {},
     "output_type": "execute_result"
    }
   ],
   "source": [
    "importlib.reload(LSTM_returns)\n",
    "# Step 3: create and train LSTMs using various hyperparameters using the LSTM_returns module\n",
    "features = XLM_df.columns\n",
    "features = ['Open', 'High', 'Low', 'Close', 'Volume', 'Quote asset volume',\n",
    "       'Number of trades', 'Taker buy base asset volume',\n",
    "       'Taker buy quote asset volume', 'Return_Lookback_1',\n",
    "       'Return_Lookback_2', 'Return_Lookback_3', 'Return_Lookback_4',\n",
    "       'Return_Lookback_5']\n",
    "target = \"Return\"\n",
    "\n",
    "train_X_y = LSTM_returns.vectorize_train_data(XLM_df, target=target, features=features, episode_length=5)\n",
    "\n",
    "hyperparams = {\n",
    "    'input_shape': train_X_y['train_X'].shape[1:],\n",
    "}\n",
    "\n",
    "LSTM = LSTM_returns.create(hyperparams)\n",
    "\n",
    "LSTM_returns.train(LSTM, hyperparams, train_X_y)"
   ]
  },
  {
   "cell_type": "code",
   "execution_count": null,
   "metadata": {},
   "outputs": [
    {
     "name": "stdout",
     "output_type": "stream",
     "text": [
      "\u001b[1m36/36\u001b[0m \u001b[32m━━━━━━━━━━━━━━━━━━━━\u001b[0m\u001b[37m\u001b[0m \u001b[1m0s\u001b[0m 2ms/step\n"
     ]
    }
   ],
   "source": [
    "importlib.reload(LSTM_returns)\n",
    "# Step 5: using a test_data_iterator from data module, run LSTM predictions and through optimization.\n",
    "#         keep track of the returns at each step\n",
    "\n",
    "\n",
    "# Step 5a: calculate the predicted returns\n",
    "XLM_return_predictions = LSTM.predict(train_X_y['test_X'])\n",
    "\n",
    "# Step 5b: run it through optimization to get portfolio weights at each step\n",
    "\n",
    "\n",
    "# Step 5c: calculate the portfolio returns at each step"
   ]
  },
  {
   "cell_type": "code",
   "execution_count": 12,
   "id": "9b0ca775",
   "metadata": {},
   "outputs": [
    {
     "data": {
      "text/plain": [
       "array([[-0.00116377],\n",
       "       [-0.00049019],\n",
       "       [-0.00045136],\n",
       "       ...,\n",
       "       [-0.00061186],\n",
       "       [-0.00060148],\n",
       "       [-0.00042969]], dtype=float32)"
      ]
     },
     "execution_count": 12,
     "metadata": {},
     "output_type": "execute_result"
    }
   ],
   "source": [
    "XLM_return_predictions"
   ]
  },
  {
   "cell_type": "code",
   "execution_count": 18,
   "id": "d139e07e",
   "metadata": {},
   "outputs": [],
   "source": [
    "past  = XLM_df['Close'].to_numpy().reshape(-1, 1)"
   ]
  },
  {
   "cell_type": "code",
   "execution_count": null,
   "id": "f2442782",
   "metadata": {},
   "outputs": [],
   "source": []
  }
 ],
 "metadata": {
  "kernelspec": {
   "display_name": "Python 3",
   "language": "python",
   "name": "python3"
  },
  "language_info": {
   "codemirror_mode": {
    "name": "ipython",
    "version": 3
   },
   "file_extension": ".py",
   "mimetype": "text/x-python",
   "name": "python",
   "nbconvert_exporter": "python",
   "pygments_lexer": "ipython3",
   "version": "3.12.3"
  }
 },
 "nbformat": 4,
 "nbformat_minor": 5
}
