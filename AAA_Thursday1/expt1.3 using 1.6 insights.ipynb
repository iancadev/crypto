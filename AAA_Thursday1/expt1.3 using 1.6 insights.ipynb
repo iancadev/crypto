{
 "cells": [
  {
   "cell_type": "code",
   "execution_count": 1,
   "id": "02e83714",
   "metadata": {},
   "outputs": [
    {
     "name": "stdout",
     "output_type": "stream",
     "text": [
      "Index(['Open', 'High', 'Low', 'Close', 'Volume', 'Quote asset volume',\n",
      "       'Number of trades', 'Taker buy base asset volume',\n",
      "       'Taker buy quote asset volume', 'Return', 'Return_Target', 'F&G',\n",
      "       'SPLIT'],\n",
      "      dtype='object')\n"
     ]
    }
   ],
   "source": [
    "import importlib\n",
    "from __imports__ import *\n",
    "import data, LSTM_returns, optimization\n",
    "\n",
    "SOL_df = data.load_asset('SOLUSDT', sampling='6h')\n",
    "SOL_df = data.subset(SOL_df, start=pd.Timestamp('2021-01-01 08:00:00'), end=pd.Timestamp('2026-01-01'))\n",
    "data.report_and_print_gaps(SOL_df, delta=pd.Timedelta('6h'))\n",
    "\n",
    "SOL_df = data.add_returns(SOL_df)\n",
    "SOL_df = data.add_fear_and_greed(SOL_df, includeCategory=False)\n",
    "SOL_df.dropna(inplace=True)\n",
    "SOL_df = data.train_test_split(SOL_df)\n",
    "print(SOL_df.columns)\n"
   ]
  },
  {
   "cell_type": "code",
   "execution_count": 2,
   "id": "f457718b",
   "metadata": {},
   "outputs": [
    {
     "data": {
      "text/plain": [
       "{'Open': MinMaxScaler(),\n",
       " 'High': MinMaxScaler(),\n",
       " 'Low': MinMaxScaler(),\n",
       " 'Close': MinMaxScaler(),\n",
       " 'Volume': MinMaxScaler(),\n",
       " 'Quote asset volume': MinMaxScaler(),\n",
       " 'Number of trades': MinMaxScaler(),\n",
       " 'Taker buy base asset volume': MinMaxScaler(),\n",
       " 'Taker buy quote asset volume': MinMaxScaler(),\n",
       " 'Return': MinMaxScaler(),\n",
       " 'Return_Target': MinMaxScaler(),\n",
       " 'F&G': MinMaxScaler(),\n",
       " 'SPLIT': 'standard'}"
      ]
     },
     "execution_count": 2,
     "metadata": {},
     "output_type": "execute_result"
    }
   ],
   "source": [
    "# vs. normalize all features AND targets\n",
    "DF = SOL_df.copy()\n",
    "\n",
    "numerical_columns = categorical_columns = \"all\"\n",
    "exclude_columns = []\n",
    "DF_features = ['Open', 'High', 'Low', 'Close', 'Volume', 'Quote asset volume', 'Number of trades', 'Taker buy base asset volume',\n",
    "       'F&G', 'Return']\n",
    "DF_features_simple = ['Open', 'High', 'Low', 'Close', 'Volume', 'Return']\n",
    "DF_features_nosentiment = ['Open', 'High', 'Low', 'Close', 'Quote asset volume', 'Number of trades', 'Taker buy base asset volume',\n",
    "       'Return']\n",
    "DF, DF_columns = data.normalize_data(DF, exclude_columns=exclude_columns)\n",
    "\n",
    "DF_columns"
   ]
  },
  {
   "cell_type": "code",
   "execution_count": 13,
   "id": "d686989c",
   "metadata": {},
   "outputs": [
    {
     "name": "stderr",
     "output_type": "stream",
     "text": [
      "[I 2025-04-28 08:42:01,881] A new study created in memory with name: no-name-0b9ff244-c7ad-49c2-8c22-a165b8fc251d\n",
      "c:\\Users\\ic2594\\AppData\\Local\\miniconda3\\Lib\\site-packages\\keras\\src\\layers\\rnn\\rnn.py:200: UserWarning: Do not pass an `input_shape`/`input_dim` argument to a layer. When using Sequential models, prefer using an `Input(shape)` object as the first layer in the model instead.\n",
      "  super().__init__(**kwargs)\n"
     ]
    },
    {
     "name": "stdout",
     "output_type": "stream",
     "text": [
      "\u001b[1m39/39\u001b[0m \u001b[32m━━━━━━━━━━━━━━━━━━━━\u001b[0m\u001b[37m\u001b[0m \u001b[1m4s\u001b[0m 56ms/step - loss: 0.0040 - mae: 0.0470\n"
     ]
    },
    {
     "name": "stderr",
     "output_type": "stream",
     "text": [
      "[I 2025-04-28 08:42:05,998] Trial 0 finished with value: 0.0029947375878691673 and parameters: {'lstm_units': 76, 'num_layers': 3, 'batch_size': 128, 'dropout_rate': 1, 'learning_rate': 0.01, 'lstm_activation': 'tanh', 'features': 'all', 'episode_length': 50}. Best is trial 0 with value: 0.0029947375878691673.\n"
     ]
    },
    {
     "data": {
      "text/html": [
       "\n",
       "    <div style=\"color: purple; background: orange; font-weight: bold;\">\n",
       "        Trial 1 completed.<br>\n",
       "        Best hyperparameters: {'lstm_units': 76, 'num_layers': 3, 'batch_size': 128, 'dropout_rate': 1, 'learning_rate': 0.01, 'lstm_activation': 'tanh', 'features': 'all', 'episode_length': 50}<br>\n",
       "        Best score (MSE): 0.0029947375878691673<br>\n",
       "    </div>\n",
       "    "
      ],
      "text/plain": [
       "<IPython.core.display.HTML object>"
      ]
     },
     "metadata": {},
     "output_type": "display_data"
    },
    {
     "name": "stdout",
     "output_type": "stream",
     "text": [
      "\u001b[1m154/154\u001b[0m \u001b[32m━━━━━━━━━━━━━━━━━━━━\u001b[0m\u001b[37m\u001b[0m \u001b[1m2s\u001b[0m 9ms/step\n",
      "\u001b[1m39/39\u001b[0m \u001b[32m━━━━━━━━━━━━━━━━━━━━\u001b[0m\u001b[37m\u001b[0m \u001b[1m0s\u001b[0m 8ms/step\n",
      "EL: 50; HP: {\"lstm_units\": 76, \"num_layers\": 3, \"epochs\": 1, \"batch_size\": 128, \"dropout\": 0.05, \"learning_rate\": 0.01, \"LSTM_activation\": \"tanh\", \"__+ABD_exceptLast\": false, \"__finalAct\": \"sigmoid\", \"optimizer\": \"adam\", \"features\": \"all\", \"episode_length\": 50, \"layers\": [76, 76, 76], \"loss\": \"mean_squared_error\", \"input_shape\": [50, 10]}\n"
     ]
    },
    {
     "name": "stderr",
     "output_type": "stream",
     "text": [
      "c:\\Users\\ic2594\\AppData\\Local\\miniconda3\\Lib\\site-packages\\keras\\src\\layers\\rnn\\rnn.py:200: UserWarning: Do not pass an `input_shape`/`input_dim` argument to a layer. When using Sequential models, prefer using an `Input(shape)` object as the first layer in the model instead.\n",
      "  super().__init__(**kwargs)\n"
     ]
    },
    {
     "name": "stdout",
     "output_type": "stream",
     "text": [
      "\u001b[1m39/39\u001b[0m \u001b[32m━━━━━━━━━━━━━━━━━━━━\u001b[0m\u001b[37m\u001b[0m \u001b[1m4s\u001b[0m 24ms/step - loss: 0.0047 - mae: 0.0525\n"
     ]
    },
    {
     "name": "stderr",
     "output_type": "stream",
     "text": [
      "[I 2025-04-28 08:42:12,130] Trial 1 finished with value: 0.0032679361756891012 and parameters: {'lstm_units': 56, 'num_layers': 4, 'batch_size': 128, 'dropout_rate': 0, 'learning_rate': 0.01, 'lstm_activation': 'relu', 'features': 'nosentiment', 'episode_length': 24}. Best is trial 0 with value: 0.0029947375878691673.\n"
     ]
    },
    {
     "data": {
      "text/html": [
       "\n",
       "    <div style=\"color: purple; background: orange; font-weight: bold;\">\n",
       "        Trial 11 completed.<br>\n",
       "        Best hyperparameters: {'lstm_units': 76, 'num_layers': 3, 'batch_size': 128, 'dropout_rate': 1, 'learning_rate': 0.01, 'lstm_activation': 'tanh', 'features': 'all', 'episode_length': 50}<br>\n",
       "        Best score (MSE): 0.0029947375878691673<br>\n",
       "    </div>\n",
       "    "
      ],
      "text/plain": [
       "<IPython.core.display.HTML object>"
      ]
     },
     "metadata": {},
     "output_type": "display_data"
    },
    {
     "name": "stdout",
     "output_type": "stream",
     "text": [
      "\u001b[1m101/155\u001b[0m \u001b[32m━━━━━━━━━━━━━\u001b[0m\u001b[37m━━━━━━━\u001b[0m \u001b[1m0s\u001b[0m 4ms/step"
     ]
    },
    {
     "ename": "KeyboardInterrupt",
     "evalue": "",
     "output_type": "error",
     "traceback": [
      "\u001b[31m---------------------------------------------------------------------------\u001b[39m",
      "\u001b[31mKeyboardInterrupt\u001b[39m                         Traceback (most recent call last)",
      "\u001b[36mCell\u001b[39m\u001b[36m \u001b[39m\u001b[32mIn[13]\u001b[39m\u001b[32m, line 84\u001b[39m\n\u001b[32m     75\u001b[39m display(HTML(\u001b[33mf\u001b[39m\u001b[33m\"\"\"\u001b[39m\n\u001b[32m     76\u001b[39m \u001b[33m<div style=\u001b[39m\u001b[33m\"\u001b[39m\u001b[33mcolor: purple; background: orange; font-weight: bold;\u001b[39m\u001b[33m\"\u001b[39m\u001b[33m>\u001b[39m\n\u001b[32m     77\u001b[39m \u001b[33m    Trial \u001b[39m\u001b[38;5;132;01m{\u001b[39;00mi*\u001b[32m10\u001b[39m+\u001b[32m1\u001b[39m\u001b[38;5;132;01m}\u001b[39;00m\u001b[33m completed.<br>\u001b[39m\n\u001b[32m   (...)\u001b[39m\u001b[32m     80\u001b[39m \u001b[33m</div>\u001b[39m\n\u001b[32m     81\u001b[39m \u001b[33m\u001b[39m\u001b[33m\"\"\"\u001b[39m))\n\u001b[32m     83\u001b[39m \u001b[38;5;66;03m# Display the best entry plot\u001b[39;00m\n\u001b[32m---> \u001b[39m\u001b[32m84\u001b[39m plt = \u001b[43mLSTM_returns\u001b[49m\u001b[43m.\u001b[49m\u001b[43mall_folds_plot\u001b[49m\u001b[43m(\u001b[49m\n\u001b[32m     85\u001b[39m \u001b[43m    \u001b[49m\u001b[43mlatest_entry\u001b[49m\u001b[43m[\u001b[49m\u001b[33;43m'\u001b[39;49m\u001b[33;43mmodel\u001b[39;49m\u001b[33;43m'\u001b[39;49m\u001b[43m]\u001b[49m\u001b[43m,\u001b[49m\u001b[43m \u001b[49m\u001b[43mlatest_entry\u001b[49m\u001b[43m[\u001b[49m\u001b[33;43m'\u001b[39;49m\u001b[33;43mtrain_X_y\u001b[39;49m\u001b[33;43m'\u001b[39;49m\u001b[43m]\u001b[49m\n\u001b[32m     86\u001b[39m \u001b[43m\u001b[49m\u001b[43m)\u001b[49m\n\u001b[32m     87\u001b[39m plt.title(latest_entry[\u001b[33m'\u001b[39m\u001b[33mplot-title\u001b[39m\u001b[33m'\u001b[39m][:\u001b[32m175\u001b[39m])\n\u001b[32m     88\u001b[39m \u001b[38;5;28mprint\u001b[39m(latest_entry[\u001b[33m'\u001b[39m\u001b[33mplot-title\u001b[39m\u001b[33m'\u001b[39m])\n",
      "\u001b[36mFile \u001b[39m\u001b[32mc:\\Users\\ic2594\\crypto\\AAA_Thursday1\\LSTM_returns\\__init__.py:259\u001b[39m, in \u001b[36mall_folds_plot\u001b[39m\u001b[34m(model, folds, mean)\u001b[39m\n\u001b[32m    256\u001b[39m prefixes = \u001b[38;5;28mset\u001b[39m(key.rsplit(\u001b[33m'\u001b[39m\u001b[33m_\u001b[39m\u001b[33m'\u001b[39m, \u001b[32m1\u001b[39m)[\u001b[32m0\u001b[39m] \u001b[38;5;28;01mfor\u001b[39;00m key \u001b[38;5;129;01min\u001b[39;00m keys)\n\u001b[32m    258\u001b[39m \u001b[38;5;28;01mif\u001b[39;00m \u001b[38;5;129;01mnot\u001b[39;00m mean:\n\u001b[32m--> \u001b[39m\u001b[32m259\u001b[39m     predictions = [\u001b[43mmodel\u001b[49m\u001b[43m.\u001b[49m\u001b[43mpredict\u001b[49m\u001b[43m(\u001b[49m\u001b[43mfolds\u001b[49m\u001b[43m[\u001b[49m\u001b[43mprefix\u001b[49m\u001b[43m \u001b[49m\u001b[43m+\u001b[49m\u001b[43m \u001b[49m\u001b[33;43m'\u001b[39;49m\u001b[33;43m_X\u001b[39;49m\u001b[33;43m'\u001b[39;49m\u001b[43m]\u001b[49m\u001b[43m)\u001b[49m[:, -\u001b[32m1\u001b[39m] \u001b[38;5;28;01mfor\u001b[39;00m prefix \u001b[38;5;129;01min\u001b[39;00m prefixes]\n\u001b[32m    260\u001b[39m \u001b[38;5;28;01melse\u001b[39;00m:\n\u001b[32m    261\u001b[39m     predictions = [model.predict(folds[prefix + \u001b[33m'\u001b[39m\u001b[33m_X\u001b[39m\u001b[33m'\u001b[39m]).mean(axis=\u001b[32m1\u001b[39m) \u001b[38;5;28;01mfor\u001b[39;00m prefix \u001b[38;5;129;01min\u001b[39;00m prefixes]\n",
      "\u001b[36mFile \u001b[39m\u001b[32mc:\\Users\\ic2594\\AppData\\Local\\miniconda3\\Lib\\site-packages\\keras\\src\\utils\\traceback_utils.py:117\u001b[39m, in \u001b[36mfilter_traceback.<locals>.error_handler\u001b[39m\u001b[34m(*args, **kwargs)\u001b[39m\n\u001b[32m    115\u001b[39m filtered_tb = \u001b[38;5;28;01mNone\u001b[39;00m\n\u001b[32m    116\u001b[39m \u001b[38;5;28;01mtry\u001b[39;00m:\n\u001b[32m--> \u001b[39m\u001b[32m117\u001b[39m     \u001b[38;5;28;01mreturn\u001b[39;00m \u001b[43mfn\u001b[49m\u001b[43m(\u001b[49m\u001b[43m*\u001b[49m\u001b[43margs\u001b[49m\u001b[43m,\u001b[49m\u001b[43m \u001b[49m\u001b[43m*\u001b[49m\u001b[43m*\u001b[49m\u001b[43mkwargs\u001b[49m\u001b[43m)\u001b[49m\n\u001b[32m    118\u001b[39m \u001b[38;5;28;01mexcept\u001b[39;00m \u001b[38;5;167;01mException\u001b[39;00m \u001b[38;5;28;01mas\u001b[39;00m e:\n\u001b[32m    119\u001b[39m     filtered_tb = _process_traceback_frames(e.__traceback__)\n",
      "\u001b[36mFile \u001b[39m\u001b[32mc:\\Users\\ic2594\\AppData\\Local\\miniconda3\\Lib\\site-packages\\keras\\src\\backend\\tensorflow\\trainer.py:560\u001b[39m, in \u001b[36mTensorFlowTrainer.predict\u001b[39m\u001b[34m(self, x, batch_size, verbose, steps, callbacks)\u001b[39m\n\u001b[32m    558\u001b[39m callbacks.on_predict_batch_begin(step)\n\u001b[32m    559\u001b[39m data = get_data(iterator)\n\u001b[32m--> \u001b[39m\u001b[32m560\u001b[39m batch_outputs = \u001b[38;5;28;43mself\u001b[39;49m\u001b[43m.\u001b[49m\u001b[43mpredict_function\u001b[49m\u001b[43m(\u001b[49m\u001b[43mdata\u001b[49m\u001b[43m)\u001b[49m\n\u001b[32m    561\u001b[39m outputs = append_to_outputs(batch_outputs, outputs)\n\u001b[32m    562\u001b[39m callbacks.on_predict_batch_end(step, {\u001b[33m\"\u001b[39m\u001b[33moutputs\u001b[39m\u001b[33m\"\u001b[39m: batch_outputs})\n",
      "\u001b[36mFile \u001b[39m\u001b[32mc:\\Users\\ic2594\\AppData\\Local\\miniconda3\\Lib\\site-packages\\tensorflow\\python\\util\\traceback_utils.py:150\u001b[39m, in \u001b[36mfilter_traceback.<locals>.error_handler\u001b[39m\u001b[34m(*args, **kwargs)\u001b[39m\n\u001b[32m    148\u001b[39m filtered_tb = \u001b[38;5;28;01mNone\u001b[39;00m\n\u001b[32m    149\u001b[39m \u001b[38;5;28;01mtry\u001b[39;00m:\n\u001b[32m--> \u001b[39m\u001b[32m150\u001b[39m   \u001b[38;5;28;01mreturn\u001b[39;00m \u001b[43mfn\u001b[49m\u001b[43m(\u001b[49m\u001b[43m*\u001b[49m\u001b[43margs\u001b[49m\u001b[43m,\u001b[49m\u001b[43m \u001b[49m\u001b[43m*\u001b[49m\u001b[43m*\u001b[49m\u001b[43mkwargs\u001b[49m\u001b[43m)\u001b[49m\n\u001b[32m    151\u001b[39m \u001b[38;5;28;01mexcept\u001b[39;00m \u001b[38;5;167;01mException\u001b[39;00m \u001b[38;5;28;01mas\u001b[39;00m e:\n\u001b[32m    152\u001b[39m   filtered_tb = _process_traceback_frames(e.__traceback__)\n",
      "\u001b[36mFile \u001b[39m\u001b[32mc:\\Users\\ic2594\\AppData\\Local\\miniconda3\\Lib\\site-packages\\tensorflow\\python\\eager\\polymorphic_function\\polymorphic_function.py:833\u001b[39m, in \u001b[36mFunction.__call__\u001b[39m\u001b[34m(self, *args, **kwds)\u001b[39m\n\u001b[32m    830\u001b[39m compiler = \u001b[33m\"\u001b[39m\u001b[33mxla\u001b[39m\u001b[33m\"\u001b[39m \u001b[38;5;28;01mif\u001b[39;00m \u001b[38;5;28mself\u001b[39m._jit_compile \u001b[38;5;28;01melse\u001b[39;00m \u001b[33m\"\u001b[39m\u001b[33mnonXla\u001b[39m\u001b[33m\"\u001b[39m\n\u001b[32m    832\u001b[39m \u001b[38;5;28;01mwith\u001b[39;00m OptionalXlaContext(\u001b[38;5;28mself\u001b[39m._jit_compile):\n\u001b[32m--> \u001b[39m\u001b[32m833\u001b[39m   result = \u001b[38;5;28;43mself\u001b[39;49m\u001b[43m.\u001b[49m\u001b[43m_call\u001b[49m\u001b[43m(\u001b[49m\u001b[43m*\u001b[49m\u001b[43margs\u001b[49m\u001b[43m,\u001b[49m\u001b[43m \u001b[49m\u001b[43m*\u001b[49m\u001b[43m*\u001b[49m\u001b[43mkwds\u001b[49m\u001b[43m)\u001b[49m\n\u001b[32m    835\u001b[39m new_tracing_count = \u001b[38;5;28mself\u001b[39m.experimental_get_tracing_count()\n\u001b[32m    836\u001b[39m without_tracing = (tracing_count == new_tracing_count)\n",
      "\u001b[36mFile \u001b[39m\u001b[32mc:\\Users\\ic2594\\AppData\\Local\\miniconda3\\Lib\\site-packages\\tensorflow\\python\\eager\\polymorphic_function\\polymorphic_function.py:878\u001b[39m, in \u001b[36mFunction._call\u001b[39m\u001b[34m(self, *args, **kwds)\u001b[39m\n\u001b[32m    875\u001b[39m \u001b[38;5;28mself\u001b[39m._lock.release()\n\u001b[32m    876\u001b[39m \u001b[38;5;66;03m# In this case we have not created variables on the first call. So we can\u001b[39;00m\n\u001b[32m    877\u001b[39m \u001b[38;5;66;03m# run the first trace but we should fail if variables are created.\u001b[39;00m\n\u001b[32m--> \u001b[39m\u001b[32m878\u001b[39m results = \u001b[43mtracing_compilation\u001b[49m\u001b[43m.\u001b[49m\u001b[43mcall_function\u001b[49m\u001b[43m(\u001b[49m\n\u001b[32m    879\u001b[39m \u001b[43m    \u001b[49m\u001b[43margs\u001b[49m\u001b[43m,\u001b[49m\u001b[43m \u001b[49m\u001b[43mkwds\u001b[49m\u001b[43m,\u001b[49m\u001b[43m \u001b[49m\u001b[38;5;28;43mself\u001b[39;49m\u001b[43m.\u001b[49m\u001b[43m_variable_creation_config\u001b[49m\n\u001b[32m    880\u001b[39m \u001b[43m\u001b[49m\u001b[43m)\u001b[49m\n\u001b[32m    881\u001b[39m \u001b[38;5;28;01mif\u001b[39;00m \u001b[38;5;28mself\u001b[39m._created_variables:\n\u001b[32m    882\u001b[39m   \u001b[38;5;28;01mraise\u001b[39;00m \u001b[38;5;167;01mValueError\u001b[39;00m(\u001b[33m\"\u001b[39m\u001b[33mCreating variables on a non-first call to a function\u001b[39m\u001b[33m\"\u001b[39m\n\u001b[32m    883\u001b[39m                    \u001b[33m\"\u001b[39m\u001b[33m decorated with tf.function.\u001b[39m\u001b[33m\"\u001b[39m)\n",
      "\u001b[36mFile \u001b[39m\u001b[32mc:\\Users\\ic2594\\AppData\\Local\\miniconda3\\Lib\\site-packages\\tensorflow\\python\\eager\\polymorphic_function\\tracing_compilation.py:139\u001b[39m, in \u001b[36mcall_function\u001b[39m\u001b[34m(args, kwargs, tracing_options)\u001b[39m\n\u001b[32m    137\u001b[39m bound_args = function.function_type.bind(*args, **kwargs)\n\u001b[32m    138\u001b[39m flat_inputs = function.function_type.unpack_inputs(bound_args)\n\u001b[32m--> \u001b[39m\u001b[32m139\u001b[39m \u001b[38;5;28;01mreturn\u001b[39;00m \u001b[43mfunction\u001b[49m\u001b[43m.\u001b[49m\u001b[43m_call_flat\u001b[49m\u001b[43m(\u001b[49m\u001b[43m  \u001b[49m\u001b[38;5;66;43;03m# pylint: disable=protected-access\u001b[39;49;00m\n\u001b[32m    140\u001b[39m \u001b[43m    \u001b[49m\u001b[43mflat_inputs\u001b[49m\u001b[43m,\u001b[49m\u001b[43m \u001b[49m\u001b[43mcaptured_inputs\u001b[49m\u001b[43m=\u001b[49m\u001b[43mfunction\u001b[49m\u001b[43m.\u001b[49m\u001b[43mcaptured_inputs\u001b[49m\n\u001b[32m    141\u001b[39m \u001b[43m\u001b[49m\u001b[43m)\u001b[49m\n",
      "\u001b[36mFile \u001b[39m\u001b[32mc:\\Users\\ic2594\\AppData\\Local\\miniconda3\\Lib\\site-packages\\tensorflow\\python\\eager\\polymorphic_function\\concrete_function.py:1322\u001b[39m, in \u001b[36mConcreteFunction._call_flat\u001b[39m\u001b[34m(self, tensor_inputs, captured_inputs)\u001b[39m\n\u001b[32m   1318\u001b[39m possible_gradient_type = gradients_util.PossibleTapeGradientTypes(args)\n\u001b[32m   1319\u001b[39m \u001b[38;5;28;01mif\u001b[39;00m (possible_gradient_type == gradients_util.POSSIBLE_GRADIENT_TYPES_NONE\n\u001b[32m   1320\u001b[39m     \u001b[38;5;129;01mand\u001b[39;00m executing_eagerly):\n\u001b[32m   1321\u001b[39m   \u001b[38;5;66;03m# No tape is watching; skip to running the function.\u001b[39;00m\n\u001b[32m-> \u001b[39m\u001b[32m1322\u001b[39m   \u001b[38;5;28;01mreturn\u001b[39;00m \u001b[38;5;28;43mself\u001b[39;49m\u001b[43m.\u001b[49m\u001b[43m_inference_function\u001b[49m\u001b[43m.\u001b[49m\u001b[43mcall_preflattened\u001b[49m\u001b[43m(\u001b[49m\u001b[43margs\u001b[49m\u001b[43m)\u001b[49m\n\u001b[32m   1323\u001b[39m forward_backward = \u001b[38;5;28mself\u001b[39m._select_forward_and_backward_functions(\n\u001b[32m   1324\u001b[39m     args,\n\u001b[32m   1325\u001b[39m     possible_gradient_type,\n\u001b[32m   1326\u001b[39m     executing_eagerly)\n\u001b[32m   1327\u001b[39m forward_function, args_with_tangents = forward_backward.forward()\n",
      "\u001b[36mFile \u001b[39m\u001b[32mc:\\Users\\ic2594\\AppData\\Local\\miniconda3\\Lib\\site-packages\\tensorflow\\python\\eager\\polymorphic_function\\atomic_function.py:216\u001b[39m, in \u001b[36mAtomicFunction.call_preflattened\u001b[39m\u001b[34m(self, args)\u001b[39m\n\u001b[32m    214\u001b[39m \u001b[38;5;28;01mdef\u001b[39;00m \u001b[34mcall_preflattened\u001b[39m(\u001b[38;5;28mself\u001b[39m, args: Sequence[core.Tensor]) -> Any:\n\u001b[32m    215\u001b[39m \u001b[38;5;250m  \u001b[39m\u001b[33;03m\"\"\"Calls with flattened tensor inputs and returns the structured output.\"\"\"\u001b[39;00m\n\u001b[32m--> \u001b[39m\u001b[32m216\u001b[39m   flat_outputs = \u001b[38;5;28;43mself\u001b[39;49m\u001b[43m.\u001b[49m\u001b[43mcall_flat\u001b[49m\u001b[43m(\u001b[49m\u001b[43m*\u001b[49m\u001b[43margs\u001b[49m\u001b[43m)\u001b[49m\n\u001b[32m    217\u001b[39m   \u001b[38;5;28;01mreturn\u001b[39;00m \u001b[38;5;28mself\u001b[39m.function_type.pack_output(flat_outputs)\n",
      "\u001b[36mFile \u001b[39m\u001b[32mc:\\Users\\ic2594\\AppData\\Local\\miniconda3\\Lib\\site-packages\\tensorflow\\python\\eager\\polymorphic_function\\atomic_function.py:251\u001b[39m, in \u001b[36mAtomicFunction.call_flat\u001b[39m\u001b[34m(self, *args)\u001b[39m\n\u001b[32m    249\u001b[39m \u001b[38;5;28;01mwith\u001b[39;00m record.stop_recording():\n\u001b[32m    250\u001b[39m   \u001b[38;5;28;01mif\u001b[39;00m \u001b[38;5;28mself\u001b[39m._bound_context.executing_eagerly():\n\u001b[32m--> \u001b[39m\u001b[32m251\u001b[39m     outputs = \u001b[38;5;28;43mself\u001b[39;49m\u001b[43m.\u001b[49m\u001b[43m_bound_context\u001b[49m\u001b[43m.\u001b[49m\u001b[43mcall_function\u001b[49m\u001b[43m(\u001b[49m\n\u001b[32m    252\u001b[39m \u001b[43m        \u001b[49m\u001b[38;5;28;43mself\u001b[39;49m\u001b[43m.\u001b[49m\u001b[43mname\u001b[49m\u001b[43m,\u001b[49m\n\u001b[32m    253\u001b[39m \u001b[43m        \u001b[49m\u001b[38;5;28;43mlist\u001b[39;49m\u001b[43m(\u001b[49m\u001b[43margs\u001b[49m\u001b[43m)\u001b[49m\u001b[43m,\u001b[49m\n\u001b[32m    254\u001b[39m \u001b[43m        \u001b[49m\u001b[38;5;28;43mlen\u001b[39;49m\u001b[43m(\u001b[49m\u001b[38;5;28;43mself\u001b[39;49m\u001b[43m.\u001b[49m\u001b[43mfunction_type\u001b[49m\u001b[43m.\u001b[49m\u001b[43mflat_outputs\u001b[49m\u001b[43m)\u001b[49m\u001b[43m,\u001b[49m\n\u001b[32m    255\u001b[39m \u001b[43m    \u001b[49m\u001b[43m)\u001b[49m\n\u001b[32m    256\u001b[39m   \u001b[38;5;28;01melse\u001b[39;00m:\n\u001b[32m    257\u001b[39m     outputs = make_call_op_in_graph(\n\u001b[32m    258\u001b[39m         \u001b[38;5;28mself\u001b[39m,\n\u001b[32m    259\u001b[39m         \u001b[38;5;28mlist\u001b[39m(args),\n\u001b[32m    260\u001b[39m         \u001b[38;5;28mself\u001b[39m._bound_context.function_call_options.as_attrs(),\n\u001b[32m    261\u001b[39m     )\n",
      "\u001b[36mFile \u001b[39m\u001b[32mc:\\Users\\ic2594\\AppData\\Local\\miniconda3\\Lib\\site-packages\\tensorflow\\python\\eager\\context.py:1688\u001b[39m, in \u001b[36mContext.call_function\u001b[39m\u001b[34m(self, name, tensor_inputs, num_outputs)\u001b[39m\n\u001b[32m   1686\u001b[39m cancellation_context = cancellation.context()\n\u001b[32m   1687\u001b[39m \u001b[38;5;28;01mif\u001b[39;00m cancellation_context \u001b[38;5;129;01mis\u001b[39;00m \u001b[38;5;28;01mNone\u001b[39;00m:\n\u001b[32m-> \u001b[39m\u001b[32m1688\u001b[39m   outputs = \u001b[43mexecute\u001b[49m\u001b[43m.\u001b[49m\u001b[43mexecute\u001b[49m\u001b[43m(\u001b[49m\n\u001b[32m   1689\u001b[39m \u001b[43m      \u001b[49m\u001b[43mname\u001b[49m\u001b[43m.\u001b[49m\u001b[43mdecode\u001b[49m\u001b[43m(\u001b[49m\u001b[33;43m\"\u001b[39;49m\u001b[33;43mutf-8\u001b[39;49m\u001b[33;43m\"\u001b[39;49m\u001b[43m)\u001b[49m\u001b[43m,\u001b[49m\n\u001b[32m   1690\u001b[39m \u001b[43m      \u001b[49m\u001b[43mnum_outputs\u001b[49m\u001b[43m=\u001b[49m\u001b[43mnum_outputs\u001b[49m\u001b[43m,\u001b[49m\n\u001b[32m   1691\u001b[39m \u001b[43m      \u001b[49m\u001b[43minputs\u001b[49m\u001b[43m=\u001b[49m\u001b[43mtensor_inputs\u001b[49m\u001b[43m,\u001b[49m\n\u001b[32m   1692\u001b[39m \u001b[43m      \u001b[49m\u001b[43mattrs\u001b[49m\u001b[43m=\u001b[49m\u001b[43mattrs\u001b[49m\u001b[43m,\u001b[49m\n\u001b[32m   1693\u001b[39m \u001b[43m      \u001b[49m\u001b[43mctx\u001b[49m\u001b[43m=\u001b[49m\u001b[38;5;28;43mself\u001b[39;49m\u001b[43m,\u001b[49m\n\u001b[32m   1694\u001b[39m \u001b[43m  \u001b[49m\u001b[43m)\u001b[49m\n\u001b[32m   1695\u001b[39m \u001b[38;5;28;01melse\u001b[39;00m:\n\u001b[32m   1696\u001b[39m   outputs = execute.execute_with_cancellation(\n\u001b[32m   1697\u001b[39m       name.decode(\u001b[33m\"\u001b[39m\u001b[33mutf-8\u001b[39m\u001b[33m\"\u001b[39m),\n\u001b[32m   1698\u001b[39m       num_outputs=num_outputs,\n\u001b[32m   (...)\u001b[39m\u001b[32m   1702\u001b[39m       cancellation_manager=cancellation_context,\n\u001b[32m   1703\u001b[39m   )\n",
      "\u001b[36mFile \u001b[39m\u001b[32mc:\\Users\\ic2594\\AppData\\Local\\miniconda3\\Lib\\site-packages\\tensorflow\\python\\eager\\execute.py:53\u001b[39m, in \u001b[36mquick_execute\u001b[39m\u001b[34m(op_name, num_outputs, inputs, attrs, ctx, name)\u001b[39m\n\u001b[32m     51\u001b[39m \u001b[38;5;28;01mtry\u001b[39;00m:\n\u001b[32m     52\u001b[39m   ctx.ensure_initialized()\n\u001b[32m---> \u001b[39m\u001b[32m53\u001b[39m   tensors = \u001b[43mpywrap_tfe\u001b[49m\u001b[43m.\u001b[49m\u001b[43mTFE_Py_Execute\u001b[49m\u001b[43m(\u001b[49m\u001b[43mctx\u001b[49m\u001b[43m.\u001b[49m\u001b[43m_handle\u001b[49m\u001b[43m,\u001b[49m\u001b[43m \u001b[49m\u001b[43mdevice_name\u001b[49m\u001b[43m,\u001b[49m\u001b[43m \u001b[49m\u001b[43mop_name\u001b[49m\u001b[43m,\u001b[49m\n\u001b[32m     54\u001b[39m \u001b[43m                                      \u001b[49m\u001b[43minputs\u001b[49m\u001b[43m,\u001b[49m\u001b[43m \u001b[49m\u001b[43mattrs\u001b[49m\u001b[43m,\u001b[49m\u001b[43m \u001b[49m\u001b[43mnum_outputs\u001b[49m\u001b[43m)\u001b[49m\n\u001b[32m     55\u001b[39m \u001b[38;5;28;01mexcept\u001b[39;00m core._NotOkStatusException \u001b[38;5;28;01mas\u001b[39;00m e:\n\u001b[32m     56\u001b[39m   \u001b[38;5;28;01mif\u001b[39;00m name \u001b[38;5;129;01mis\u001b[39;00m \u001b[38;5;129;01mnot\u001b[39;00m \u001b[38;5;28;01mNone\u001b[39;00m:\n",
      "\u001b[31mKeyboardInterrupt\u001b[39m: "
     ]
    }
   ],
   "source": [
    "import json\n",
    "import optuna\n",
    "from IPython.display import display, HTML\n",
    "import joblib\n",
    "\n",
    "importlib.reload(LSTM_returns)\n",
    "\n",
    "Log = []\n",
    "\n",
    "def objective(trial):\n",
    "    entry = {}\n",
    "    # Example of hyperparameter suggestions\n",
    "    hyperparams = {\n",
    "        'lstm_units': trial.suggest_int('lstm_units', 50, 90),\n",
    "        'num_layers': trial.suggest_int('num_layers', 3, 5),\n",
    "        'epochs': 1,\n",
    "        'batch_size': trial.suggest_categorical('batch_size', [32, 64, 128]),\n",
    "        'dropout': trial.suggest_int('dropout_rate', 0, 2) / 20,\n",
    "        'learning_rate': trial.suggest_categorical('learning_rate', [0.00001, 0.0001, 0.001, 0.01, 0.1]),\n",
    "        'LSTM_activation': trial.suggest_categorical('lstm_activation', ['relu', 'tanh']),\n",
    "        '__+ABD_exceptLast': False,\n",
    "        '__finalAct': 'sigmoid',\n",
    "        'optimizer': 'adam',\n",
    "        'features': trial.suggest_categorical('features', ['all', 'simple', 'nosentiment']),\n",
    "        # 'loss': trial.suggest_categorical('loss', ['mean_squared_error', 'mean_absolute_error', 'huber']),\n",
    "    }\n",
    "    episode_lengths = trial.suggest_int('episode_length', 10, 60)\n",
    "    hyperparams['episode_length'] = episode_lengths\n",
    "    hyperparams['layers'] = [hyperparams['lstm_units']] * hyperparams['num_layers']\n",
    "    hyperparams['loss'] = 'mean_squared_error'\n",
    "    # hyperparams['batch_size'] = 128\n",
    "    # hyperparams['epochs'] = 1  # Set to 1 for quick testing; increase for actual training\n",
    "\n",
    "    \n",
    "    # Placeholder for model training and evaluation\n",
    "    features = {\n",
    "        'all': DF_features,\n",
    "        'simple': DF_features_simple,\n",
    "        'nosentiment': DF_features_nosentiment\n",
    "    }[hyperparams['features']]\n",
    "\n",
    "    train_X_y = LSTM_returns.vectorize_train_data(DF, features=features, episode_length=episode_lengths)\n",
    "    hyperparams['input_shape'] = train_X_y['train_X'].shape[1:]\n",
    "    \n",
    "    LSTM = LSTM_returns.create(hyperparams)\n",
    "    results = LSTM_returns.train(LSTM, hyperparams, train_X_y, evaluateAtEnd=False)\n",
    "\n",
    "    entry['hyperparams'] = hyperparams\n",
    "    entry['results'] = results\n",
    "    entry['plot-title'] = f\"EL: {episode_lengths}; HP: {json.dumps(hyperparams)}\"\n",
    "    entry['model'] = LSTM\n",
    "    entry['train_X_y'] = train_X_y\n",
    "    Log.append(entry)\n",
    "\n",
    "    return results.history['loss'][-1]  # Return the last loss value as the score\n",
    "\n",
    "\n",
    "# Example Optuna study\n",
    "study = optuna.create_study(direction='minimize')  # or 'maximize' depending on the objective\n",
    "\n",
    "trial_supplement = []\n",
    "\n",
    "for i in range(50):\n",
    "    study.optimize(objective, n_trials=1)\n",
    "\n",
    "    # best_entry = [\n",
    "    #     entry for entry in Log if entry['results'].history['loss'][-1] == study.best_value\n",
    "    # ][-1]\n",
    "\n",
    "    latest_entry = Log[-1]\n",
    "    Log = []\n",
    "\n",
    "    # Print the best hyperparameters\n",
    "    # Display the best hyperparameters and score in purple\n",
    "    display(HTML(f\"\"\"\n",
    "    <div style=\"color: purple; background: orange; font-weight: bold;\">\n",
    "        Trial {i*10+1} completed.<br>\n",
    "        Best hyperparameters: {study.best_params}<br>\n",
    "        Best score (MSE): {study.best_value}<br>\n",
    "    </div>\n",
    "    \"\"\"))\n",
    "\n",
    "    # Display the best entry plot\n",
    "    plt = LSTM_returns.all_folds_plot(\n",
    "        latest_entry['model'], latest_entry['train_X_y']\n",
    "    )\n",
    "    plt.title(latest_entry['plot-title'][:175])\n",
    "    print(latest_entry['plot-title'])\n",
    "\n",
    "    file_name = f\"trials-after-1.6/stupid {i*10+1:05}.png\"\n",
    "    plt.savefig(file_name, dpi=150, bbox_inches='tight')\n",
    "    trial_supplement.append({'file_name': file_name})\n",
    "    plt.close()"
   ]
  },
  {
   "cell_type": "code",
   "execution_count": 15,
   "id": "904a78c8",
   "metadata": {},
   "outputs": [
    {
     "data": {
      "text/html": [
       "<div>\n",
       "<style scoped>\n",
       "    .dataframe tbody tr th:only-of-type {\n",
       "        vertical-align: middle;\n",
       "    }\n",
       "\n",
       "    .dataframe tbody tr th {\n",
       "        vertical-align: top;\n",
       "    }\n",
       "\n",
       "    .dataframe thead th {\n",
       "        text-align: right;\n",
       "    }\n",
       "</style>\n",
       "<table border=\"1\" class=\"dataframe\">\n",
       "  <thead>\n",
       "    <tr style=\"text-align: right;\">\n",
       "      <th></th>\n",
       "      <th>lstm_units</th>\n",
       "      <th>num_layers</th>\n",
       "      <th>batch_size</th>\n",
       "      <th>dropout_rate</th>\n",
       "      <th>learning_rate</th>\n",
       "      <th>lstm_activation</th>\n",
       "      <th>features</th>\n",
       "      <th>episode_length</th>\n",
       "      <th>score (MSE)</th>\n",
       "      <th>file</th>\n",
       "    </tr>\n",
       "  </thead>\n",
       "  <tbody>\n",
       "    <tr>\n",
       "      <th>0</th>\n",
       "      <td>76</td>\n",
       "      <td>3</td>\n",
       "      <td>128</td>\n",
       "      <td>1</td>\n",
       "      <td>0.01</td>\n",
       "      <td>tanh</td>\n",
       "      <td>all</td>\n",
       "      <td>50</td>\n",
       "      <td>0.002995</td>\n",
       "      <td>trials-after-1.6/stupid 00001.png</td>\n",
       "    </tr>\n",
       "  </tbody>\n",
       "</table>\n",
       "</div>"
      ],
      "text/plain": [
       "   lstm_units  num_layers  batch_size  dropout_rate  learning_rate  \\\n",
       "0          76           3         128             1           0.01   \n",
       "\n",
       "  lstm_activation features  episode_length  score (MSE)  \\\n",
       "0            tanh      all              50     0.002995   \n",
       "\n",
       "                                file  \n",
       "0  trials-after-1.6/stupid 00001.png  "
      ]
     },
     "execution_count": 15,
     "metadata": {},
     "output_type": "execute_result"
    }
   ],
   "source": [
    "# Extract trial parameters and results\n",
    "trials_data = [\n",
    "    {**trial.params, 'score (MSE)': trial.value, 'file': supplement.get('file_name', '')}\n",
    "    for (trial, supplement) in zip(study.trials, trial_supplement)\n",
    "]\n",
    "\n",
    "# Convert to a DataFrame\n",
    "trials_df = pd.DataFrame(trials_data)\n",
    "\n",
    "# Display the DataFrame\n",
    "df = trials_df.sort_values(by=\"score (MSE)\")\n",
    "df.to_csv('trials_results.csv', index=False)\n",
    "df"
   ]
  }
 ],
 "metadata": {
  "kernelspec": {
   "display_name": "base",
   "language": "python",
   "name": "python3"
  },
  "language_info": {
   "codemirror_mode": {
    "name": "ipython",
    "version": 3
   },
   "file_extension": ".py",
   "mimetype": "text/x-python",
   "name": "python",
   "nbconvert_exporter": "python",
   "pygments_lexer": "ipython3",
   "version": "3.12.9"
  }
 },
 "nbformat": 4,
 "nbformat_minor": 5
}
