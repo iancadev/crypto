{
 "cells": [
  {
   "cell_type": "code",
   "execution_count": 1,
   "id": "913f26b7",
   "metadata": {},
   "outputs": [
    {
     "name": "stderr",
     "output_type": "stream",
     "text": [
      "c:\\Users\\ic2594\\AppData\\Local\\miniconda3\\Lib\\site-packages\\tqdm\\auto.py:21: TqdmWarning: IProgress not found. Please update jupyter and ipywidgets. See https://ipywidgets.readthedocs.io/en/stable/user_install.html\n",
      "  from .autonotebook import tqdm as notebook_tqdm\n"
     ]
    }
   ],
   "source": [
    "import optuna\n",
    "from keras.optimizers import Adam, RMSprop\n",
    "from keras.models import Sequential\n",
    "from keras.layers import LSTM, Dense\n",
    "from sklearn.model_selection import train_test_split\n",
    "from sklearn.metrics import mean_squared_error"
   ]
  },
  {
   "cell_type": "code",
   "execution_count": 2,
   "id": "2f3f7353",
   "metadata": {},
   "outputs": [
    {
     "data": {
      "text/plain": [
       "<module 'data' from 'c:\\\\Users\\\\ic2594\\\\crypto\\\\AAA_Thursday1\\\\data\\\\__init__.py'>"
      ]
     },
     "execution_count": 2,
     "metadata": {},
     "output_type": "execute_result"
    }
   ],
   "source": [
    "import importlib\n",
    "from __imports__ import *\n",
    "import data, LSTM_returns, optimization\n",
    "importlib.reload(data)"
   ]
  },
  {
   "cell_type": "code",
   "execution_count": 3,
   "id": "d50e127e",
   "metadata": {},
   "outputs": [
    {
     "data": {
      "text/html": [
       "<div>\n",
       "<style scoped>\n",
       "    .dataframe tbody tr th:only-of-type {\n",
       "        vertical-align: middle;\n",
       "    }\n",
       "\n",
       "    .dataframe tbody tr th {\n",
       "        vertical-align: top;\n",
       "    }\n",
       "\n",
       "    .dataframe thead th {\n",
       "        text-align: right;\n",
       "    }\n",
       "</style>\n",
       "<table border=\"1\" class=\"dataframe\">\n",
       "  <thead>\n",
       "    <tr style=\"text-align: right;\">\n",
       "      <th></th>\n",
       "      <th>Open</th>\n",
       "      <th>High</th>\n",
       "      <th>Low</th>\n",
       "      <th>Close</th>\n",
       "      <th>Volume</th>\n",
       "      <th>Quote asset volume</th>\n",
       "      <th>Number of trades</th>\n",
       "      <th>Taker buy base asset volume</th>\n",
       "      <th>Taker buy quote asset volume</th>\n",
       "      <th>F&amp;G</th>\n",
       "      <th>F&amp;G category</th>\n",
       "    </tr>\n",
       "    <tr>\n",
       "      <th>Open time</th>\n",
       "      <th></th>\n",
       "      <th></th>\n",
       "      <th></th>\n",
       "      <th></th>\n",
       "      <th></th>\n",
       "      <th></th>\n",
       "      <th></th>\n",
       "      <th></th>\n",
       "      <th></th>\n",
       "      <th></th>\n",
       "      <th></th>\n",
       "    </tr>\n",
       "  </thead>\n",
       "  <tbody>\n",
       "    <tr>\n",
       "      <th>2020-08-11</th>\n",
       "      <td>2.8500</td>\n",
       "      <td>3.5208</td>\n",
       "      <td>2.8433</td>\n",
       "      <td>3.2985</td>\n",
       "      <td>1552384.78</td>\n",
       "      <td>4.939149e+06</td>\n",
       "      <td>13490</td>\n",
       "      <td>741770.79</td>\n",
       "      <td>2.370193e+06</td>\n",
       "      <td>84.0</td>\n",
       "      <td>Extreme Greed</td>\n",
       "    </tr>\n",
       "    <tr>\n",
       "      <th>2020-08-12</th>\n",
       "      <td>3.2985</td>\n",
       "      <td>3.9289</td>\n",
       "      <td>3.0800</td>\n",
       "      <td>3.7558</td>\n",
       "      <td>1737042.95</td>\n",
       "      <td>6.176154e+06</td>\n",
       "      <td>21118</td>\n",
       "      <td>889133.50</td>\n",
       "      <td>3.161944e+06</td>\n",
       "      <td>75.0</td>\n",
       "      <td>Greed</td>\n",
       "    </tr>\n",
       "    <tr>\n",
       "      <th>2020-08-13</th>\n",
       "      <td>3.7500</td>\n",
       "      <td>4.1387</td>\n",
       "      <td>3.5003</td>\n",
       "      <td>3.7300</td>\n",
       "      <td>1685759.24</td>\n",
       "      <td>6.446568e+06</td>\n",
       "      <td>22922</td>\n",
       "      <td>716358.46</td>\n",
       "      <td>2.755765e+06</td>\n",
       "      <td>75.0</td>\n",
       "      <td>Greed</td>\n",
       "    </tr>\n",
       "    <tr>\n",
       "      <th>2020-08-14</th>\n",
       "      <td>3.7207</td>\n",
       "      <td>3.7676</td>\n",
       "      <td>3.3210</td>\n",
       "      <td>3.4099</td>\n",
       "      <td>1474161.79</td>\n",
       "      <td>5.205834e+06</td>\n",
       "      <td>18581</td>\n",
       "      <td>578651.84</td>\n",
       "      <td>2.048897e+06</td>\n",
       "      <td>78.0</td>\n",
       "      <td>Extreme Greed</td>\n",
       "    </tr>\n",
       "    <tr>\n",
       "      <th>2020-08-15</th>\n",
       "      <td>3.4181</td>\n",
       "      <td>3.7400</td>\n",
       "      <td>3.1500</td>\n",
       "      <td>3.1730</td>\n",
       "      <td>1070233.20</td>\n",
       "      <td>3.658006e+06</td>\n",
       "      <td>13903</td>\n",
       "      <td>439623.97</td>\n",
       "      <td>1.510473e+06</td>\n",
       "      <td>79.0</td>\n",
       "      <td>Extreme Greed</td>\n",
       "    </tr>\n",
       "  </tbody>\n",
       "</table>\n",
       "</div>"
      ],
      "text/plain": [
       "              Open    High     Low   Close      Volume  Quote asset volume  \\\n",
       "Open time                                                                    \n",
       "2020-08-11  2.8500  3.5208  2.8433  3.2985  1552384.78        4.939149e+06   \n",
       "2020-08-12  3.2985  3.9289  3.0800  3.7558  1737042.95        6.176154e+06   \n",
       "2020-08-13  3.7500  4.1387  3.5003  3.7300  1685759.24        6.446568e+06   \n",
       "2020-08-14  3.7207  3.7676  3.3210  3.4099  1474161.79        5.205834e+06   \n",
       "2020-08-15  3.4181  3.7400  3.1500  3.1730  1070233.20        3.658006e+06   \n",
       "\n",
       "            Number of trades  Taker buy base asset volume  \\\n",
       "Open time                                                   \n",
       "2020-08-11             13490                    741770.79   \n",
       "2020-08-12             21118                    889133.50   \n",
       "2020-08-13             22922                    716358.46   \n",
       "2020-08-14             18581                    578651.84   \n",
       "2020-08-15             13903                    439623.97   \n",
       "\n",
       "            Taker buy quote asset volume   F&G   F&G category  \n",
       "Open time                                                      \n",
       "2020-08-11                  2.370193e+06  84.0  Extreme Greed  \n",
       "2020-08-12                  3.161944e+06  75.0          Greed  \n",
       "2020-08-13                  2.755765e+06  75.0          Greed  \n",
       "2020-08-14                  2.048897e+06  78.0  Extreme Greed  \n",
       "2020-08-15                  1.510473e+06  79.0  Extreme Greed  "
      ]
     },
     "execution_count": 3,
     "metadata": {},
     "output_type": "execute_result"
    }
   ],
   "source": [
    "sol = data.load_asset('SOLUSDT', sampling='1d')\n",
    "sol = data.add_fear_and_greed(sol)\n",
    "# Restrict data after 2022\n",
    "sol = sol[sol.index >= '2020-01-01']\n",
    "sol.head()"
   ]
  },
  {
   "cell_type": "code",
   "execution_count": 15,
   "id": "622338d0",
   "metadata": {},
   "outputs": [
    {
     "data": {
      "text/plain": [
       "Index(['Open', 'High', 'Low', 'Close', 'Volume', 'Quote asset volume',\n",
       "       'Number of trades', 'Taker buy base asset volume',\n",
       "       'Taker buy quote asset volume', 'F&G', 'F&G category'],\n",
       "      dtype='object')"
      ]
     },
     "execution_count": 15,
     "metadata": {},
     "output_type": "execute_result"
    }
   ],
   "source": [
    "sol.columns"
   ]
  },
  {
   "cell_type": "code",
   "execution_count": 4,
   "id": "398347ad",
   "metadata": {},
   "outputs": [],
   "source": [
    "import numpy as np\n",
    "import pandas as pd\n",
    "import ta  # pip install ta\n",
    "\n",
    "def compute_slope(series):\n",
    "    y = series.values\n",
    "    x = np.arange(len(y))\n",
    "    if len(y) == 0:\n",
    "        return np.nan\n",
    "    return np.polyfit(x, y, 1)[0]\n",
    "\n",
    "def add_technical_features(df, look_back=14):\n",
    "    df = df.copy()  # avoid modifying original\n",
    "\n",
    "    # Return: Daily log return\n",
    "    df['Return'] = np.log(df['Close'] / df['Close'].shift(1))\n",
    "\n",
    "    # Risk: Rolling std dev (volatility)\n",
    "    df['Risk'] = df['Return'].rolling(window=look_back).std()\n",
    "\n",
    "    # RSI\n",
    "    df['RSI'] = ta.momentum.RSIIndicator(close=df['Close'], window=look_back).rsi()\n",
    "\n",
    "    # ADX\n",
    "    df['ADX'] = ta.trend.ADXIndicator(high=df['High'], low=df['Low'], close=df['Close'], window=look_back).adx()\n",
    "\n",
    "    # Momentum\n",
    "    df['MOM'] = df['Close'] - df['Close'].shift(look_back)\n",
    "\n",
    "    # High-low spread\n",
    "    df['HL'] = df['High'] - df['Low']\n",
    "\n",
    "    # High-open & low-open\n",
    "    df['HO'] = df['High'] - df['Open']\n",
    "    df['LO'] = df['Low'] - df['Open']\n",
    "\n",
    "    # Buy pressure ratio\n",
    "    df['buy_pressure_ratio'] = df['Taker buy quote asset volume'] / df['Quote asset volume']\n",
    "\n",
    "    # Trades per volume\n",
    "    df['trades_per_volume'] = df['Number of trades'] / df['Quote asset volume']\n",
    "\n",
    "    # Rolling slope\n",
    "    df['slope'] = df['Close'].rolling(window=look_back).apply(compute_slope, raw=False)\n",
    "\n",
    "    # Drop NaN from lookback window\n",
    "    df = df.dropna()\n",
    "\n",
    "    # Drop unnecessary columns\n",
    "    cols_to_drop = [\n",
    "        'Open', 'High', 'Low', 'Quote asset volume',\n",
    "        'Number of trades', 'Taker buy base asset volume',\n",
    "        'Taker buy quote asset volume', 'F&G'\n",
    "    ]\n",
    "    df = df.drop(columns=[col for col in cols_to_drop if col in df.columns])\n",
    "\n",
    "    return df\n"
   ]
  },
  {
   "cell_type": "code",
   "execution_count": 17,
   "id": "a9a21f2f",
   "metadata": {},
   "outputs": [
    {
     "data": {
      "text/html": [
       "<div>\n",
       "<style scoped>\n",
       "    .dataframe tbody tr th:only-of-type {\n",
       "        vertical-align: middle;\n",
       "    }\n",
       "\n",
       "    .dataframe tbody tr th {\n",
       "        vertical-align: top;\n",
       "    }\n",
       "\n",
       "    .dataframe thead th {\n",
       "        text-align: right;\n",
       "    }\n",
       "</style>\n",
       "<table border=\"1\" class=\"dataframe\">\n",
       "  <thead>\n",
       "    <tr style=\"text-align: right;\">\n",
       "      <th></th>\n",
       "      <th>Close</th>\n",
       "      <th>Volume</th>\n",
       "      <th>F&amp;G category</th>\n",
       "      <th>Return</th>\n",
       "      <th>Risk</th>\n",
       "      <th>RSI</th>\n",
       "      <th>ADX</th>\n",
       "      <th>MOM</th>\n",
       "      <th>HL</th>\n",
       "      <th>HO</th>\n",
       "      <th>LO</th>\n",
       "      <th>buy_pressure_ratio</th>\n",
       "      <th>trades_per_volume</th>\n",
       "      <th>slope</th>\n",
       "    </tr>\n",
       "    <tr>\n",
       "      <th>Open time</th>\n",
       "      <th></th>\n",
       "      <th></th>\n",
       "      <th></th>\n",
       "      <th></th>\n",
       "      <th></th>\n",
       "      <th></th>\n",
       "      <th></th>\n",
       "      <th></th>\n",
       "      <th></th>\n",
       "      <th></th>\n",
       "      <th></th>\n",
       "      <th></th>\n",
       "      <th></th>\n",
       "      <th></th>\n",
       "    </tr>\n",
       "  </thead>\n",
       "  <tbody>\n",
       "    <tr>\n",
       "      <th>2020-08-25</th>\n",
       "      <td>3.2500</td>\n",
       "      <td>1149187.37</td>\n",
       "      <td>Greed</td>\n",
       "      <td>-0.027466</td>\n",
       "      <td>0.085476</td>\n",
       "      <td>49.797443</td>\n",
       "      <td>0.0</td>\n",
       "      <td>-0.0485</td>\n",
       "      <td>0.3653</td>\n",
       "      <td>0.0248</td>\n",
       "      <td>-0.3405</td>\n",
       "      <td>0.414953</td>\n",
       "      <td>0.003919</td>\n",
       "      <td>-0.034897</td>\n",
       "    </tr>\n",
       "    <tr>\n",
       "      <th>2020-08-26</th>\n",
       "      <td>3.5684</td>\n",
       "      <td>2290030.56</td>\n",
       "      <td>Extreme Greed</td>\n",
       "      <td>0.093462</td>\n",
       "      <td>0.081659</td>\n",
       "      <td>57.152129</td>\n",
       "      <td>0.0</td>\n",
       "      <td>-0.1874</td>\n",
       "      <td>0.6190</td>\n",
       "      <td>0.5423</td>\n",
       "      <td>-0.0767</td>\n",
       "      <td>0.548917</td>\n",
       "      <td>0.002973</td>\n",
       "      <td>-0.010371</td>\n",
       "    </tr>\n",
       "    <tr>\n",
       "      <th>2020-08-27</th>\n",
       "      <td>3.4501</td>\n",
       "      <td>2412974.80</td>\n",
       "      <td>Greed</td>\n",
       "      <td>-0.033714</td>\n",
       "      <td>0.082054</td>\n",
       "      <td>53.987465</td>\n",
       "      <td>0.0</td>\n",
       "      <td>-0.2799</td>\n",
       "      <td>0.6141</td>\n",
       "      <td>0.3018</td>\n",
       "      <td>-0.3123</td>\n",
       "      <td>0.482751</td>\n",
       "      <td>0.003006</td>\n",
       "      <td>0.010749</td>\n",
       "    </tr>\n",
       "    <tr>\n",
       "      <th>2020-08-28</th>\n",
       "      <td>4.0063</td>\n",
       "      <td>2581936.84</td>\n",
       "      <td>Greed</td>\n",
       "      <td>0.149465</td>\n",
       "      <td>0.087879</td>\n",
       "      <td>64.062997</td>\n",
       "      <td>0.0</td>\n",
       "      <td>0.5964</td>\n",
       "      <td>0.8588</td>\n",
       "      <td>0.8588</td>\n",
       "      <td>0.0000</td>\n",
       "      <td>0.548365</td>\n",
       "      <td>0.003016</td>\n",
       "      <td>0.038438</td>\n",
       "    </tr>\n",
       "    <tr>\n",
       "      <th>2020-08-29</th>\n",
       "      <td>3.9535</td>\n",
       "      <td>1342844.20</td>\n",
       "      <td>Extreme Greed</td>\n",
       "      <td>-0.013267</td>\n",
       "      <td>0.084938</td>\n",
       "      <td>62.660274</td>\n",
       "      <td>0.0</td>\n",
       "      <td>0.7805</td>\n",
       "      <td>0.3373</td>\n",
       "      <td>0.1051</td>\n",
       "      <td>-0.2322</td>\n",
       "      <td>0.440181</td>\n",
       "      <td>0.003651</td>\n",
       "      <td>0.054187</td>\n",
       "    </tr>\n",
       "  </tbody>\n",
       "</table>\n",
       "</div>"
      ],
      "text/plain": [
       "             Close      Volume   F&G category    Return      Risk        RSI  \\\n",
       "Open time                                                                      \n",
       "2020-08-25  3.2500  1149187.37          Greed -0.027466  0.085476  49.797443   \n",
       "2020-08-26  3.5684  2290030.56  Extreme Greed  0.093462  0.081659  57.152129   \n",
       "2020-08-27  3.4501  2412974.80          Greed -0.033714  0.082054  53.987465   \n",
       "2020-08-28  4.0063  2581936.84          Greed  0.149465  0.087879  64.062997   \n",
       "2020-08-29  3.9535  1342844.20  Extreme Greed -0.013267  0.084938  62.660274   \n",
       "\n",
       "            ADX     MOM      HL      HO      LO  buy_pressure_ratio  \\\n",
       "Open time                                                             \n",
       "2020-08-25  0.0 -0.0485  0.3653  0.0248 -0.3405            0.414953   \n",
       "2020-08-26  0.0 -0.1874  0.6190  0.5423 -0.0767            0.548917   \n",
       "2020-08-27  0.0 -0.2799  0.6141  0.3018 -0.3123            0.482751   \n",
       "2020-08-28  0.0  0.5964  0.8588  0.8588  0.0000            0.548365   \n",
       "2020-08-29  0.0  0.7805  0.3373  0.1051 -0.2322            0.440181   \n",
       "\n",
       "            trades_per_volume     slope  \n",
       "Open time                                \n",
       "2020-08-25           0.003919 -0.034897  \n",
       "2020-08-26           0.002973 -0.010371  \n",
       "2020-08-27           0.003006  0.010749  \n",
       "2020-08-28           0.003016  0.038438  \n",
       "2020-08-29           0.003651  0.054187  "
      ]
     },
     "execution_count": 17,
     "metadata": {},
     "output_type": "execute_result"
    }
   ],
   "source": [
    "sol = add_technical_features(sol)\n",
    "sol.head()"
   ]
  },
  {
   "cell_type": "code",
   "execution_count": 18,
   "id": "cd6e72ca",
   "metadata": {},
   "outputs": [
    {
     "data": {
      "text/plain": [
       "Index(['Close', 'Volume', 'F&G category', 'Return', 'Risk', 'RSI', 'ADX',\n",
       "       'MOM', 'HL', 'HO', 'LO', 'buy_pressure_ratio', 'trades_per_volume',\n",
       "       'slope'],\n",
       "      dtype='object')"
      ]
     },
     "execution_count": 18,
     "metadata": {},
     "output_type": "execute_result"
    }
   ],
   "source": [
    "sol.columns"
   ]
  },
  {
   "cell_type": "code",
   "execution_count": 19,
   "id": "b939388e",
   "metadata": {},
   "outputs": [],
   "source": [
    "def prep_data(df, sequence_length=60, test_size=0.2):\n",
    "    # 1) include 'Close' since that's what we'll predict\n",
    "    features = [\n",
    "        'Close',      # ← our prediction target\n",
    "        'Volume', 'F&G category', 'Return', 'Risk', 'RSI', 'ADX',\n",
    "        'MOM', 'HL', 'HO', 'LO',\n",
    "        'buy_pressure_ratio', 'trades_per_volume', 'slope'\n",
    "    ]\n",
    "    \n",
    "    # 2) split numeric vs categorical\n",
    "    num_feats = [f for f in features if f != 'F&G category']\n",
    "    df_num = df[num_feats]\n",
    "    df_cat = pd.get_dummies(df['F&G category'], prefix='F_G')\n",
    "    \n",
    "    # 3) combine & scale\n",
    "    df_all = pd.concat([df_num, df_cat], axis=1).dropna()\n",
    "    scaler = MinMaxScaler()\n",
    "    data_scaled = scaler.fit_transform(df_all.values)\n",
    "    feature_names = df_all.columns.tolist()\n",
    "    \n",
    "    # 4) build sequences for time-series\n",
    "    target_idx = feature_names.index('Close')\n",
    "    X, y = [], []\n",
    "    for i in range(sequence_length, len(data_scaled)):\n",
    "        X.append(data_scaled[i-sequence_length:i])\n",
    "        # y is the scaled Close price at time i (next day)\n",
    "        y.append(data_scaled[i, target_idx])\n",
    "    X, y = np.array(X), np.array(y)\n",
    "    \n",
    "    # 5) train/test split (preserving time order)\n",
    "    X_train, X_test, y_train, y_test = train_test_split(\n",
    "        X, y, test_size=test_size, shuffle=False\n",
    "    )\n",
    "    return (X_train, X_test, y_train, y_test), scaler\n",
    "\n"
   ]
  },
  {
   "cell_type": "code",
   "execution_count": 20,
   "id": "2586155f",
   "metadata": {},
   "outputs": [],
   "source": [
    "import matplotlib.pyplot as plt\n",
    "from tensorflow.keras.models import Sequential\n",
    "from tensorflow.keras.layers import Input, LSTM, Dense\n",
    "from tensorflow.keras.optimizers import Adam\n",
    "from tensorflow.keras.callbacks import EarlyStopping\n",
    "\n",
    "# ——— Hyperparameters (from Optuna) ———\n",
    "UNITS_L0      = 160\n",
    "DROPOUT_L0    = 0.0\n",
    "LEARNING_RATE = 0.0007280355873484089\n",
    "OPTIMIZER     = Adam(learning_rate=LEARNING_RATE)\n",
    "BATCH_SIZE    = 32\n",
    "MAX_EPOCHS    = 50\n",
    "\n",
    "def train_lstm_for_asset(df, sequence_length=30, test_size=0.2):\n",
    "    # … prep_data as before …\n",
    "    (X_train, X_val, y_train, y_val), scaler = prep_data(\n",
    "        df, sequence_length=sequence_length, test_size=test_size\n",
    "    )\n",
    "    \n",
    "    # Build the model\n",
    "    model = Sequential([\n",
    "        Input(shape=X_train.shape[1:]),\n",
    "        LSTM(UNITS_L0, return_sequences=False, dropout=DROPOUT_L0),\n",
    "        Dense(1, activation='linear')\n",
    "    ])\n",
    "    \n",
    "    # *** instantiate a new optimizer here, not reuse a global one ***\n",
    "    optimizer = Adam(learning_rate=LEARNING_RATE)\n",
    "    model.compile(optimizer=optimizer, loss='mean_squared_error')\n",
    "    \n",
    "    # Train\n",
    "    es = EarlyStopping(monitor='val_loss', patience=5, restore_best_weights=True)\n",
    "    history = model.fit(\n",
    "        X_train, y_train,\n",
    "        validation_data=(X_val, y_val),\n",
    "        epochs=MAX_EPOCHS,\n",
    "        batch_size=BATCH_SIZE,\n",
    "        callbacks=[es],\n",
    "        verbose=1\n",
    "    )\n",
    "    \n",
    "    return model, scaler, history, (X_val, y_val)\n",
    "\n",
    "# Example usage for any asset DataFrame `asset_df`:\n",
    "# model, scaler, history, (X_val, y_val) = train_lstm_for_asset(asset_df)\n",
    "\n",
    "# And to plot predictions vs actual:\n",
    "# preds = model.predict(X_val).flatten()\n",
    "# plt.figure(figsize=(10,5))\n",
    "# plt.plot(y_val,  label='Actual Close (scaled)')\n",
    "# plt.plot(preds, label='Predicted Close (scaled)')\n",
    "# plt.legend()\n",
    "# plt.title(\"LSTM Forecast (Scaled)\")\n",
    "# plt.show()"
   ]
  },
  {
   "cell_type": "code",
   "execution_count": 21,
   "id": "15a63f05",
   "metadata": {},
   "outputs": [
    {
     "data": {
      "text/html": [
       "<div>\n",
       "<style scoped>\n",
       "    .dataframe tbody tr th:only-of-type {\n",
       "        vertical-align: middle;\n",
       "    }\n",
       "\n",
       "    .dataframe tbody tr th {\n",
       "        vertical-align: top;\n",
       "    }\n",
       "\n",
       "    .dataframe thead th {\n",
       "        text-align: right;\n",
       "    }\n",
       "</style>\n",
       "<table border=\"1\" class=\"dataframe\">\n",
       "  <thead>\n",
       "    <tr style=\"text-align: right;\">\n",
       "      <th></th>\n",
       "      <th>Open</th>\n",
       "      <th>High</th>\n",
       "      <th>Low</th>\n",
       "      <th>Close</th>\n",
       "      <th>Volume</th>\n",
       "      <th>Quote asset volume</th>\n",
       "      <th>Number of trades</th>\n",
       "      <th>Taker buy base asset volume</th>\n",
       "      <th>Taker buy quote asset volume</th>\n",
       "    </tr>\n",
       "    <tr>\n",
       "      <th>Open time</th>\n",
       "      <th></th>\n",
       "      <th></th>\n",
       "      <th></th>\n",
       "      <th></th>\n",
       "      <th></th>\n",
       "      <th></th>\n",
       "      <th></th>\n",
       "      <th></th>\n",
       "      <th></th>\n",
       "    </tr>\n",
       "  </thead>\n",
       "  <tbody>\n",
       "    <tr>\n",
       "      <th>2020-09-17</th>\n",
       "      <td>0.3000</td>\n",
       "      <td>15.0000</td>\n",
       "      <td>0.3000</td>\n",
       "      <td>3.4617</td>\n",
       "      <td>1.025972e+08</td>\n",
       "      <td>3.337291e+08</td>\n",
       "      <td>660780</td>\n",
       "      <td>49916784.87</td>\n",
       "      <td>1.631750e+08</td>\n",
       "    </tr>\n",
       "    <tr>\n",
       "      <th>2020-09-18</th>\n",
       "      <td>3.4618</td>\n",
       "      <td>8.6000</td>\n",
       "      <td>3.2285</td>\n",
       "      <td>6.9000</td>\n",
       "      <td>1.676679e+08</td>\n",
       "      <td>1.000040e+09</td>\n",
       "      <td>1486593</td>\n",
       "      <td>85283759.81</td>\n",
       "      <td>5.082391e+08</td>\n",
       "    </tr>\n",
       "    <tr>\n",
       "      <th>2020-09-19</th>\n",
       "      <td>6.9000</td>\n",
       "      <td>7.4963</td>\n",
       "      <td>5.1900</td>\n",
       "      <td>5.7244</td>\n",
       "      <td>7.981451e+07</td>\n",
       "      <td>5.154502e+08</td>\n",
       "      <td>979043</td>\n",
       "      <td>38099403.63</td>\n",
       "      <td>2.465185e+08</td>\n",
       "    </tr>\n",
       "    <tr>\n",
       "      <th>2020-09-20</th>\n",
       "      <td>5.7244</td>\n",
       "      <td>6.0900</td>\n",
       "      <td>4.6500</td>\n",
       "      <td>5.2230</td>\n",
       "      <td>5.351973e+07</td>\n",
       "      <td>2.826816e+08</td>\n",
       "      <td>592785</td>\n",
       "      <td>26051761.15</td>\n",
       "      <td>1.376086e+08</td>\n",
       "    </tr>\n",
       "    <tr>\n",
       "      <th>2020-09-21</th>\n",
       "      <td>5.2200</td>\n",
       "      <td>5.6500</td>\n",
       "      <td>4.0600</td>\n",
       "      <td>4.2471</td>\n",
       "      <td>5.611050e+07</td>\n",
       "      <td>2.632497e+08</td>\n",
       "      <td>540477</td>\n",
       "      <td>26954893.82</td>\n",
       "      <td>1.263400e+08</td>\n",
       "    </tr>\n",
       "    <tr>\n",
       "      <th>...</th>\n",
       "      <td>...</td>\n",
       "      <td>...</td>\n",
       "      <td>...</td>\n",
       "      <td>...</td>\n",
       "      <td>...</td>\n",
       "      <td>...</td>\n",
       "      <td>...</td>\n",
       "      <td>...</td>\n",
       "      <td>...</td>\n",
       "    </tr>\n",
       "    <tr>\n",
       "      <th>2025-03-27</th>\n",
       "      <td>6.7240</td>\n",
       "      <td>6.9090</td>\n",
       "      <td>6.6510</td>\n",
       "      <td>6.7250</td>\n",
       "      <td>2.640107e+06</td>\n",
       "      <td>1.792577e+07</td>\n",
       "      <td>77911</td>\n",
       "      <td>1011624.93</td>\n",
       "      <td>6.874608e+06</td>\n",
       "    </tr>\n",
       "    <tr>\n",
       "      <th>2025-03-28</th>\n",
       "      <td>6.7270</td>\n",
       "      <td>6.8380</td>\n",
       "      <td>6.0490</td>\n",
       "      <td>6.1740</td>\n",
       "      <td>3.605760e+06</td>\n",
       "      <td>2.275314e+07</td>\n",
       "      <td>90664</td>\n",
       "      <td>1485113.51</td>\n",
       "      <td>9.353470e+06</td>\n",
       "    </tr>\n",
       "    <tr>\n",
       "      <th>2025-03-29</th>\n",
       "      <td>6.1740</td>\n",
       "      <td>6.2550</td>\n",
       "      <td>5.8630</td>\n",
       "      <td>5.9600</td>\n",
       "      <td>2.808038e+06</td>\n",
       "      <td>1.703279e+07</td>\n",
       "      <td>77417</td>\n",
       "      <td>1236609.43</td>\n",
       "      <td>7.490245e+06</td>\n",
       "    </tr>\n",
       "    <tr>\n",
       "      <th>2025-03-30</th>\n",
       "      <td>5.9600</td>\n",
       "      <td>6.0630</td>\n",
       "      <td>5.8040</td>\n",
       "      <td>5.8710</td>\n",
       "      <td>1.421718e+06</td>\n",
       "      <td>8.466992e+06</td>\n",
       "      <td>43562</td>\n",
       "      <td>717168.01</td>\n",
       "      <td>4.273385e+06</td>\n",
       "    </tr>\n",
       "    <tr>\n",
       "      <th>2025-03-31</th>\n",
       "      <td>5.8720</td>\n",
       "      <td>6.0540</td>\n",
       "      <td>5.7400</td>\n",
       "      <td>5.9710</td>\n",
       "      <td>2.843168e+06</td>\n",
       "      <td>1.679554e+07</td>\n",
       "      <td>75340</td>\n",
       "      <td>1359615.64</td>\n",
       "      <td>8.040307e+06</td>\n",
       "    </tr>\n",
       "  </tbody>\n",
       "</table>\n",
       "<p>1657 rows × 9 columns</p>\n",
       "</div>"
      ],
      "text/plain": [
       "              Open     High     Low   Close        Volume  Quote asset volume  \\\n",
       "Open time                                                                       \n",
       "2020-09-17  0.3000  15.0000  0.3000  3.4617  1.025972e+08        3.337291e+08   \n",
       "2020-09-18  3.4618   8.6000  3.2285  6.9000  1.676679e+08        1.000040e+09   \n",
       "2020-09-19  6.9000   7.4963  5.1900  5.7244  7.981451e+07        5.154502e+08   \n",
       "2020-09-20  5.7244   6.0900  4.6500  5.2230  5.351973e+07        2.826816e+08   \n",
       "2020-09-21  5.2200   5.6500  4.0600  4.2471  5.611050e+07        2.632497e+08   \n",
       "...            ...      ...     ...     ...           ...                 ...   \n",
       "2025-03-27  6.7240   6.9090  6.6510  6.7250  2.640107e+06        1.792577e+07   \n",
       "2025-03-28  6.7270   6.8380  6.0490  6.1740  3.605760e+06        2.275314e+07   \n",
       "2025-03-29  6.1740   6.2550  5.8630  5.9600  2.808038e+06        1.703279e+07   \n",
       "2025-03-30  5.9600   6.0630  5.8040  5.8710  1.421718e+06        8.466992e+06   \n",
       "2025-03-31  5.8720   6.0540  5.7400  5.9710  2.843168e+06        1.679554e+07   \n",
       "\n",
       "            Number of trades  Taker buy base asset volume  \\\n",
       "Open time                                                   \n",
       "2020-09-17            660780                  49916784.87   \n",
       "2020-09-18           1486593                  85283759.81   \n",
       "2020-09-19            979043                  38099403.63   \n",
       "2020-09-20            592785                  26051761.15   \n",
       "2020-09-21            540477                  26954893.82   \n",
       "...                      ...                          ...   \n",
       "2025-03-27             77911                   1011624.93   \n",
       "2025-03-28             90664                   1485113.51   \n",
       "2025-03-29             77417                   1236609.43   \n",
       "2025-03-30             43562                    717168.01   \n",
       "2025-03-31             75340                   1359615.64   \n",
       "\n",
       "            Taker buy quote asset volume  \n",
       "Open time                                 \n",
       "2020-09-17                  1.631750e+08  \n",
       "2020-09-18                  5.082391e+08  \n",
       "2020-09-19                  2.465185e+08  \n",
       "2020-09-20                  1.376086e+08  \n",
       "2020-09-21                  1.263400e+08  \n",
       "...                                  ...  \n",
       "2025-03-27                  6.874608e+06  \n",
       "2025-03-28                  9.353470e+06  \n",
       "2025-03-29                  7.490245e+06  \n",
       "2025-03-30                  4.273385e+06  \n",
       "2025-03-31                  8.040307e+06  \n",
       "\n",
       "[1657 rows x 9 columns]"
      ]
     },
     "execution_count": 21,
     "metadata": {},
     "output_type": "execute_result"
    }
   ],
   "source": [
    "df = data.load_asset('UNIUSDT', sampling='1d')\n",
    "df"
   ]
  },
  {
   "cell_type": "code",
   "execution_count": 31,
   "id": "ebfb5ebf",
   "metadata": {},
   "outputs": [
    {
     "name": "stdout",
     "output_type": "stream",
     "text": [
      "Epoch 1/50\n",
      "\u001b[1m 2/18\u001b[0m \u001b[32m━━\u001b[0m\u001b[37m━━━━━━━━━━━━━━━━━━\u001b[0m \u001b[1m1s\u001b[0m 78ms/step - loss: 0.0640 "
     ]
    },
    {
     "name": "stderr",
     "output_type": "stream",
     "text": [
      "c:\\Users\\ic2594\\AppData\\Local\\miniconda3\\Lib\\site-packages\\tensorflow\\python\\data\\ops\\structured_function.py:258: UserWarning: Even though the `tf.config.experimental_run_functions_eagerly` option is set, this option does not apply to tf.data functions. To force eager execution of tf.data functions, please use `tf.data.experimental.enable_debug_mode()`.\n",
      "  warnings.warn(\n"
     ]
    },
    {
     "name": "stdout",
     "output_type": "stream",
     "text": [
      "\u001b[1m18/18\u001b[0m \u001b[32m━━━━━━━━━━━━━━━━━━━━\u001b[0m\u001b[37m\u001b[0m \u001b[1m2s\u001b[0m 95ms/step - loss: 0.0330 - val_loss: 0.0048\n",
      "Epoch 2/50\n",
      "\u001b[1m18/18\u001b[0m \u001b[32m━━━━━━━━━━━━━━━━━━━━\u001b[0m\u001b[37m\u001b[0m \u001b[1m2s\u001b[0m 94ms/step - loss: 0.0031 - val_loss: 0.0019\n",
      "Epoch 3/50\n",
      "\u001b[1m18/18\u001b[0m \u001b[32m━━━━━━━━━━━━━━━━━━━━\u001b[0m\u001b[37m\u001b[0m \u001b[1m2s\u001b[0m 94ms/step - loss: 0.0011 - val_loss: 0.0018\n",
      "Epoch 4/50\n",
      "\u001b[1m18/18\u001b[0m \u001b[32m━━━━━━━━━━━━━━━━━━━━\u001b[0m\u001b[37m\u001b[0m \u001b[1m2s\u001b[0m 96ms/step - loss: 7.6943e-04 - val_loss: 0.0026\n",
      "Epoch 5/50\n",
      "\u001b[1m18/18\u001b[0m \u001b[32m━━━━━━━━━━━━━━━━━━━━\u001b[0m\u001b[37m\u001b[0m \u001b[1m2s\u001b[0m 94ms/step - loss: 6.5257e-04 - val_loss: 0.0014\n",
      "Epoch 6/50\n",
      "\u001b[1m18/18\u001b[0m \u001b[32m━━━━━━━━━━━━━━━━━━━━\u001b[0m\u001b[37m\u001b[0m \u001b[1m2s\u001b[0m 94ms/step - loss: 5.8687e-04 - val_loss: 0.0016\n",
      "Epoch 7/50\n",
      "\u001b[1m18/18\u001b[0m \u001b[32m━━━━━━━━━━━━━━━━━━━━\u001b[0m\u001b[37m\u001b[0m \u001b[1m2s\u001b[0m 93ms/step - loss: 6.1063e-04 - val_loss: 0.0026\n",
      "Epoch 8/50\n",
      "\u001b[1m18/18\u001b[0m \u001b[32m━━━━━━━━━━━━━━━━━━━━\u001b[0m\u001b[37m\u001b[0m \u001b[1m2s\u001b[0m 94ms/step - loss: 6.0716e-04 - val_loss: 0.0021\n",
      "Epoch 9/50\n",
      "\u001b[1m18/18\u001b[0m \u001b[32m━━━━━━━━━━━━━━━━━━━━\u001b[0m\u001b[37m\u001b[0m \u001b[1m2s\u001b[0m 94ms/step - loss: 3.8552e-04 - val_loss: 0.0019\n",
      "Epoch 10/50\n",
      "\u001b[1m18/18\u001b[0m \u001b[32m━━━━━━━━━━━━━━━━━━━━\u001b[0m\u001b[37m\u001b[0m \u001b[1m2s\u001b[0m 95ms/step - loss: 4.7350e-04 - val_loss: 0.0037\n"
     ]
    },
    {
     "name": "stderr",
     "output_type": "stream",
     "text": [
      "WARNING:absl:You are saving your model as an HDF5 file via `model.save()` or `keras.saving.save_model(model)`. This file format is considered legacy. We recommend using instead the native Keras format, e.g. `model.save('my_model.keras')` or `keras.saving.save_model(model, 'my_model.keras')`. \n"
     ]
    },
    {
     "name": "stdout",
     "output_type": "stream",
     "text": [
      "Epoch 1/50\n",
      "\u001b[1m 1/18\u001b[0m \u001b[32m━\u001b[0m\u001b[37m━━━━━━━━━━━━━━━━━━━\u001b[0m \u001b[1m1s\u001b[0m 103ms/step - loss: 0.2044"
     ]
    },
    {
     "name": "stderr",
     "output_type": "stream",
     "text": [
      "c:\\Users\\ic2594\\AppData\\Local\\miniconda3\\Lib\\site-packages\\tensorflow\\python\\data\\ops\\structured_function.py:258: UserWarning: Even though the `tf.config.experimental_run_functions_eagerly` option is set, this option does not apply to tf.data functions. To force eager execution of tf.data functions, please use `tf.data.experimental.enable_debug_mode()`.\n",
      "  warnings.warn(\n"
     ]
    },
    {
     "name": "stdout",
     "output_type": "stream",
     "text": [
      "\u001b[1m18/18\u001b[0m \u001b[32m━━━━━━━━━━━━━━━━━━━━\u001b[0m\u001b[37m\u001b[0m \u001b[1m2s\u001b[0m 97ms/step - loss: 0.0776 - val_loss: 0.0036\n",
      "Epoch 2/50\n",
      "\u001b[1m18/18\u001b[0m \u001b[32m━━━━━━━━━━━━━━━━━━━━\u001b[0m\u001b[37m\u001b[0m \u001b[1m2s\u001b[0m 95ms/step - loss: 0.0070 - val_loss: 0.0253\n",
      "Epoch 3/50\n",
      "\u001b[1m18/18\u001b[0m \u001b[32m━━━━━━━━━━━━━━━━━━━━\u001b[0m\u001b[37m\u001b[0m \u001b[1m2s\u001b[0m 94ms/step - loss: 0.0048 - val_loss: 0.0083\n",
      "Epoch 4/50\n",
      "\u001b[1m18/18\u001b[0m \u001b[32m━━━━━━━━━━━━━━━━━━━━\u001b[0m\u001b[37m\u001b[0m \u001b[1m2s\u001b[0m 94ms/step - loss: 0.0026 - val_loss: 0.0089\n",
      "Epoch 5/50\n",
      "\u001b[1m18/18\u001b[0m \u001b[32m━━━━━━━━━━━━━━━━━━━━\u001b[0m\u001b[37m\u001b[0m \u001b[1m2s\u001b[0m 93ms/step - loss: 0.0019 - val_loss: 0.0074\n",
      "Epoch 6/50\n",
      "\u001b[1m18/18\u001b[0m \u001b[32m━━━━━━━━━━━━━━━━━━━━\u001b[0m\u001b[37m\u001b[0m \u001b[1m2s\u001b[0m 94ms/step - loss: 0.0017 - val_loss: 0.0080\n"
     ]
    },
    {
     "name": "stderr",
     "output_type": "stream",
     "text": [
      "WARNING:absl:You are saving your model as an HDF5 file via `model.save()` or `keras.saving.save_model(model)`. This file format is considered legacy. We recommend using instead the native Keras format, e.g. `model.save('my_model.keras')` or `keras.saving.save_model(model, 'my_model.keras')`. \n"
     ]
    },
    {
     "name": "stdout",
     "output_type": "stream",
     "text": [
      "Epoch 1/50\n"
     ]
    },
    {
     "name": "stderr",
     "output_type": "stream",
     "text": [
      "c:\\Users\\ic2594\\AppData\\Local\\miniconda3\\Lib\\site-packages\\tensorflow\\python\\data\\ops\\structured_function.py:258: UserWarning: Even though the `tf.config.experimental_run_functions_eagerly` option is set, this option does not apply to tf.data functions. To force eager execution of tf.data functions, please use `tf.data.experimental.enable_debug_mode()`.\n",
      "  warnings.warn(\n"
     ]
    },
    {
     "name": "stdout",
     "output_type": "stream",
     "text": [
      "\u001b[1m18/18\u001b[0m \u001b[32m━━━━━━━━━━━━━━━━━━━━\u001b[0m\u001b[37m\u001b[0m \u001b[1m2s\u001b[0m 97ms/step - loss: 0.0548 - val_loss: 0.0137\n",
      "Epoch 2/50\n",
      "\u001b[1m18/18\u001b[0m \u001b[32m━━━━━━━━━━━━━━━━━━━━\u001b[0m\u001b[37m\u001b[0m \u001b[1m2s\u001b[0m 94ms/step - loss: 0.0061 - val_loss: 0.0037\n",
      "Epoch 3/50\n",
      "\u001b[1m18/18\u001b[0m \u001b[32m━━━━━━━━━━━━━━━━━━━━\u001b[0m\u001b[37m\u001b[0m \u001b[1m2s\u001b[0m 93ms/step - loss: 0.0020 - val_loss: 0.0030\n",
      "Epoch 4/50\n",
      "\u001b[1m18/18\u001b[0m \u001b[32m━━━━━━━━━━━━━━━━━━━━\u001b[0m\u001b[37m\u001b[0m \u001b[1m2s\u001b[0m 94ms/step - loss: 0.0017 - val_loss: 0.0026\n",
      "Epoch 5/50\n",
      "\u001b[1m18/18\u001b[0m \u001b[32m━━━━━━━━━━━━━━━━━━━━\u001b[0m\u001b[37m\u001b[0m \u001b[1m2s\u001b[0m 96ms/step - loss: 0.0014 - val_loss: 0.0024\n",
      "Epoch 6/50\n",
      "\u001b[1m18/18\u001b[0m \u001b[32m━━━━━━━━━━━━━━━━━━━━\u001b[0m\u001b[37m\u001b[0m \u001b[1m2s\u001b[0m 94ms/step - loss: 0.0013 - val_loss: 0.0012\n",
      "Epoch 7/50\n",
      "\u001b[1m18/18\u001b[0m \u001b[32m━━━━━━━━━━━━━━━━━━━━\u001b[0m\u001b[37m\u001b[0m \u001b[1m2s\u001b[0m 96ms/step - loss: 0.0012 - val_loss: 0.0029\n",
      "Epoch 8/50\n",
      "\u001b[1m18/18\u001b[0m \u001b[32m━━━━━━━━━━━━━━━━━━━━\u001b[0m\u001b[37m\u001b[0m \u001b[1m2s\u001b[0m 96ms/step - loss: 0.0010 - val_loss: 0.0024\n",
      "Epoch 9/50\n",
      "\u001b[1m18/18\u001b[0m \u001b[32m━━━━━━━━━━━━━━━━━━━━\u001b[0m\u001b[37m\u001b[0m \u001b[1m2s\u001b[0m 93ms/step - loss: 9.7773e-04 - val_loss: 0.0023\n",
      "Epoch 10/50\n",
      "\u001b[1m18/18\u001b[0m \u001b[32m━━━━━━━━━━━━━━━━━━━━\u001b[0m\u001b[37m\u001b[0m \u001b[1m2s\u001b[0m 92ms/step - loss: 9.6919e-04 - val_loss: 0.0027\n",
      "Epoch 11/50\n",
      "\u001b[1m18/18\u001b[0m \u001b[32m━━━━━━━━━━━━━━━━━━━━\u001b[0m\u001b[37m\u001b[0m \u001b[1m2s\u001b[0m 93ms/step - loss: 8.1842e-04 - val_loss: 0.0060\n"
     ]
    },
    {
     "name": "stderr",
     "output_type": "stream",
     "text": [
      "WARNING:absl:You are saving your model as an HDF5 file via `model.save()` or `keras.saving.save_model(model)`. This file format is considered legacy. We recommend using instead the native Keras format, e.g. `model.save('my_model.keras')` or `keras.saving.save_model(model, 'my_model.keras')`. \n"
     ]
    },
    {
     "name": "stdout",
     "output_type": "stream",
     "text": [
      "Epoch 1/50\n"
     ]
    },
    {
     "name": "stderr",
     "output_type": "stream",
     "text": [
      "c:\\Users\\ic2594\\AppData\\Local\\miniconda3\\Lib\\site-packages\\tensorflow\\python\\data\\ops\\structured_function.py:258: UserWarning: Even though the `tf.config.experimental_run_functions_eagerly` option is set, this option does not apply to tf.data functions. To force eager execution of tf.data functions, please use `tf.data.experimental.enable_debug_mode()`.\n",
      "  warnings.warn(\n"
     ]
    },
    {
     "name": "stdout",
     "output_type": "stream",
     "text": [
      "\u001b[1m18/18\u001b[0m \u001b[32m━━━━━━━━━━━━━━━━━━━━\u001b[0m\u001b[37m\u001b[0m \u001b[1m2s\u001b[0m 102ms/step - loss: 0.0512 - val_loss: 0.0049\n",
      "Epoch 2/50\n",
      "\u001b[1m18/18\u001b[0m \u001b[32m━━━━━━━━━━━━━━━━━━━━\u001b[0m\u001b[37m\u001b[0m \u001b[1m2s\u001b[0m 95ms/step - loss: 0.0045 - val_loss: 0.0010\n",
      "Epoch 3/50\n",
      "\u001b[1m18/18\u001b[0m \u001b[32m━━━━━━━━━━━━━━━━━━━━\u001b[0m\u001b[37m\u001b[0m \u001b[1m2s\u001b[0m 95ms/step - loss: 0.0029 - val_loss: 0.0014\n",
      "Epoch 4/50\n",
      "\u001b[1m18/18\u001b[0m \u001b[32m━━━━━━━━━━━━━━━━━━━━\u001b[0m\u001b[37m\u001b[0m \u001b[1m2s\u001b[0m 93ms/step - loss: 0.0029 - val_loss: 0.0025\n",
      "Epoch 5/50\n",
      "\u001b[1m18/18\u001b[0m \u001b[32m━━━━━━━━━━━━━━━━━━━━\u001b[0m\u001b[37m\u001b[0m \u001b[1m2s\u001b[0m 94ms/step - loss: 0.0028 - val_loss: 0.0011\n",
      "Epoch 6/50\n",
      "\u001b[1m18/18\u001b[0m \u001b[32m━━━━━━━━━━━━━━━━━━━━\u001b[0m\u001b[37m\u001b[0m \u001b[1m2s\u001b[0m 94ms/step - loss: 0.0018 - val_loss: 0.0013\n",
      "Epoch 7/50\n",
      "\u001b[1m18/18\u001b[0m \u001b[32m━━━━━━━━━━━━━━━━━━━━\u001b[0m\u001b[37m\u001b[0m \u001b[1m2s\u001b[0m 95ms/step - loss: 0.0017 - val_loss: 0.0013\n"
     ]
    },
    {
     "name": "stderr",
     "output_type": "stream",
     "text": [
      "WARNING:absl:You are saving your model as an HDF5 file via `model.save()` or `keras.saving.save_model(model)`. This file format is considered legacy. We recommend using instead the native Keras format, e.g. `model.save('my_model.keras')` or `keras.saving.save_model(model, 'my_model.keras')`. \n"
     ]
    },
    {
     "name": "stdout",
     "output_type": "stream",
     "text": [
      "Epoch 1/50\n"
     ]
    },
    {
     "name": "stderr",
     "output_type": "stream",
     "text": [
      "c:\\Users\\ic2594\\AppData\\Local\\miniconda3\\Lib\\site-packages\\tensorflow\\python\\data\\ops\\structured_function.py:258: UserWarning: Even though the `tf.config.experimental_run_functions_eagerly` option is set, this option does not apply to tf.data functions. To force eager execution of tf.data functions, please use `tf.data.experimental.enable_debug_mode()`.\n",
      "  warnings.warn(\n"
     ]
    },
    {
     "name": "stdout",
     "output_type": "stream",
     "text": [
      "\u001b[1m18/18\u001b[0m \u001b[32m━━━━━━━━━━━━━━━━━━━━\u001b[0m\u001b[37m\u001b[0m \u001b[1m2s\u001b[0m 95ms/step - loss: 0.0275 - val_loss: 0.0081\n",
      "Epoch 2/50\n",
      "\u001b[1m18/18\u001b[0m \u001b[32m━━━━━━━━━━━━━━━━━━━━\u001b[0m\u001b[37m\u001b[0m \u001b[1m2s\u001b[0m 90ms/step - loss: 0.0070 - val_loss: 0.0018\n",
      "Epoch 3/50\n",
      "\u001b[1m18/18\u001b[0m \u001b[32m━━━━━━━━━━━━━━━━━━━━\u001b[0m\u001b[37m\u001b[0m \u001b[1m2s\u001b[0m 93ms/step - loss: 0.0022 - val_loss: 8.6966e-04\n",
      "Epoch 4/50\n",
      "\u001b[1m18/18\u001b[0m \u001b[32m━━━━━━━━━━━━━━━━━━━━\u001b[0m\u001b[37m\u001b[0m \u001b[1m2s\u001b[0m 93ms/step - loss: 0.0015 - val_loss: 4.6559e-04\n",
      "Epoch 5/50\n",
      "\u001b[1m18/18\u001b[0m \u001b[32m━━━━━━━━━━━━━━━━━━━━\u001b[0m\u001b[37m\u001b[0m \u001b[1m2s\u001b[0m 92ms/step - loss: 0.0012 - val_loss: 3.7939e-04\n",
      "Epoch 6/50\n",
      "\u001b[1m18/18\u001b[0m \u001b[32m━━━━━━━━━━━━━━━━━━━━\u001b[0m\u001b[37m\u001b[0m \u001b[1m2s\u001b[0m 97ms/step - loss: 0.0011 - val_loss: 4.1371e-04\n",
      "Epoch 7/50\n",
      "\u001b[1m18/18\u001b[0m \u001b[32m━━━━━━━━━━━━━━━━━━━━\u001b[0m\u001b[37m\u001b[0m \u001b[1m2s\u001b[0m 98ms/step - loss: 8.5395e-04 - val_loss: 3.3900e-04\n",
      "Epoch 8/50\n",
      "\u001b[1m18/18\u001b[0m \u001b[32m━━━━━━━━━━━━━━━━━━━━\u001b[0m\u001b[37m\u001b[0m \u001b[1m2s\u001b[0m 96ms/step - loss: 8.0614e-04 - val_loss: 0.0010\n",
      "Epoch 9/50\n",
      "\u001b[1m18/18\u001b[0m \u001b[32m━━━━━━━━━━━━━━━━━━━━\u001b[0m\u001b[37m\u001b[0m \u001b[1m2s\u001b[0m 95ms/step - loss: 8.1833e-04 - val_loss: 3.9290e-04\n",
      "Epoch 10/50\n",
      "\u001b[1m18/18\u001b[0m \u001b[32m━━━━━━━━━━━━━━━━━━━━\u001b[0m\u001b[37m\u001b[0m \u001b[1m2s\u001b[0m 96ms/step - loss: 7.3035e-04 - val_loss: 3.9411e-04\n",
      "Epoch 11/50\n",
      "\u001b[1m18/18\u001b[0m \u001b[32m━━━━━━━━━━━━━━━━━━━━\u001b[0m\u001b[37m\u001b[0m \u001b[1m2s\u001b[0m 97ms/step - loss: 7.1108e-04 - val_loss: 3.5009e-04\n",
      "Epoch 12/50\n",
      "\u001b[1m18/18\u001b[0m \u001b[32m━━━━━━━━━━━━━━━━━━━━\u001b[0m\u001b[37m\u001b[0m \u001b[1m3s\u001b[0m 96ms/step - loss: 6.6226e-04 - val_loss: 4.0251e-04\n"
     ]
    },
    {
     "name": "stderr",
     "output_type": "stream",
     "text": [
      "WARNING:absl:You are saving your model as an HDF5 file via `model.save()` or `keras.saving.save_model(model)`. This file format is considered legacy. We recommend using instead the native Keras format, e.g. `model.save('my_model.keras')` or `keras.saving.save_model(model, 'my_model.keras')`. \n",
      "WARNING:absl:Compiled the loaded model, but the compiled metrics have yet to be built. `model.compile_metrics` will be empty until you train or evaluate the model.\n"
     ]
    },
    {
     "name": "stdout",
     "output_type": "stream",
     "text": [
      "\u001b[1m5/5\u001b[0m \u001b[32m━━━━━━━━━━━━━━━━━━━━\u001b[0m\u001b[37m\u001b[0m \u001b[1m0s\u001b[0m 42ms/step\n"
     ]
    },
    {
     "name": "stderr",
     "output_type": "stream",
     "text": [
      "WARNING:absl:Compiled the loaded model, but the compiled metrics have yet to be built. `model.compile_metrics` will be empty until you train or evaluate the model.\n"
     ]
    },
    {
     "name": "stdout",
     "output_type": "stream",
     "text": [
      "SOLUSDT validation RMSE (scaled): 0.0378\n",
      "\u001b[1m3/5\u001b[0m \u001b[32m━━━━━━━━━━━━\u001b[0m\u001b[37m━━━━━━━━\u001b[0m \u001b[1m0s\u001b[0m 37ms/step"
     ]
    },
    {
     "name": "stderr",
     "output_type": "stream",
     "text": [
      "c:\\Users\\ic2594\\AppData\\Local\\miniconda3\\Lib\\site-packages\\tensorflow\\python\\data\\ops\\structured_function.py:258: UserWarning: Even though the `tf.config.experimental_run_functions_eagerly` option is set, this option does not apply to tf.data functions. To force eager execution of tf.data functions, please use `tf.data.experimental.enable_debug_mode()`.\n",
      "  warnings.warn(\n"
     ]
    },
    {
     "name": "stdout",
     "output_type": "stream",
     "text": [
      "\u001b[1m5/5\u001b[0m \u001b[32m━━━━━━━━━━━━━━━━━━━━\u001b[0m\u001b[37m\u001b[0m \u001b[1m0s\u001b[0m 39ms/step\n"
     ]
    },
    {
     "name": "stderr",
     "output_type": "stream",
     "text": [
      "WARNING:absl:Compiled the loaded model, but the compiled metrics have yet to be built. `model.compile_metrics` will be empty until you train or evaluate the model.\n"
     ]
    },
    {
     "name": "stdout",
     "output_type": "stream",
     "text": [
      "BTCUSDT validation RMSE (scaled): 0.0597\n",
      "\u001b[1m3/5\u001b[0m \u001b[32m━━━━━━━━━━━━\u001b[0m\u001b[37m━━━━━━━━\u001b[0m \u001b[1m0s\u001b[0m 39ms/step"
     ]
    },
    {
     "name": "stderr",
     "output_type": "stream",
     "text": [
      "c:\\Users\\ic2594\\AppData\\Local\\miniconda3\\Lib\\site-packages\\tensorflow\\python\\data\\ops\\structured_function.py:258: UserWarning: Even though the `tf.config.experimental_run_functions_eagerly` option is set, this option does not apply to tf.data functions. To force eager execution of tf.data functions, please use `tf.data.experimental.enable_debug_mode()`.\n",
      "  warnings.warn(\n"
     ]
    },
    {
     "name": "stdout",
     "output_type": "stream",
     "text": [
      "\u001b[1m5/5\u001b[0m \u001b[32m━━━━━━━━━━━━━━━━━━━━\u001b[0m\u001b[37m\u001b[0m \u001b[1m0s\u001b[0m 40ms/step\n"
     ]
    },
    {
     "name": "stderr",
     "output_type": "stream",
     "text": [
      "WARNING:absl:Compiled the loaded model, but the compiled metrics have yet to be built. `model.compile_metrics` will be empty until you train or evaluate the model.\n"
     ]
    },
    {
     "name": "stdout",
     "output_type": "stream",
     "text": [
      "ETHUSDT validation RMSE (scaled): 0.0351\n",
      "\u001b[1m3/5\u001b[0m \u001b[32m━━━━━━━━━━━━\u001b[0m\u001b[37m━━━━━━━━\u001b[0m \u001b[1m0s\u001b[0m 39ms/step"
     ]
    },
    {
     "name": "stderr",
     "output_type": "stream",
     "text": [
      "c:\\Users\\ic2594\\AppData\\Local\\miniconda3\\Lib\\site-packages\\tensorflow\\python\\data\\ops\\structured_function.py:258: UserWarning: Even though the `tf.config.experimental_run_functions_eagerly` option is set, this option does not apply to tf.data functions. To force eager execution of tf.data functions, please use `tf.data.experimental.enable_debug_mode()`.\n",
      "  warnings.warn(\n"
     ]
    },
    {
     "name": "stdout",
     "output_type": "stream",
     "text": [
      "\u001b[1m5/5\u001b[0m \u001b[32m━━━━━━━━━━━━━━━━━━━━\u001b[0m\u001b[37m\u001b[0m \u001b[1m0s\u001b[0m 41ms/step\n"
     ]
    },
    {
     "name": "stderr",
     "output_type": "stream",
     "text": [
      "WARNING:absl:Compiled the loaded model, but the compiled metrics have yet to be built. `model.compile_metrics` will be empty until you train or evaluate the model.\n"
     ]
    },
    {
     "name": "stdout",
     "output_type": "stream",
     "text": [
      "DOGEUSDT validation RMSE (scaled): 0.0321\n",
      "\u001b[1m3/5\u001b[0m \u001b[32m━━━━━━━━━━━━\u001b[0m\u001b[37m━━━━━━━━\u001b[0m \u001b[1m0s\u001b[0m 38ms/step"
     ]
    },
    {
     "name": "stderr",
     "output_type": "stream",
     "text": [
      "c:\\Users\\ic2594\\AppData\\Local\\miniconda3\\Lib\\site-packages\\tensorflow\\python\\data\\ops\\structured_function.py:258: UserWarning: Even though the `tf.config.experimental_run_functions_eagerly` option is set, this option does not apply to tf.data functions. To force eager execution of tf.data functions, please use `tf.data.experimental.enable_debug_mode()`.\n",
      "  warnings.warn(\n"
     ]
    },
    {
     "name": "stdout",
     "output_type": "stream",
     "text": [
      "\u001b[1m5/5\u001b[0m \u001b[32m━━━━━━━━━━━━━━━━━━━━\u001b[0m\u001b[37m\u001b[0m \u001b[1m0s\u001b[0m 42ms/step\n",
      "UNIUSDT validation RMSE (scaled): 0.0184\n"
     ]
    }
   ],
   "source": [
    "import os\n",
    "import joblib\n",
    "import numpy as np\n",
    "from sklearn.metrics import mean_squared_error\n",
    "import tensorflow as tf\n",
    "from tensorflow.keras.models import load_model\n",
    "\n",
    "# 1. Ensure eager mode for compatibility (if you set run_eagerly earlier)\n",
    "tf.config.run_functions_eagerly(True)\n",
    "\n",
    "# 2. Directories to save models and scalers\n",
    "os.makedirs('models', exist_ok=True)\n",
    "os.makedirs('scalers', exist_ok=True)\n",
    "\n",
    "# 3. List of asset tickers\n",
    "assets = ['SOLUSDT', 'BTCUSDT', 'ETHUSDT', 'DOGEUSDT', 'UNIUSDT']\n",
    "results = {}\n",
    "\n",
    "for ticker in assets:\n",
    "    # 4a) Load & feature-engineer\n",
    "    df = data.load_asset(ticker, sampling='1d')\n",
    "    df = data.add_fear_and_greed(df)\n",
    "    df = add_technical_features(df)\n",
    "    df = df[(df.index >= '2022-01-01') & (df.index <= '2023-12-31')]\n",
    "\n",
    "    # 4b) Train the LSTM\n",
    "    model, scaler, history, (X_val, y_val) = train_lstm_for_asset(df)\n",
    "\n",
    "    # 4c) Save model and scaler\n",
    "    model_path  = f'models/{ticker}_lstm_model.h5'\n",
    "    scaler_path = f'scalers/{ticker}_scaler.pkl'\n",
    "    model.save(model_path)\n",
    "    joblib.dump(scaler, scaler_path)\n",
    "\n",
    "    # 4d) Store paths and validation data\n",
    "    results[ticker] = {\n",
    "        'model_path':  model_path,\n",
    "        'scaler_path': scaler_path,\n",
    "        'history':     history,\n",
    "        'X_val':       X_val,\n",
    "        'y_val':       y_val\n",
    "    }\n",
    "\n",
    "# 5. Compute and print validation RMSE for each asset\n",
    "for ticker, res in results.items():\n",
    "    # Load model (if not in memory) and validation data\n",
    "    model = load_model(res['model_path'])\n",
    "    X_val = res['X_val']\n",
    "    y_val = res['y_val']\n",
    "\n",
    "    # Predict and score\n",
    "    preds = model.predict(X_val).flatten()\n",
    "    rmse  = np.sqrt(mean_squared_error(y_val, preds))\n",
    "    print(f\"{ticker} validation RMSE (scaled): {rmse:.4f}\")\n"
   ]
  },
  {
   "cell_type": "code",
   "execution_count": 33,
   "id": "f7ea067d",
   "metadata": {},
   "outputs": [],
   "source": [
    "# Load & feature-engineer\n",
    "# df = data.load_asset('UNIUSDT', sampling='1d')\n",
    "# df = data.add_fear_and_greed(df)\n",
    "# df = add_technical_features(df)\n",
    "# df = df[df.index >= '2020-01-01']\n",
    "\n",
    "#     # Train\n",
    "# model, scaler, history, (X_val, y_val) = train_lstm_for_asset(df)\n",
    "\n",
    "#     # Store\n",
    "# results[ticker] = {\n",
    "#     'model':   model,\n",
    "#     'scaler':  scaler,\n",
    "#     'history': history,\n",
    "#     'X_val':   X_val,\n",
    "#     'y_val':   y_val\n",
    "# }"
   ]
  },
  {
   "cell_type": "code",
   "execution_count": 34,
   "id": "4dfaf3cf",
   "metadata": {},
   "outputs": [],
   "source": [
    "# for ticker, res in results.items():\n",
    "#     preds = res['model'].predict(res['X_val']).flatten()\n",
    "#     rmse  = np.sqrt(mean_squared_error(res['y_val'], preds))\n",
    "#     print(f\"{ticker} validation RMSE (scaled): {rmse:.4f}\")"
   ]
  },
  {
   "cell_type": "code",
   "execution_count": 35,
   "id": "b196a313",
   "metadata": {},
   "outputs": [
    {
     "name": "stderr",
     "output_type": "stream",
     "text": [
      "WARNING:absl:Compiled the loaded model, but the compiled metrics have yet to be built. `model.compile_metrics` will be empty until you train or evaluate the model.\n"
     ]
    },
    {
     "name": "stdout",
     "output_type": "stream",
     "text": [
      "\u001b[1m3/5\u001b[0m \u001b[32m━━━━━━━━━━━━\u001b[0m\u001b[37m━━━━━━━━\u001b[0m \u001b[1m0s\u001b[0m 39ms/step"
     ]
    },
    {
     "name": "stderr",
     "output_type": "stream",
     "text": [
      "c:\\Users\\ic2594\\AppData\\Local\\miniconda3\\Lib\\site-packages\\tensorflow\\python\\data\\ops\\structured_function.py:258: UserWarning: Even though the `tf.config.experimental_run_functions_eagerly` option is set, this option does not apply to tf.data functions. To force eager execution of tf.data functions, please use `tf.data.experimental.enable_debug_mode()`.\n",
      "  warnings.warn(\n"
     ]
    },
    {
     "name": "stdout",
     "output_type": "stream",
     "text": [
      "\u001b[1m5/5\u001b[0m \u001b[32m━━━━━━━━━━━━━━━━━━━━\u001b[0m\u001b[37m\u001b[0m \u001b[1m0s\u001b[0m 41ms/step\n"
     ]
    },
    {
     "name": "stderr",
     "output_type": "stream",
     "text": [
      "WARNING:absl:Compiled the loaded model, but the compiled metrics have yet to be built. `model.compile_metrics` will be empty until you train or evaluate the model.\n"
     ]
    },
    {
     "name": "stdout",
     "output_type": "stream",
     "text": [
      "\u001b[1m5/5\u001b[0m \u001b[32m━━━━━━━━━━━━━━━━━━━━\u001b[0m\u001b[37m\u001b[0m \u001b[1m0s\u001b[0m 41ms/step\n"
     ]
    },
    {
     "name": "stderr",
     "output_type": "stream",
     "text": [
      "WARNING:absl:Compiled the loaded model, but the compiled metrics have yet to be built. `model.compile_metrics` will be empty until you train or evaluate the model.\n"
     ]
    },
    {
     "name": "stdout",
     "output_type": "stream",
     "text": [
      "\u001b[1m5/5\u001b[0m \u001b[32m━━━━━━━━━━━━━━━━━━━━\u001b[0m\u001b[37m\u001b[0m \u001b[1m0s\u001b[0m 40ms/step\n"
     ]
    },
    {
     "name": "stderr",
     "output_type": "stream",
     "text": [
      "WARNING:absl:Compiled the loaded model, but the compiled metrics have yet to be built. `model.compile_metrics` will be empty until you train or evaluate the model.\n"
     ]
    },
    {
     "name": "stdout",
     "output_type": "stream",
     "text": [
      "\u001b[1m5/5\u001b[0m \u001b[32m━━━━━━━━━━━━━━━━━━━━\u001b[0m\u001b[37m\u001b[0m \u001b[1m0s\u001b[0m 42ms/step\n"
     ]
    },
    {
     "name": "stderr",
     "output_type": "stream",
     "text": [
      "WARNING:absl:Compiled the loaded model, but the compiled metrics have yet to be built. `model.compile_metrics` will be empty until you train or evaluate the model.\n"
     ]
    },
    {
     "name": "stdout",
     "output_type": "stream",
     "text": [
      "\u001b[1m5/5\u001b[0m \u001b[32m━━━━━━━━━━━━━━━━━━━━\u001b[0m\u001b[37m\u001b[0m \u001b[1m0s\u001b[0m 40ms/step\n",
      "Stored 'test_predictions' (dict)\n"
     ]
    },
    {
     "data": {
      "text/plain": [
       "['models/test_predictions.pkl']"
      ]
     },
     "execution_count": 35,
     "metadata": {},
     "output_type": "execute_result"
    }
   ],
   "source": [
    "test_predictions = {}\n",
    "\n",
    "for ticker, res in results.items():\n",
    "    model = load_model(res['model_path'])\n",
    "    # Predict on the test set\n",
    "    preds = model.predict(res['X_val']).flatten()\n",
    "    dates = df.index[-len(preds):]  # Get the corresponding dates\n",
    "    test_predictions[ticker] = pd.Series(preds, index=dates)\n",
    "\n",
    "# Now `test_predictions` contains the predictions for each ticker indexed by date\n",
    "%store test_predictions\n",
    "joblib.dump(test_predictions, \"models/test_predictions.pkl\")"
   ]
  }
 ],
 "metadata": {
  "kernelspec": {
   "display_name": "base",
   "language": "python",
   "name": "python3"
  },
  "language_info": {
   "codemirror_mode": {
    "name": "ipython",
    "version": 3
   },
   "file_extension": ".py",
   "mimetype": "text/x-python",
   "name": "python",
   "nbconvert_exporter": "python",
   "pygments_lexer": "ipython3",
   "version": "3.12.9"
  }
 },
 "nbformat": 4,
 "nbformat_minor": 5
}
