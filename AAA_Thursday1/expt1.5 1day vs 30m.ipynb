{
 "cells": [
  {
   "cell_type": "code",
   "execution_count": null,
   "id": "1a3a74c8",
   "metadata": {},
   "outputs": [
    {
     "ename": "AttributeError",
     "evalue": "'float' object has no attribute 'copy'",
     "output_type": "error",
     "traceback": [
      "\u001b[1;31m---------------------------------------------------------------------------\u001b[0m",
      "\u001b[1;31mAttributeError\u001b[0m                            Traceback (most recent call last)",
      "Cell \u001b[1;32mIn[16], line 13\u001b[0m\n\u001b[0;32m      9\u001b[0m \u001b[38;5;66;03m# Assets.at['df', 'SOL-6h'] = data.load_asset('SOLUSDT', sampling='6h')\u001b[39;00m\n\u001b[0;32m     10\u001b[0m \u001b[38;5;66;03m# Assets.at['df', 'SOL-1d'] = data.load_asset('SOLUSDT', sampling='1d')\u001b[39;00m\n\u001b[0;32m     12\u001b[0m \u001b[38;5;28;01mfor\u001b[39;00m key \u001b[38;5;129;01min\u001b[39;00m Assets\u001b[38;5;241m.\u001b[39mcolumns:\n\u001b[1;32m---> 13\u001b[0m     df \u001b[38;5;241m=\u001b[39m \u001b[43mAssets\u001b[49m\u001b[38;5;241;43m.\u001b[39;49m\u001b[43mloc\u001b[49m\u001b[43m[\u001b[49m\u001b[38;5;124;43m'\u001b[39;49m\u001b[38;5;124;43mdf\u001b[39;49m\u001b[38;5;124;43m'\u001b[39;49m\u001b[43m,\u001b[49m\u001b[43m \u001b[49m\u001b[43mkey\u001b[49m\u001b[43m]\u001b[49m\u001b[38;5;241;43m.\u001b[39;49m\u001b[43mcopy\u001b[49m()\n\u001b[0;32m     14\u001b[0m     df \u001b[38;5;241m=\u001b[39m data\u001b[38;5;241m.\u001b[39msubset(df, start\u001b[38;5;241m=\u001b[39mpd\u001b[38;5;241m.\u001b[39mTimestamp(\u001b[38;5;124m'\u001b[39m\u001b[38;5;124m2021-01-01\u001b[39m\u001b[38;5;124m'\u001b[39m), end\u001b[38;5;241m=\u001b[39mpd\u001b[38;5;241m.\u001b[39mTimestamp(\u001b[38;5;124m'\u001b[39m\u001b[38;5;124m2026-01-01\u001b[39m\u001b[38;5;124m'\u001b[39m))\n\u001b[0;32m     15\u001b[0m     df \u001b[38;5;241m=\u001b[39m data\u001b[38;5;241m.\u001b[39mtrain_test_split(df)\n",
      "\u001b[1;31mAttributeError\u001b[0m: 'float' object has no attribute 'copy'"
     ]
    }
   ],
   "source": [
    "import importlib\n",
    "from __imports__ import *\n",
    "import data, LSTM_returns, optimization\n",
    "importlib.reload(data)\n",
    "\n",
    "Assets = pd.DataFrame(index=['df', 'column', 'LSTM', 'train_X_y'], columns=['SOL-30m', 'SOL-6h', 'SOL-1d'], dtype='object')\n",
    "\n",
    "Assets.at['df', 'SOL-30m'] = data.load_asset('SOLUSDT', sampling='30m')\n",
    "Assets.at['df', 'SOL-6h'] = data.load_asset('SOLUSDT', sampling='6h')\n",
    "Assets.at['df', 'SOL-1d'] = data.load_asset('SOLUSDT', sampling='1d')\n",
    "\n",
    "for key in Assets.columns:\n",
    "    df = Assets.loc['df', key].copy()\n",
    "    df = data.subset(df, start=pd.Timestamp('2021-01-01'), end=pd.Timestamp('2026-01-01'))\n",
    "    df = data.train_test_split(df)\n",
    "    df = data.add_fear_and_greed(df, includeCategory=False)\n",
    "    Assets.at['df', key] = data.add_returns(df)\n",
    "\n",
    "    target = \"Return_Target\"\n",
    "    features = [\"Open\", \"High\", \"Low\", \"Close\", \"Volume\", \"F&G\"]\n",
    "    Assets.at['train_X_y', key] = LSTM_returns.vectorize_train_data(df, target=target, features=features, episode_length=30)"
   ]
  },
  {
   "cell_type": "code",
   "execution_count": null,
   "id": "77552628",
   "metadata": {},
   "outputs": [
    {
     "data": {
      "text/plain": [
       "0    2\n",
       "1    4\n",
       "2    6\n",
       "Name: a, dtype: int64"
      ]
     },
     "execution_count": 2,
     "metadata": {},
     "output_type": "execute_result"
    }
   ],
   "source": [
    "hyperparams = {}\n",
    "\n",
    "for key in Assets.columns:\n",
    "    LSTM = LSTM_returns.create(hyperparams)\n",
    "    history = LSTM_returns.train(LSTM, hyperparams, Assets.loc['train_X_y', key])\n",
    "    LSTM_returns.all_folds_plot(LSTM, Assets.loc['train_X_y', key])\n",
    "\n",
    "    Assets.at['LSTM', key] = LSTM"
   ]
  }
 ],
 "metadata": {
  "kernelspec": {
   "display_name": "base",
   "language": "python",
   "name": "python3"
  },
  "language_info": {
   "codemirror_mode": {
    "name": "ipython",
    "version": 3
   },
   "file_extension": ".py",
   "mimetype": "text/x-python",
   "name": "python",
   "nbconvert_exporter": "python",
   "pygments_lexer": "ipython3",
   "version": "3.10.15"
  }
 },
 "nbformat": 4,
 "nbformat_minor": 5
}
