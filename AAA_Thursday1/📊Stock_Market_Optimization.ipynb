{
  "cells": [
    {
      "cell_type": "code",
      "execution_count": null,
      "metadata": {
        "execution": {
          "iopub.execute_input": "2023-01-30T22:54:21.093063Z",
          "iopub.status.busy": "2023-01-30T22:54:21.092621Z",
          "iopub.status.idle": "2023-01-30T22:54:21.730045Z",
          "shell.execute_reply": "2023-01-30T22:54:21.728467Z",
          "shell.execute_reply.started": "2023-01-30T22:54:21.093029Z"
        },
        "id": "Fry35be5UFJY",
        "trusted": true
      },
      "outputs": [],
      "source": [
        "import data\n",
        "import pandas as pd, numpy as np, matplotlib.pyplot as plt\n",
        "\n",
        "\n",
        "tickers = ['SOLUSDT', 'BTCUSDT', 'ETHUSDT', 'XRPUSDT', 'DOGEUSDT']\n",
        "models = lambda x: f\"models-KaggleSMA/lstm_uncertainty_variable_model_{x}.keras\"\n",
        "\n",
        "\n",
        "dfs = [\n",
        "    data.load_asset(ticker, sampling=\"1d\") for ticker in tickers\n",
        "]\n",
        "\n",
        "dfs = [\n",
        "    data.subset(df, start=pd.Timestamp('2024-03-01'), end=pd.Timestamp('2026-01-01'))\n",
        "    for df in dfs\n",
        "]\n",
        "\n",
        "dfs = [\n",
        "    data.add_returns(df) for df in dfs\n",
        "]\n",
        "\n",
        "dfs = [\n",
        "    df.dropna() for df in dfs\n",
        "]"
      ]
    },
    {
      "cell_type": "code",
      "execution_count": null,
      "metadata": {},
      "outputs": [
        {
          "name": "stderr",
          "output_type": "stream",
          "text": [
            "c:\\Users\\ic2594\\AppData\\Local\\miniconda3\\Lib\\site-packages\\pypfopt\\expected_returns.py:36: UserWarning: Some returns are infinite. Please check your price data.\n",
            "  warnings.warn(\n",
            "c:\\Users\\ic2594\\AppData\\Local\\miniconda3\\Lib\\site-packages\\numpy\\_core\\_methods.py:57: RuntimeWarning: invalid value encountered in reduce\n",
            "  return umr_prod(a, axis, dtype, out, keepdims, initial, where)\n",
            "c:\\Users\\ic2594\\AppData\\Local\\miniconda3\\Lib\\site-packages\\numpy\\_core\\_methods.py:136: RuntimeWarning: invalid value encountered in reduce\n",
            "  ret = umr_sum(arr, axis, dtype, out, keepdims, where=where)\n"
          ]
        },
        {
          "ename": "TypeError",
          "evalue": "EfficientFrontier.max_sharpe() got an unexpected keyword argument 'solver'",
          "output_type": "error",
          "traceback": [
            "\u001b[31m---------------------------------------------------------------------------\u001b[39m",
            "\u001b[31mTypeError\u001b[39m                                 Traceback (most recent call last)",
            "\u001b[36mCell\u001b[39m\u001b[36m \u001b[39m\u001b[32mIn[8]\u001b[39m\u001b[32m, line 34\u001b[39m\n\u001b[32m     32\u001b[39m \u001b[38;5;66;03m# Optimize for maximum Sharpe ratio\u001b[39;00m\n\u001b[32m     33\u001b[39m ef = EfficientFrontier(mean_returns, cov_matrix)\n\u001b[32m---> \u001b[39m\u001b[32m34\u001b[39m weights = \u001b[43mef\u001b[49m\u001b[43m.\u001b[49m\u001b[43mmax_sharpe\u001b[49m\u001b[43m(\u001b[49m\u001b[43msolver\u001b[49m\u001b[43m=\u001b[49m\u001b[38;5;28;43;01mNone\u001b[39;49;00m\u001b[43m,\u001b[49m\u001b[43m \u001b[49m\u001b[43msolver_path\u001b[49m\u001b[43m=\u001b[49m\u001b[38;5;28;43;01mNone\u001b[39;49;00m\u001b[43m)\u001b[49m\n\u001b[32m     35\u001b[39m cleaned_weights = ef.clean_weights()\n\u001b[32m     37\u001b[39m \u001b[38;5;28mprint\u001b[39m(cleaned_weights)\n",
            "\u001b[31mTypeError\u001b[39m: EfficientFrontier.max_sharpe() got an unexpected keyword argument 'solver'"
          ]
        }
      ],
      "source": [
        "from pypfopt import EfficientFrontier, risk_models, expected_returns\n",
        "\n",
        "historical_dfs = [\n",
        "    data.load_asset(ticker, sampling=\"1d\") for ticker in tickers\n",
        "]\n",
        "\n",
        "historical_dfs = [\n",
        "    data.subset(df, start=pd.Timestamp('2021-01-01'), end=pd.Timestamp('2026-01-01'))\n",
        "    for df in historical_dfs\n",
        "]\n",
        "\n",
        "historical_dfs = [\n",
        "    data.add_returns(df)\n",
        "    for df in historical_dfs\n",
        "]\n",
        "\n",
        "historical_dfs = [\n",
        "    df.dropna() for df in historical_dfs\n",
        "]\n",
        "\n",
        "\n",
        "# Filter data after 2024-03-01\n",
        "filtered_dfs = [\n",
        "    df[df.index < pd.Timestamp('2024-03-01')] for df in historical_dfs\n",
        "]\n",
        "\n",
        "# Calculate expected returns and covariance matrix\n",
        "returns = [df[\"Return\"] for df in filtered_dfs]\n",
        "mean_returns = expected_returns.mean_historical_return(pd.concat(returns, axis=1))\n",
        "cov_matrix = risk_models.sample_cov(pd.concat(returns, axis=1))\n",
        "\n",
        "# Optimize for maximum Sharpe ratio\n",
        "ef = EfficientFrontier(mean_returns, cov_matrix)\n",
        "weights = ef.max_sharpe()\n",
        "cleaned_weights = ef.clean_weights()\n",
        "\n",
        "print(cleaned_weights)\n"
      ]
    },
    {
      "cell_type": "code",
      "execution_count": 6,
      "metadata": {},
      "outputs": [
        {
          "name": "stdout",
          "output_type": "stream",
          "text": [
            "Collecting pyportfolioopt\n",
            "  Downloading pyportfolioopt-1.5.6-py3-none-any.whl.metadata (22 kB)\n",
            "Requirement already satisfied: cvxpy>=1.1.19 in c:\\users\\ic2594\\appdata\\local\\miniconda3\\lib\\site-packages (from pyportfolioopt) (1.6.5)\n",
            "Collecting ecos<3.0.0,>=2.0.14 (from pyportfolioopt)\n",
            "  Downloading ecos-2.0.14-cp312-cp312-win_amd64.whl.metadata (8.2 kB)\n",
            "Requirement already satisfied: numpy>=1.26.0 in c:\\users\\ic2594\\appdata\\local\\miniconda3\\lib\\site-packages (from pyportfolioopt) (2.1.3)\n",
            "Requirement already satisfied: pandas>=0.19 in c:\\users\\ic2594\\appdata\\local\\miniconda3\\lib\\site-packages (from pyportfolioopt) (2.2.3)\n",
            "Collecting plotly<6.0.0,>=5.0.0 (from pyportfolioopt)\n",
            "  Downloading plotly-5.24.1-py3-none-any.whl.metadata (7.3 kB)\n",
            "Requirement already satisfied: scipy>=1.3 in c:\\users\\ic2594\\appdata\\local\\miniconda3\\lib\\site-packages (from pyportfolioopt) (1.15.2)\n",
            "Requirement already satisfied: osqp>=0.6.2 in c:\\users\\ic2594\\appdata\\local\\miniconda3\\lib\\site-packages (from cvxpy>=1.1.19->pyportfolioopt) (1.0.3)\n",
            "Requirement already satisfied: clarabel>=0.5.0 in c:\\users\\ic2594\\appdata\\local\\miniconda3\\lib\\site-packages (from cvxpy>=1.1.19->pyportfolioopt) (0.10.0)\n",
            "Requirement already satisfied: scs>=3.2.4.post1 in c:\\users\\ic2594\\appdata\\local\\miniconda3\\lib\\site-packages (from cvxpy>=1.1.19->pyportfolioopt) (3.2.7.post2)\n",
            "Requirement already satisfied: python-dateutil>=2.8.2 in c:\\users\\ic2594\\appdata\\local\\miniconda3\\lib\\site-packages (from pandas>=0.19->pyportfolioopt) (2.9.0.post0)\n",
            "Requirement already satisfied: pytz>=2020.1 in c:\\users\\ic2594\\appdata\\local\\miniconda3\\lib\\site-packages (from pandas>=0.19->pyportfolioopt) (2025.2)\n",
            "Requirement already satisfied: tzdata>=2022.7 in c:\\users\\ic2594\\appdata\\local\\miniconda3\\lib\\site-packages (from pandas>=0.19->pyportfolioopt) (2025.2)\n",
            "Collecting tenacity>=6.2.0 (from plotly<6.0.0,>=5.0.0->pyportfolioopt)\n",
            "  Downloading tenacity-9.1.2-py3-none-any.whl.metadata (1.2 kB)\n",
            "Requirement already satisfied: packaging in c:\\users\\ic2594\\appdata\\local\\miniconda3\\lib\\site-packages (from plotly<6.0.0,>=5.0.0->pyportfolioopt) (24.2)\n",
            "Requirement already satisfied: jinja2 in c:\\users\\ic2594\\appdata\\local\\miniconda3\\lib\\site-packages (from osqp>=0.6.2->cvxpy>=1.1.19->pyportfolioopt) (3.1.6)\n",
            "Requirement already satisfied: setuptools in c:\\users\\ic2594\\appdata\\local\\miniconda3\\lib\\site-packages (from osqp>=0.6.2->cvxpy>=1.1.19->pyportfolioopt) (75.8.0)\n",
            "Requirement already satisfied: joblib in c:\\users\\ic2594\\appdata\\local\\miniconda3\\lib\\site-packages (from osqp>=0.6.2->cvxpy>=1.1.19->pyportfolioopt) (1.4.2)\n",
            "Requirement already satisfied: six>=1.5 in c:\\users\\ic2594\\appdata\\local\\miniconda3\\lib\\site-packages (from python-dateutil>=2.8.2->pandas>=0.19->pyportfolioopt) (1.17.0)\n",
            "Requirement already satisfied: MarkupSafe>=2.0 in c:\\users\\ic2594\\appdata\\local\\miniconda3\\lib\\site-packages (from jinja2->osqp>=0.6.2->cvxpy>=1.1.19->pyportfolioopt) (3.0.2)\n",
            "Downloading pyportfolioopt-1.5.6-py3-none-any.whl (62 kB)\n",
            "Downloading ecos-2.0.14-cp312-cp312-win_amd64.whl (72 kB)\n",
            "Downloading plotly-5.24.1-py3-none-any.whl (19.1 MB)\n",
            "   ---------------------------------------- 0.0/19.1 MB ? eta -:--:--\n",
            "   ---------------------------------------  18.9/19.1 MB 99.5 MB/s eta 0:00:01\n",
            "   ---------------------------------------- 19.1/19.1 MB 86.2 MB/s eta 0:00:00\n",
            "Downloading tenacity-9.1.2-py3-none-any.whl (28 kB)\n",
            "Installing collected packages: tenacity, plotly, ecos, pyportfolioopt\n",
            "  Attempting uninstall: plotly\n",
            "    Found existing installation: plotly 6.0.1\n",
            "    Uninstalling plotly-6.0.1:\n",
            "      Successfully uninstalled plotly-6.0.1\n",
            "Successfully installed ecos-2.0.14 plotly-5.24.1 pyportfolioopt-1.5.6 tenacity-9.1.2\n"
          ]
        }
      ],
      "source": [
        "!pip install pyportfolioopt"
      ]
    }
  ],
  "metadata": {
    "colab": {
      "name": "📊Stock Market Analysis 📈 + Prediction using LSTM",
      "provenance": []
    },
    "kernelspec": {
      "display_name": "base",
      "language": "python",
      "name": "python3"
    },
    "language_info": {
      "codemirror_mode": {
        "name": "ipython",
        "version": 3
      },
      "file_extension": ".py",
      "mimetype": "text/x-python",
      "name": "python",
      "nbconvert_exporter": "python",
      "pygments_lexer": "ipython3",
      "version": "3.12.9"
    }
  },
  "nbformat": 4,
  "nbformat_minor": 0
}
