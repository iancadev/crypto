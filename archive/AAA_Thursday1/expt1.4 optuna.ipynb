{
 "cells": [
  {
   "cell_type": "code",
   "execution_count": 2,
   "id": "02e83714",
   "metadata": {},
   "outputs": [
    {
     "name": "stdout",
     "output_type": "stream",
     "text": [
      "Gap of 0 days 02:00:00 \t\t from 2021-02-11 05:00:00 to 2021-03-06 03:30:00\n",
      "Gap of 0 days 03:00:00 \t\t from 2021-03-06 03:30:00 to 2021-04-20 04:30:00\n",
      "Gap of 0 days 04:30:00 \t\t from 2021-04-20 04:30:00 to 2021-04-25 08:30:00\n",
      "Gap of 0 days 05:00:00 \t\t from 2021-04-25 08:30:00 to 2021-08-13 06:30:00\n",
      "Gap of 0 days 02:30:00 \t\t from 2021-08-13 06:30:00 to 2021-09-29 09:00:00\n",
      "Gap of 0 days 01:30:00 \t\t from 2021-09-29 09:00:00 to 2023-03-24 14:00:00\n",
      "Index(['Open', 'High', 'Low', 'Close', 'Volume', 'Quote asset volume',\n",
      "       'Number of trades', 'Taker buy base asset volume',\n",
      "       'Taker buy quote asset volume', 'Return', 'Return_Target'],\n",
      "      dtype='object')\n"
     ]
    }
   ],
   "source": [
    "import importlib\n",
    "from __imports__ import *\n",
    "import data, LSTM_returns, optimization\n",
    "\n",
    "SOL_df = data.load_asset('SOLUSDT')\n",
    "SOL_df = data.subset(SOL_df, start=pd.Timestamp('2021-01-01 08:00:00'), end=pd.Timestamp('2026-01-01'))\n",
    "data.report_and_print_gaps(SOL_df)\n",
    "\n",
    "SOL_df = data.add_returns(SOL_df)\n",
    "print(SOL_df.columns)\n"
   ]
  },
  {
   "cell_type": "code",
   "execution_count": 4,
   "id": "f457718b",
   "metadata": {},
   "outputs": [
    {
     "data": {
      "text/plain": [
       "{'Open': MinMaxScaler(),\n",
       " 'High': MinMaxScaler(),\n",
       " 'Low': MinMaxScaler(),\n",
       " 'Close': MinMaxScaler(),\n",
       " 'Volume': MinMaxScaler(),\n",
       " 'Quote asset volume': MinMaxScaler(),\n",
       " 'Number of trades': MinMaxScaler(),\n",
       " 'Taker buy base asset volume': MinMaxScaler(),\n",
       " 'Taker buy quote asset volume': MinMaxScaler(),\n",
       " 'Return': MinMaxScaler(),\n",
       " 'Return_Target': 'standard'}"
      ]
     },
     "execution_count": 4,
     "metadata": {},
     "output_type": "execute_result"
    }
   ],
   "source": [
    "# normalize all features but not targets\n",
    "Fbutnt_df = SOL_df.copy()\n",
    "\n",
    "numerical_columns = categorical_columns = \"all\"\n",
    "exclude_columns = ['Return_Target']\n",
    "Fbutnt_features = ['Open', 'High', 'Low', 'Close', 'Volume', 'Quote asset volume', 'Number of trades', 'Taker buy base asset volume',\n",
    "       'Taker buy quote asset volume', 'Return']\n",
    "Fbutnt_df, Fbutnt_columns = data.normalize_data(Fbutnt_df, exclude_columns=exclude_columns)\n",
    "\n",
    "Fbutnt_df = data.train_test_split(Fbutnt_df)\n",
    "Fbutnt_columns"
   ]
  },
  {
   "cell_type": "code",
   "execution_count": null,
   "id": "88f60040",
   "metadata": {},
   "outputs": [
    {
     "name": "stderr",
     "output_type": "stream",
     "text": [
      "[I 2025-04-25 12:26:30,070] A new study created in memory with name: no-name-c6f00b1f-2df6-4180-8c35-bfab4d2559b4\n",
      "C:\\Users\\ic2594\\AppData\\Local\\Temp\\ipykernel_11432\\3775519433.py:10: FutureWarning: suggest_loguniform has been deprecated in v3.0.0. This feature will be removed in v6.0.0. See https://github.com/optuna/optuna/releases/tag/v3.0.0. Use suggest_float(..., log=True) instead.\n",
      "  'learning_rate': trial.suggest_loguniform('learning_rate', 1e-5, 1e-1),\n",
      "c:\\Users\\ic2594\\AppData\\Local\\miniconda3\\Lib\\site-packages\\keras\\src\\layers\\rnn\\rnn.py:200: UserWarning: Do not pass an `input_shape`/`input_dim` argument to a layer. When using Sequential models, prefer using an `Input(shape)` object as the first layer in the model instead.\n",
      "  super().__init__(**kwargs)\n"
     ]
    },
    {
     "name": "stdout",
     "output_type": "stream",
     "text": [
      "\u001b[1m465/465\u001b[0m \u001b[32m━━━━━━━━━━━━━━━━━━━━\u001b[0m\u001b[37m\u001b[0m \u001b[1m11s\u001b[0m 19ms/step - loss: 5.9088e-04 - mae: 0.0180\n"
     ]
    },
    {
     "name": "stderr",
     "output_type": "stream",
     "text": [
      "[I 2025-04-25 12:26:40,851] Trial 0 finished with value: 0.0 and parameters: {'lstm_units': 18, 'dropout_rate': 0.32577781396984473, 'learning_rate': 0.007201065899295995, 'activation': 'sigmoid', 'episode_length': 37}. Best is trial 0 with value: 0.0.\n"
     ]
    },
    {
     "name": "stdout",
     "output_type": "stream",
     "text": [
      "<keras.src.callbacks.history.History object at 0x000002563D6536B0>\n",
      "Best hyperparameters: {'lstm_units': 18, 'dropout_rate': 0.32577781396984473, 'learning_rate': 0.007201065899295995, 'activation': 'sigmoid', 'episode_length': 37}\n"
     ]
    }
   ],
   "source": [
    "import optuna\n",
    "\n",
    "results = None\n",
    "def objective(trial):\n",
    "    global results\n",
    "    # Example of hyperparameter suggestions\n",
    "    hyperparams = {\n",
    "        'lstm_units': trial.suggest_int('lstm_units', 10, 100),\n",
    "        'dropout_rate': trial.suggest_float('dropout_rate', 0.0, 0.5),\n",
    "        'learning_rate': trial.suggest_loguniform('learning_rate', 1e-5, 1e-1),\n",
    "        'activation': trial.suggest_categorical('activation', ['relu', 'tanh', 'sigmoid']),\n",
    "    }\n",
    "    episode_lengths = trial.suggest_int('episode_length', 5, 80)\n",
    "    hyperparams['batch_size'] = 128\n",
    "    hyperparams['epochs'] = 1  # Set to 1 for quick testing; increase for actual training\n",
    "\n",
    "    \n",
    "    # Placeholder for model training and evaluation\n",
    "    train_X_y = LSTM_returns.vectorize_train_data(Fbutnt_df, features=Fbutnt_features, episode_length=episode_lengths)\n",
    "    hyperparams['input_shape'] = train_X_y['train_X'].shape[1:]\n",
    "    \n",
    "    LSTM = LSTM_returns.create(hyperparams)\n",
    "    results = LSTM_returns.train(LSTM, hyperparams, train_X_y, evaluateAtEnd=False)\n",
    "    return results.history['loss'][-1]  # Return the last loss value as the score\n",
    "\n",
    "\n",
    "# Example Optuna study\n",
    "study = optuna.create_study(direction='minimize')  # or 'maximize' depending on the objective\n",
    "study.optimize(objective, n_trials=1)\n",
    "\n",
    "# Print the best hyperparameters\n",
    "print(\"Best hyperparameters:\", study.best_params)"
   ]
  },
  {
   "cell_type": "code",
   "execution_count": 27,
   "id": "e5ceba7c",
   "metadata": {},
   "outputs": [
    {
     "ename": "ImportError",
     "evalue": "Tried to import 'plotly' but failed. Please make sure that the package is installed correctly to use this feature. Actual error: No module named 'plotly'.",
     "output_type": "error",
     "traceback": [
      "\u001b[31m---------------------------------------------------------------------------\u001b[39m",
      "\u001b[31mModuleNotFoundError\u001b[39m                       Traceback (most recent call last)",
      "\u001b[36mFile \u001b[39m\u001b[32mc:\\Users\\ic2594\\AppData\\Local\\miniconda3\\Lib\\site-packages\\optuna\\visualization\\_plotly_imports.py:7\u001b[39m\n\u001b[32m      6\u001b[39m \u001b[38;5;28;01mwith\u001b[39;00m try_import() \u001b[38;5;28;01mas\u001b[39;00m _imports:\n\u001b[32m----> \u001b[39m\u001b[32m7\u001b[39m     \u001b[38;5;28;01mimport\u001b[39;00m \u001b[34;01mplotly\u001b[39;00m\n\u001b[32m      8\u001b[39m     \u001b[38;5;28;01mfrom\u001b[39;00m \u001b[34;01mplotly\u001b[39;00m \u001b[38;5;28;01mimport\u001b[39;00m __version__ \u001b[38;5;28;01mas\u001b[39;00m plotly_version\n",
      "\u001b[31mModuleNotFoundError\u001b[39m: No module named 'plotly'",
      "\nThe above exception was the direct cause of the following exception:\n",
      "\u001b[31mImportError\u001b[39m                               Traceback (most recent call last)",
      "\u001b[36mCell\u001b[39m\u001b[36m \u001b[39m\u001b[32mIn[27]\u001b[39m\u001b[32m, line 5\u001b[39m\n\u001b[32m      2\u001b[39m \u001b[38;5;28;01mimport\u001b[39;00m \u001b[34;01mplotly\u001b[39;00m\n\u001b[32m      4\u001b[39m \u001b[38;5;66;03m# Visualize parameter importance\u001b[39;00m\n\u001b[32m----> \u001b[39m\u001b[32m5\u001b[39m param_importance_fig = \u001b[43mvis\u001b[49m\u001b[43m.\u001b[49m\u001b[43mplot_param_importances\u001b[49m\u001b[43m(\u001b[49m\u001b[43mstudy\u001b[49m\u001b[43m)\u001b[49m\n\u001b[32m      6\u001b[39m param_importance_fig.show()\n\u001b[32m      8\u001b[39m \u001b[38;5;66;03m# Visualize parameter sensitivity\u001b[39;00m\n",
      "\u001b[36mFile \u001b[39m\u001b[32mc:\\Users\\ic2594\\AppData\\Local\\miniconda3\\Lib\\site-packages\\optuna\\visualization\\_param_importances.py:167\u001b[39m, in \u001b[36mplot_param_importances\u001b[39m\u001b[34m(study, evaluator, params, target, target_name)\u001b[39m\n\u001b[32m    113\u001b[39m \u001b[38;5;28;01mdef\u001b[39;00m \u001b[34mplot_param_importances\u001b[39m(\n\u001b[32m    114\u001b[39m     study: Study,\n\u001b[32m    115\u001b[39m     evaluator: BaseImportanceEvaluator | \u001b[38;5;28;01mNone\u001b[39;00m = \u001b[38;5;28;01mNone\u001b[39;00m,\n\u001b[32m   (...)\u001b[39m\u001b[32m    119\u001b[39m     target_name: \u001b[38;5;28mstr\u001b[39m = \u001b[33m\"\u001b[39m\u001b[33mObjective Value\u001b[39m\u001b[33m\"\u001b[39m,\n\u001b[32m    120\u001b[39m ) -> \u001b[33m\"\u001b[39m\u001b[33mgo.Figure\u001b[39m\u001b[33m\"\u001b[39m:\n\u001b[32m    121\u001b[39m \u001b[38;5;250m    \u001b[39m\u001b[33;03m\"\"\"Plot hyperparameter importances.\u001b[39;00m\n\u001b[32m    122\u001b[39m \n\u001b[32m    123\u001b[39m \u001b[33;03m    .. seealso::\u001b[39;00m\n\u001b[32m   (...)\u001b[39m\u001b[32m    164\u001b[39m \u001b[33;03m        A :class:`plotly.graph_objects.Figure` object.\u001b[39;00m\n\u001b[32m    165\u001b[39m \u001b[33;03m    \"\"\"\u001b[39;00m\n\u001b[32m--> \u001b[39m\u001b[32m167\u001b[39m     \u001b[43m_imports\u001b[49m\u001b[43m.\u001b[49m\u001b[43mcheck\u001b[49m\u001b[43m(\u001b[49m\u001b[43m)\u001b[49m\n\u001b[32m    168\u001b[39m     importances_infos = _get_importances_infos(study, evaluator, params, target, target_name)\n\u001b[32m    169\u001b[39m     \u001b[38;5;28;01mreturn\u001b[39;00m _get_importances_plot(importances_infos, study)\n",
      "\u001b[36mFile \u001b[39m\u001b[32mc:\\Users\\ic2594\\AppData\\Local\\miniconda3\\Lib\\site-packages\\optuna\\_imports.py:94\u001b[39m, in \u001b[36m_DeferredImportExceptionContextManager.check\u001b[39m\u001b[34m(self)\u001b[39m\n\u001b[32m     92\u001b[39m \u001b[38;5;28;01mif\u001b[39;00m \u001b[38;5;28mself\u001b[39m._deferred \u001b[38;5;129;01mis\u001b[39;00m \u001b[38;5;129;01mnot\u001b[39;00m \u001b[38;5;28;01mNone\u001b[39;00m:\n\u001b[32m     93\u001b[39m     exc_value, message = \u001b[38;5;28mself\u001b[39m._deferred\n\u001b[32m---> \u001b[39m\u001b[32m94\u001b[39m     \u001b[38;5;28;01mraise\u001b[39;00m \u001b[38;5;167;01mImportError\u001b[39;00m(message) \u001b[38;5;28;01mfrom\u001b[39;00m \u001b[34;01mexc_value\u001b[39;00m\n",
      "\u001b[31mImportError\u001b[39m: Tried to import 'plotly' but failed. Please make sure that the package is installed correctly to use this feature. Actual error: No module named 'plotly'."
     ]
    }
   ],
   "source": [
    "import optuna.visualization as vis\n",
    "import plotly\n",
    "\n",
    "# Visualize parameter importance\n",
    "param_importance_fig = vis.plot_param_importances(study)\n",
    "param_importance_fig.show()\n",
    "\n",
    "# Visualize parameter sensitivity\n",
    "param_sensitivity_fig = vis.plot_slice(study)\n",
    "param_sensitivity_fig.show()"
   ]
  },
  {
   "cell_type": "code",
   "execution_count": 14,
   "id": "701f1eb5",
   "metadata": {},
   "outputs": [
    {
     "data": {
      "text/plain": [
       "(0.0004368710797280073, 0.016942961141467094)"
      ]
     },
     "execution_count": 14,
     "metadata": {},
     "output_type": "execute_result"
    }
   ],
   "source": [
    "results.history['loss'][-1], results.history['mae'][-1]"
   ]
  }
 ],
 "metadata": {
  "kernelspec": {
   "display_name": "base",
   "language": "python",
   "name": "python3"
  },
  "language_info": {
   "codemirror_mode": {
    "name": "ipython",
    "version": 3
   },
   "file_extension": ".py",
   "mimetype": "text/x-python",
   "name": "python",
   "nbconvert_exporter": "python",
   "pygments_lexer": "ipython3",
   "version": "3.12.9"
  }
 },
 "nbformat": 4,
 "nbformat_minor": 5
}
