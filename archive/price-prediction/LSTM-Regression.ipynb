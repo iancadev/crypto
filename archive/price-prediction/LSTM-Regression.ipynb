{
 "cells": [
  {
   "cell_type": "code",
   "execution_count": 66,
   "metadata": {
    "tags": [
     "parameters"
    ]
   },
   "outputs": [],
   "source": [
    "TICKER = \"ETHUSDC\"\n",
    "STOP_DATE = pd.Timestamp(year=2025, month=1, day=1, hour=12)\n",
    "LONGEST_PERIOD_MONTHS = 12\n",
    "NUM_FOLDS = 4 # note: this will test NUM_FOLDS-1 times\n",
    "MIN_LOOKBACK = 5\n",
    "MAX_LOOKBACK = 20\n",
    "NUM_FEATURES = 10"
   ]
  },
  {
   "cell_type": "code",
   "execution_count": 67,
   "metadata": {},
   "outputs": [],
   "source": [
    "import numpy as np\n",
    "import matplotlib.pyplot as plt\n",
    "import pandas as pd\n",
    "import optuna\n",
    "import tensorflow as tf\n",
    "from tensorflow.keras.models import Sequential\n",
    "from tensorflow.keras.layers import LSTM, Dense\n",
    "\n",
    "SAVE_CSV = TICKER + \"_results.csv\"\n",
    "SAVE_MODEL = TICKER + \"_model.h5\"\n",
    "\n",
    "# optuna hyperparams\n",
    "def HYPERPARAMS(funct, **kwargs):\n",
    "    def objective(trial):\n",
    "        learning_rate = trial.suggest_float(\"learning_rate\", 1e-5, 1e-2, log=True)\n",
    "        batch_size = trial.suggest_int(\"batch_size\", 16, 128)\n",
    "        epochs = trial.suggest_int(\"epochs\", 10, 50)\n",
    "        activation = trial.suggest_categorical(\"activation\", [\"relu\", \"tanh\"])\n",
    "        lstm_units = trial.suggest_int(\"lstm_units\", 32, 128)\n",
    "        lookback = trial.suggest_int(\"lookback\", MIN_LOOKBACK, MAX_LOOKBACK)\n",
    "        \n",
    "        hyperparams = {\n",
    "            'learning_rate': learning_rate,\n",
    "            'batch_size': batch_size,\n",
    "            'epochs': epochs,\n",
    "            'lstm_units': lstm_units,\n",
    "            'activation': activation,\n",
    "            'lookback': lookback,\n",
    "        }\n",
    "        return funct(hyperparams=hyperparams, **kwargs)\n",
    "    return objective\n",
    "\n",
    "\n",
    "def appendResult(hyperparams=None, scores=None):\n",
    "    if not scores:\n",
    "        open(SAVE_CSV, \"w\").close()\n",
    "        return\n",
    "    with open(SAVE_CSV, \"a\") as f:\n",
    "        if f.tell() == 0:\n",
    "            f.write(\",\".join([*hyperparams.keys(), *scores.keys()]) + \"\\n\")\n",
    "        f.write(\",\".join(str(i) for i in [*hyperparams.values(), *scores.values()]) + \"\\n\")"
   ]
  },
  {
   "cell_type": "code",
   "execution_count": 68,
   "metadata": {},
   "outputs": [],
   "source": [
    "def dummy_npwarn_decorator_factory():\n",
    "  def npwarn_decorator(x):\n",
    "    return x\n",
    "  return npwarn_decorator\n",
    "np._no_nep50_warning = getattr(np, '_no_nep50_warning', dummy_npwarn_decorator_factory)\n"
   ]
  },
  {
   "cell_type": "markdown",
   "metadata": {},
   "source": [
    "# Okay, but seriously there's a big problem\n",
    "\n",
    "The LSTM is trained on min-max scaled data from 2024-2025.\n",
    "\n",
    "But when we do the RL, the min-max scaling happens from 2025-present.\n",
    "\n",
    "So the min-max scaling isn't even the same."
   ]
  },
  {
   "cell_type": "code",
   "execution_count": 69,
   "metadata": {},
   "outputs": [
    {
     "data": {
      "text/plain": [
       "15"
      ]
     },
     "execution_count": 69,
     "metadata": {},
     "output_type": "execute_result"
    }
   ],
   "source": [
    "def a(x):\n",
    "    a.b = 5\n",
    "    def updateB():\n",
    "        a.b = 10\n",
    "\n",
    "    updateB()\n",
    "\n",
    "    return x + a.b\n",
    "a(5)"
   ]
  },
  {
   "cell_type": "code",
   "execution_count": 70,
   "metadata": {},
   "outputs": [],
   "source": [
    "\"\"\"\n",
    "=== Q&A ===\n",
    "\n",
    "RL Model\n",
    "[      Train      ] [  Test  ]\n",
    "[  Train  ]  [Test]\n",
    "LSTM Model\n",
    "\n",
    "\n",
    "Q: Will this program only have access to \"train\" data? Should it have access to \"test\" data?\n",
    "A: It should not have access to \"test\" data. If we want to see how it performs on test data,\n",
    "we run a separate experiment from \"training\". Even automated performance monitoring on the\n",
    "\"test\" data will be conducted globally, not locally.\n",
    "\n",
    "Q: How will this program optimize the LSTM model before handing it off?\n",
    "Step 1: generate Walk-Forward Test Folds (A test B, AB test C, ABC test D, ... A-Y test Z)\n",
    "Step 2: use optuna to find the hyperparameters that have the best average MSE\n",
    "Step 3: train those hyperparameters on A-Z, publish\n",
    "\n",
    "Q: What financial indicators? What target?\n",
    "A: No financial indicators\n",
    "   Predicts \"Open\"\n",
    "\n",
    "\"\"\"\n",
    "\n",
    "\n",
    "from sklearn import preprocessing\n",
    "def getAssetData(ticker, maxPeriodLength_months=12):\n",
    "    df = pd.read_csv(f'assets/{ticker}.csv')\n",
    "\n",
    "    # filter to longest contiguous before STOP_DATE\n",
    "    df.drop(columns=[\"Ignore\", \"Close time\"], inplace=True)\n",
    "    df[\"Open time\"] = df[\"Open time\"].apply(lambda x: x * 1000 if len(str(x)) < len(\"1738369800000000\") else x)\n",
    "    df[\"Open time\"] = pd.to_datetime(df[\"Open time\"], unit='us')\n",
    "    df.set_index(\"Open time\", inplace=True)\n",
    "    df.sort_index(inplace=True)\n",
    "\n",
    "    df = df[df.index < STOP_DATE]\n",
    "\n",
    "    df[\"Gap\"] = df.index.to_series().diff().dt.total_seconds().div(60).fillna(0)\n",
    "    valid_intervals = df[df[\"Gap\"] <= 30]\n",
    "    last_gap_index = df[df[\"Gap\"] > 30].index[-1]\n",
    "    df = df.loc[last_gap_index:]\n",
    "    \n",
    "\n",
    "    df.drop(columns=[\"Gap\"], inplace=True)\n",
    "\n",
    "    # add financial indicators\n",
    "\n",
    "    # chop off N/A or longer than maxPeriodLength\n",
    "    df.dropna(inplace=True)\n",
    "    df = df[df.index > (df.index[-1] - pd.DateOffset(months=maxPeriodLength_months))]\n",
    "\n",
    "    # normalize except the target\n",
    "    target = df[\"Open\"].copy()\n",
    "    scaler = preprocessing.MinMaxScaler()\n",
    "    normalized_columns = scaler.fit_transform(df)\n",
    "    df = pd.DataFrame(normalized_columns, columns=df.columns, index=df.index)\n",
    "    df[\"Target\"] = target\n",
    "\n",
    "    return df\n",
    "\n",
    "def formatLSTMInput(df, numFolds=4, lookback=5):\n",
    "    foldEndIndices = [int(len(df) * (i + 1) / numFolds) for i in range(numFolds)]\n",
    "    foldEndIndices = [0] + foldEndIndices + [len(df)]\n",
    "\n",
    "    folds = [df.iloc[foldEndIndices[i]:foldEndIndices[i + 1]] for i in range(len(foldEndIndices) - 1)]\n",
    "    folds = [fold.reset_index(drop=True) for fold in folds]\n",
    "\n",
    "    def formatXy(fold):\n",
    "        if len(fold) <= lookback:\n",
    "            print(\"Your fold is smaller than the lookback+1 period, so bro, fix it, please\")\n",
    "            return None, None\n",
    "        X = pd.concat([fold.shift(i) for i in range(lookback, 0, -1)], axis=1).dropna()\n",
    "        X = np.reshape(X.values, (len(X), lookback, len(fold.columns)))\n",
    "        y = np.reshape(fold[\"Target\"].shift(-lookback).dropna(), (-1, 1))\n",
    "        return X, y\n",
    "\n",
    "    # format X and format Y\n",
    "    trainTestFolds = []\n",
    "    for i in range(len(folds)-2):\n",
    "        train_fold = pd.concat(folds[0:i + 1], axis=0)\n",
    "        test_fold = folds[i + 1]\n",
    "        X_train, y_train = formatXy(train_fold)\n",
    "        X_test, y_test = formatXy(test_fold)\n",
    "        trainTestFolds.append({\n",
    "            'X_train': X_train,\n",
    "            'y_train': y_train,\n",
    "            'X_test': X_test,\n",
    "            'y_test': y_test\n",
    "        })\n",
    "    \n",
    "    train_final = pd.concat(folds, axis=0)\n",
    "    X_final, y_final = formatXy(train_final)\n",
    "    finalData = {\n",
    "        'X_train': X_final,\n",
    "        'y_train': y_final,\n",
    "    }\n",
    "\n",
    "    return { 'train-test-folds': trainTestFolds, 'final-train': finalData }\n",
    "\n",
    "def generateModel(hyperparams):\n",
    "    # build the Keras sequential model\n",
    "    learning_rate = hyperparams.get('learning_rate', 0.001)\n",
    "    batch_size = hyperparams.get('batch_size', 32)\n",
    "    epochs = hyperparams.get('epochs', 20)\n",
    "    lstm_units = hyperparams.get('lstm_units', 50)\n",
    "    activation = hyperparams.get('activation', 'relu')\n",
    "    lookback = hyperparams.get('lookback', 5)\n",
    "    input_shape = hyperparams.get('input_shape', (lookback, NUM_FEATURES))\n",
    "\n",
    "    model = Sequential([\n",
    "        LSTM(lstm_units, activation='relu', input_shape=input_shape),\n",
    "        Dense(1)  # Output layer for regression\n",
    "    ])\n",
    "    model.compile(optimizer='adam', loss='mse')\n",
    "    return model\n",
    "\n",
    "def KFoldsTrainTest(hyperparams, data):\n",
    "    inputs = formatLSTMInput(data, numFolds=NUM_FOLDS, lookback=hyperparams['lookback'])\n",
    "    trainTestFolds = inputs['train-test-folds']\n",
    "\n",
    "    hyperparams = hyperparams.copy()\n",
    "    hyperparams['input_shape'] = trainTestFolds[0]['X_train'].shape[1:]\n",
    "\n",
    "    print(f\"Hyperparameters: {hyperparams}\")\n",
    "    print(\"Shape: \", trainTestFolds[0]['X_train'].shape)\n",
    "\n",
    "    # train the model on each fold and evaluate\n",
    "    mse_scores = []\n",
    "    for fold in trainTestFolds:\n",
    "        model = generateModel(hyperparams)\n",
    "        X_train, y_train = fold['X_train'], fold['y_train']\n",
    "        X_test, y_test = fold['X_test'], fold['y_test']\n",
    "\n",
    "        # fit the model\n",
    "        model.fit(X_train, y_train, epochs=hyperparams['epochs'], batch_size=hyperparams['batch_size'], verbose=0)\n",
    "\n",
    "        # evaluate the model\n",
    "        mse = model.evaluate(X_test, y_test, verbose=0)\n",
    "        mse_scores.append(mse)\n",
    "\n",
    "    # return the average MSE\n",
    "    appendResult(hyperparams, { 'mse_scores': \";\".join(str(i) for i in mse_scores) })\n",
    "    return np.mean(mse_scores)\n",
    "\n",
    "def getOptimalModel(saveAs):\n",
    "    appendResult()\n",
    "\n",
    "    data = getAssetData(TICKER, LONGEST_PERIOD_MONTHS)\n",
    "    \n",
    "\n",
    "    objective = HYPERPARAMS(KFoldsTrainTest, data=data)\n",
    "    study = optuna.create_study(direction=\"minimize\")\n",
    "    study.optimize(objective, n_trials=20)\n",
    "    bestHyperparams = study.best_trial.params\n",
    "\n",
    "    finalData = formatLSTMInput(data, NUM_FOLDS, bestHyperparams['lookback'])['final-train']\n",
    "\n",
    "    model = generateModel(bestHyperparams)\n",
    "    model.fit(finalData['X_train'], finalData['y_train'], epochs=bestHyperparams['epochs'], batch_size=bestHyperparams['batch_size'], verbose=1)\n",
    "    model.save(saveAs)\n",
    "    print(f\"Best hyperparameters: {bestHyperparams}\")\n",
    "\n",
    "\n",
    "    # Predict on the training data\n",
    "    predictions = model.predict(finalData['X_train'])\n",
    "\n",
    "    # Calculate errors\n",
    "    errors = predictions.flatten() - finalData['y_train'].flatten()\n",
    "\n",
    "    # Plot error bars\n",
    "    plt.figure(figsize=(10, 6))\n",
    "    plt.errorbar(range(len(errors)), predictions.flatten(), yerr=abs(errors), ecolor='red', label='Prediction with Error Bars')\n",
    "    plt.xlabel('Sample Index')\n",
    "    plt.ylabel('Predicted Value')\n",
    "    plt.title('Prediction Error Bars')\n",
    "    plt.legend()\n",
    "    plt.show()\n",
    "\n",
    "    return { 'model': model, 'hyperparams': bestHyperparams }"
   ]
  },
  {
   "cell_type": "code",
   "execution_count": 71,
   "metadata": {},
   "outputs": [
    {
     "name": "stderr",
     "output_type": "stream",
     "text": [
      "[I 2025-03-29 14:39:23,754] A new study created in memory with name: no-name-88d9c036-fc75-4d7b-aa08-bfd423669ac3\n",
      "c:\\Users\\ic2594\\AppData\\Local\\miniconda3\\Lib\\site-packages\\keras\\src\\layers\\rnn\\rnn.py:200: UserWarning: Do not pass an `input_shape`/`input_dim` argument to a layer. When using Sequential models, prefer using an `Input(shape)` object as the first layer in the model instead.\n",
      "  super().__init__(**kwargs)\n"
     ]
    },
    {
     "name": "stdout",
     "output_type": "stream",
     "text": [
      "Hyperparameters: {'learning_rate': 3.257812484689629e-05, 'batch_size': 55, 'epochs': 11, 'lstm_units': 120, 'activation': 'relu', 'lookback': 8, 'input_shape': (8, 10)}\n",
      "Shape:  (4384, 8, 10)\n"
     ]
    },
    {
     "name": "stderr",
     "output_type": "stream",
     "text": [
      "[I 2025-03-29 14:39:42,103] Trial 0 finished with value: 823.9991251627604 and parameters: {'learning_rate': 3.257812484689629e-05, 'batch_size': 55, 'epochs': 11, 'activation': 'relu', 'lstm_units': 120, 'lookback': 8}. Best is trial 0 with value: 823.9991251627604.\n",
      "c:\\Users\\ic2594\\AppData\\Local\\miniconda3\\Lib\\site-packages\\keras\\src\\layers\\rnn\\rnn.py:200: UserWarning: Do not pass an `input_shape`/`input_dim` argument to a layer. When using Sequential models, prefer using an `Input(shape)` object as the first layer in the model instead.\n",
      "  super().__init__(**kwargs)\n"
     ]
    },
    {
     "name": "stdout",
     "output_type": "stream",
     "text": [
      "Hyperparameters: {'learning_rate': 0.00048347717241872904, 'batch_size': 104, 'epochs': 11, 'lstm_units': 82, 'activation': 'tanh', 'lookback': 19, 'input_shape': (19, 10)}\n",
      "Shape:  (4373, 19, 10)\n"
     ]
    },
    {
     "name": "stderr",
     "output_type": "stream",
     "text": [
      "[I 2025-03-29 14:39:59,657] Trial 1 finished with value: 1205.3614501953125 and parameters: {'learning_rate': 0.00048347717241872904, 'batch_size': 104, 'epochs': 11, 'activation': 'tanh', 'lstm_units': 82, 'lookback': 19}. Best is trial 0 with value: 823.9991251627604.\n",
      "c:\\Users\\ic2594\\AppData\\Local\\miniconda3\\Lib\\site-packages\\keras\\src\\layers\\rnn\\rnn.py:200: UserWarning: Do not pass an `input_shape`/`input_dim` argument to a layer. When using Sequential models, prefer using an `Input(shape)` object as the first layer in the model instead.\n",
      "  super().__init__(**kwargs)\n"
     ]
    },
    {
     "name": "stdout",
     "output_type": "stream",
     "text": [
      "Hyperparameters: {'learning_rate': 0.00019374877111806913, 'batch_size': 72, 'epochs': 38, 'lstm_units': 32, 'activation': 'tanh', 'lookback': 19, 'input_shape': (19, 10)}\n",
      "Shape:  (4373, 19, 10)\n"
     ]
    },
    {
     "name": "stderr",
     "output_type": "stream",
     "text": [
      "[I 2025-03-29 14:40:43,431] Trial 2 finished with value: 1146.3588053385417 and parameters: {'learning_rate': 0.00019374877111806913, 'batch_size': 72, 'epochs': 38, 'activation': 'tanh', 'lstm_units': 32, 'lookback': 19}. Best is trial 0 with value: 823.9991251627604.\n",
      "c:\\Users\\ic2594\\AppData\\Local\\miniconda3\\Lib\\site-packages\\keras\\src\\layers\\rnn\\rnn.py:200: UserWarning: Do not pass an `input_shape`/`input_dim` argument to a layer. When using Sequential models, prefer using an `Input(shape)` object as the first layer in the model instead.\n",
      "  super().__init__(**kwargs)\n"
     ]
    },
    {
     "name": "stdout",
     "output_type": "stream",
     "text": [
      "Hyperparameters: {'learning_rate': 0.007672991512615836, 'batch_size': 63, 'epochs': 10, 'lstm_units': 65, 'activation': 'relu', 'lookback': 15, 'input_shape': (15, 10)}\n",
      "Shape:  (4377, 15, 10)\n"
     ]
    },
    {
     "name": "stderr",
     "output_type": "stream",
     "text": [
      "[I 2025-03-29 14:40:59,614] Trial 3 finished with value: 1671.2621663411458 and parameters: {'learning_rate': 0.007672991512615836, 'batch_size': 63, 'epochs': 10, 'activation': 'relu', 'lstm_units': 65, 'lookback': 15}. Best is trial 0 with value: 823.9991251627604.\n",
      "c:\\Users\\ic2594\\AppData\\Local\\miniconda3\\Lib\\site-packages\\keras\\src\\layers\\rnn\\rnn.py:200: UserWarning: Do not pass an `input_shape`/`input_dim` argument to a layer. When using Sequential models, prefer using an `Input(shape)` object as the first layer in the model instead.\n",
      "  super().__init__(**kwargs)\n"
     ]
    },
    {
     "name": "stdout",
     "output_type": "stream",
     "text": [
      "Hyperparameters: {'learning_rate': 0.0033428051597805043, 'batch_size': 53, 'epochs': 35, 'lstm_units': 74, 'activation': 'tanh', 'lookback': 11, 'input_shape': (11, 10)}\n",
      "Shape:  (4381, 11, 10)\n"
     ]
    },
    {
     "name": "stderr",
     "output_type": "stream",
     "text": [
      "[I 2025-03-29 14:41:44,880] Trial 4 finished with value: 1260.9362182617188 and parameters: {'learning_rate': 0.0033428051597805043, 'batch_size': 53, 'epochs': 35, 'activation': 'tanh', 'lstm_units': 74, 'lookback': 11}. Best is trial 0 with value: 823.9991251627604.\n",
      "c:\\Users\\ic2594\\AppData\\Local\\miniconda3\\Lib\\site-packages\\keras\\src\\layers\\rnn\\rnn.py:200: UserWarning: Do not pass an `input_shape`/`input_dim` argument to a layer. When using Sequential models, prefer using an `Input(shape)` object as the first layer in the model instead.\n",
      "  super().__init__(**kwargs)\n"
     ]
    },
    {
     "name": "stdout",
     "output_type": "stream",
     "text": [
      "Hyperparameters: {'learning_rate': 2.159160592357428e-05, 'batch_size': 98, 'epochs': 20, 'lstm_units': 88, 'activation': 'tanh', 'lookback': 11, 'input_shape': (11, 10)}\n",
      "Shape:  (4381, 11, 10)\n"
     ]
    },
    {
     "name": "stderr",
     "output_type": "stream",
     "text": [
      "[I 2025-03-29 14:42:09,563] Trial 5 finished with value: 879.0972493489584 and parameters: {'learning_rate': 2.159160592357428e-05, 'batch_size': 98, 'epochs': 20, 'activation': 'tanh', 'lstm_units': 88, 'lookback': 11}. Best is trial 0 with value: 823.9991251627604.\n",
      "c:\\Users\\ic2594\\AppData\\Local\\miniconda3\\Lib\\site-packages\\keras\\src\\layers\\rnn\\rnn.py:200: UserWarning: Do not pass an `input_shape`/`input_dim` argument to a layer. When using Sequential models, prefer using an `Input(shape)` object as the first layer in the model instead.\n",
      "  super().__init__(**kwargs)\n"
     ]
    },
    {
     "name": "stdout",
     "output_type": "stream",
     "text": [
      "Hyperparameters: {'learning_rate': 0.00015640103447093088, 'batch_size': 116, 'epochs': 27, 'lstm_units': 109, 'activation': 'tanh', 'lookback': 13, 'input_shape': (13, 10)}\n",
      "Shape:  (4379, 13, 10)\n"
     ]
    },
    {
     "name": "stderr",
     "output_type": "stream",
     "text": [
      "[I 2025-03-29 14:42:48,085] Trial 6 finished with value: 1249.2117309570312 and parameters: {'learning_rate': 0.00015640103447093088, 'batch_size': 116, 'epochs': 27, 'activation': 'tanh', 'lstm_units': 109, 'lookback': 13}. Best is trial 0 with value: 823.9991251627604.\n",
      "c:\\Users\\ic2594\\AppData\\Local\\miniconda3\\Lib\\site-packages\\keras\\src\\layers\\rnn\\rnn.py:200: UserWarning: Do not pass an `input_shape`/`input_dim` argument to a layer. When using Sequential models, prefer using an `Input(shape)` object as the first layer in the model instead.\n",
      "  super().__init__(**kwargs)\n"
     ]
    },
    {
     "name": "stdout",
     "output_type": "stream",
     "text": [
      "Hyperparameters: {'learning_rate': 4.4885353484050625e-05, 'batch_size': 118, 'epochs': 43, 'lstm_units': 80, 'activation': 'tanh', 'lookback': 17, 'input_shape': (17, 10)}\n",
      "Shape:  (4375, 17, 10)\n"
     ]
    },
    {
     "name": "stderr",
     "output_type": "stream",
     "text": [
      "[I 2025-03-29 14:43:44,273] Trial 7 finished with value: 1494.7747802734375 and parameters: {'learning_rate': 4.4885353484050625e-05, 'batch_size': 118, 'epochs': 43, 'activation': 'tanh', 'lstm_units': 80, 'lookback': 17}. Best is trial 0 with value: 823.9991251627604.\n",
      "c:\\Users\\ic2594\\AppData\\Local\\miniconda3\\Lib\\site-packages\\keras\\src\\layers\\rnn\\rnn.py:200: UserWarning: Do not pass an `input_shape`/`input_dim` argument to a layer. When using Sequential models, prefer using an `Input(shape)` object as the first layer in the model instead.\n",
      "  super().__init__(**kwargs)\n"
     ]
    },
    {
     "name": "stdout",
     "output_type": "stream",
     "text": [
      "Hyperparameters: {'learning_rate': 7.040327641953431e-05, 'batch_size': 76, 'epochs': 26, 'lstm_units': 106, 'activation': 'relu', 'lookback': 12, 'input_shape': (12, 10)}\n",
      "Shape:  (4380, 12, 10)\n"
     ]
    },
    {
     "name": "stderr",
     "output_type": "stream",
     "text": [
      "[I 2025-03-29 14:44:30,919] Trial 8 finished with value: 1352.941650390625 and parameters: {'learning_rate': 7.040327641953431e-05, 'batch_size': 76, 'epochs': 26, 'activation': 'relu', 'lstm_units': 106, 'lookback': 12}. Best is trial 0 with value: 823.9991251627604.\n",
      "c:\\Users\\ic2594\\AppData\\Local\\miniconda3\\Lib\\site-packages\\keras\\src\\layers\\rnn\\rnn.py:200: UserWarning: Do not pass an `input_shape`/`input_dim` argument to a layer. When using Sequential models, prefer using an `Input(shape)` object as the first layer in the model instead.\n",
      "  super().__init__(**kwargs)\n"
     ]
    },
    {
     "name": "stdout",
     "output_type": "stream",
     "text": [
      "Hyperparameters: {'learning_rate': 0.0004455207517698801, 'batch_size': 68, 'epochs': 12, 'lstm_units': 55, 'activation': 'tanh', 'lookback': 17, 'input_shape': (17, 10)}\n",
      "Shape:  (4375, 17, 10)\n"
     ]
    },
    {
     "name": "stderr",
     "output_type": "stream",
     "text": [
      "[I 2025-03-29 14:44:48,605] Trial 9 finished with value: 3074.2135009765625 and parameters: {'learning_rate': 0.0004455207517698801, 'batch_size': 68, 'epochs': 12, 'activation': 'tanh', 'lstm_units': 55, 'lookback': 17}. Best is trial 0 with value: 823.9991251627604.\n",
      "c:\\Users\\ic2594\\AppData\\Local\\miniconda3\\Lib\\site-packages\\keras\\src\\layers\\rnn\\rnn.py:200: UserWarning: Do not pass an `input_shape`/`input_dim` argument to a layer. When using Sequential models, prefer using an `Input(shape)` object as the first layer in the model instead.\n",
      "  super().__init__(**kwargs)\n"
     ]
    },
    {
     "name": "stdout",
     "output_type": "stream",
     "text": [
      "Hyperparameters: {'learning_rate': 1.267449396186219e-05, 'batch_size': 21, 'epochs': 19, 'lstm_units': 128, 'activation': 'relu', 'lookback': 6, 'input_shape': (6, 10)}\n",
      "Shape:  (4386, 6, 10)\n"
     ]
    },
    {
     "name": "stderr",
     "output_type": "stream",
     "text": [
      "[I 2025-03-29 14:45:32,118] Trial 10 finished with value: 752.5320027669271 and parameters: {'learning_rate': 1.267449396186219e-05, 'batch_size': 21, 'epochs': 19, 'activation': 'relu', 'lstm_units': 128, 'lookback': 6}. Best is trial 10 with value: 752.5320027669271.\n",
      "c:\\Users\\ic2594\\AppData\\Local\\miniconda3\\Lib\\site-packages\\keras\\src\\layers\\rnn\\rnn.py:200: UserWarning: Do not pass an `input_shape`/`input_dim` argument to a layer. When using Sequential models, prefer using an `Input(shape)` object as the first layer in the model instead.\n",
      "  super().__init__(**kwargs)\n"
     ]
    },
    {
     "name": "stdout",
     "output_type": "stream",
     "text": [
      "Hyperparameters: {'learning_rate': 1.2844007596025787e-05, 'batch_size': 17, 'epochs': 19, 'lstm_units': 125, 'activation': 'relu', 'lookback': 5, 'input_shape': (5, 10)}\n",
      "Shape:  (4387, 5, 10)\n"
     ]
    },
    {
     "name": "stderr",
     "output_type": "stream",
     "text": [
      "[I 2025-03-29 14:46:18,822] Trial 11 finished with value: 706.5919392903646 and parameters: {'learning_rate': 1.2844007596025787e-05, 'batch_size': 17, 'epochs': 19, 'activation': 'relu', 'lstm_units': 125, 'lookback': 5}. Best is trial 11 with value: 706.5919392903646.\n",
      "c:\\Users\\ic2594\\AppData\\Local\\miniconda3\\Lib\\site-packages\\keras\\src\\layers\\rnn\\rnn.py:200: UserWarning: Do not pass an `input_shape`/`input_dim` argument to a layer. When using Sequential models, prefer using an `Input(shape)` object as the first layer in the model instead.\n",
      "  super().__init__(**kwargs)\n"
     ]
    },
    {
     "name": "stdout",
     "output_type": "stream",
     "text": [
      "Hyperparameters: {'learning_rate': 1.2048596644630153e-05, 'batch_size': 16, 'epochs': 22, 'lstm_units': 126, 'activation': 'relu', 'lookback': 6, 'input_shape': (6, 10)}\n",
      "Shape:  (4386, 6, 10)\n"
     ]
    },
    {
     "name": "stderr",
     "output_type": "stream",
     "text": [
      "[I 2025-03-29 14:47:18,726] Trial 12 finished with value: 1322.833760579427 and parameters: {'learning_rate': 1.2048596644630153e-05, 'batch_size': 16, 'epochs': 22, 'activation': 'relu', 'lstm_units': 126, 'lookback': 6}. Best is trial 11 with value: 706.5919392903646.\n",
      "c:\\Users\\ic2594\\AppData\\Local\\miniconda3\\Lib\\site-packages\\keras\\src\\layers\\rnn\\rnn.py:200: UserWarning: Do not pass an `input_shape`/`input_dim` argument to a layer. When using Sequential models, prefer using an `Input(shape)` object as the first layer in the model instead.\n",
      "  super().__init__(**kwargs)\n"
     ]
    },
    {
     "name": "stdout",
     "output_type": "stream",
     "text": [
      "Hyperparameters: {'learning_rate': 1.1254986449284801e-05, 'batch_size': 16, 'epochs': 17, 'lstm_units': 101, 'activation': 'relu', 'lookback': 5, 'input_shape': (5, 10)}\n",
      "Shape:  (4387, 5, 10)\n"
     ]
    },
    {
     "name": "stderr",
     "output_type": "stream",
     "text": [
      "[I 2025-03-29 14:47:56,819] Trial 13 finished with value: 715.9677124023438 and parameters: {'learning_rate': 1.1254986449284801e-05, 'batch_size': 16, 'epochs': 17, 'activation': 'relu', 'lstm_units': 101, 'lookback': 5}. Best is trial 11 with value: 706.5919392903646.\n",
      "c:\\Users\\ic2594\\AppData\\Local\\miniconda3\\Lib\\site-packages\\keras\\src\\layers\\rnn\\rnn.py:200: UserWarning: Do not pass an `input_shape`/`input_dim` argument to a layer. When using Sequential models, prefer using an `Input(shape)` object as the first layer in the model instead.\n",
      "  super().__init__(**kwargs)\n"
     ]
    },
    {
     "name": "stdout",
     "output_type": "stream",
     "text": [
      "Hyperparameters: {'learning_rate': 0.0014172404403670485, 'batch_size': 30, 'epochs': 19, 'lstm_units': 102, 'activation': 'relu', 'lookback': 5, 'input_shape': (5, 10)}\n",
      "Shape:  (4387, 5, 10)\n"
     ]
    },
    {
     "name": "stderr",
     "output_type": "stream",
     "text": [
      "[I 2025-03-29 14:48:26,785] Trial 14 finished with value: 680.982666015625 and parameters: {'learning_rate': 0.0014172404403670485, 'batch_size': 30, 'epochs': 19, 'activation': 'relu', 'lstm_units': 102, 'lookback': 5}. Best is trial 14 with value: 680.982666015625.\n",
      "c:\\Users\\ic2594\\AppData\\Local\\miniconda3\\Lib\\site-packages\\keras\\src\\layers\\rnn\\rnn.py:200: UserWarning: Do not pass an `input_shape`/`input_dim` argument to a layer. When using Sequential models, prefer using an `Input(shape)` object as the first layer in the model instead.\n",
      "  super().__init__(**kwargs)\n"
     ]
    },
    {
     "name": "stdout",
     "output_type": "stream",
     "text": [
      "Hyperparameters: {'learning_rate': 0.0014604607121456161, 'batch_size': 36, 'epochs': 49, 'lstm_units': 96, 'activation': 'relu', 'lookback': 8, 'input_shape': (8, 10)}\n",
      "Shape:  (4384, 8, 10)\n"
     ]
    },
    {
     "name": "stderr",
     "output_type": "stream",
     "text": [
      "[I 2025-03-29 14:49:45,002] Trial 15 finished with value: 949.9841918945312 and parameters: {'learning_rate': 0.0014604607121456161, 'batch_size': 36, 'epochs': 49, 'activation': 'relu', 'lstm_units': 96, 'lookback': 8}. Best is trial 14 with value: 680.982666015625.\n",
      "c:\\Users\\ic2594\\AppData\\Local\\miniconda3\\Lib\\site-packages\\keras\\src\\layers\\rnn\\rnn.py:200: UserWarning: Do not pass an `input_shape`/`input_dim` argument to a layer. When using Sequential models, prefer using an `Input(shape)` object as the first layer in the model instead.\n",
      "  super().__init__(**kwargs)\n"
     ]
    },
    {
     "name": "stdout",
     "output_type": "stream",
     "text": [
      "Hyperparameters: {'learning_rate': 0.0011901517845497717, 'batch_size': 36, 'epochs': 32, 'lstm_units': 114, 'activation': 'relu', 'lookback': 8, 'input_shape': (8, 10)}\n",
      "Shape:  (4384, 8, 10)\n"
     ]
    },
    {
     "name": "stderr",
     "output_type": "stream",
     "text": [
      "[I 2025-03-29 14:50:42,026] Trial 16 finished with value: 1104.6334025065105 and parameters: {'learning_rate': 0.0011901517845497717, 'batch_size': 36, 'epochs': 32, 'activation': 'relu', 'lstm_units': 114, 'lookback': 8}. Best is trial 14 with value: 680.982666015625.\n",
      "c:\\Users\\ic2594\\AppData\\Local\\miniconda3\\Lib\\site-packages\\keras\\src\\layers\\rnn\\rnn.py:200: UserWarning: Do not pass an `input_shape`/`input_dim` argument to a layer. When using Sequential models, prefer using an `Input(shape)` object as the first layer in the model instead.\n",
      "  super().__init__(**kwargs)\n"
     ]
    },
    {
     "name": "stdout",
     "output_type": "stream",
     "text": [
      "Hyperparameters: {'learning_rate': 0.001122494874263858, 'batch_size': 33, 'epochs': 26, 'lstm_units': 116, 'activation': 'relu', 'lookback': 9, 'input_shape': (9, 10)}\n",
      "Shape:  (4383, 9, 10)\n"
     ]
    },
    {
     "name": "stderr",
     "output_type": "stream",
     "text": [
      "[I 2025-03-29 14:51:31,573] Trial 17 finished with value: 878.4680989583334 and parameters: {'learning_rate': 0.001122494874263858, 'batch_size': 33, 'epochs': 26, 'activation': 'relu', 'lstm_units': 116, 'lookback': 9}. Best is trial 14 with value: 680.982666015625.\n",
      "c:\\Users\\ic2594\\AppData\\Local\\miniconda3\\Lib\\site-packages\\keras\\src\\layers\\rnn\\rnn.py:200: UserWarning: Do not pass an `input_shape`/`input_dim` argument to a layer. When using Sequential models, prefer using an `Input(shape)` object as the first layer in the model instead.\n",
      "  super().__init__(**kwargs)\n"
     ]
    },
    {
     "name": "stdout",
     "output_type": "stream",
     "text": [
      "Hyperparameters: {'learning_rate': 0.009041481031097066, 'batch_size': 45, 'epochs': 16, 'lstm_units': 94, 'activation': 'relu', 'lookback': 5, 'input_shape': (5, 10)}\n",
      "Shape:  (4387, 5, 10)\n"
     ]
    },
    {
     "name": "stderr",
     "output_type": "stream",
     "text": [
      "[I 2025-03-29 14:51:50,533] Trial 18 finished with value: 624.7999471028646 and parameters: {'learning_rate': 0.009041481031097066, 'batch_size': 45, 'epochs': 16, 'activation': 'relu', 'lstm_units': 94, 'lookback': 5}. Best is trial 18 with value: 624.7999471028646.\n",
      "c:\\Users\\ic2594\\AppData\\Local\\miniconda3\\Lib\\site-packages\\keras\\src\\layers\\rnn\\rnn.py:200: UserWarning: Do not pass an `input_shape`/`input_dim` argument to a layer. When using Sequential models, prefer using an `Input(shape)` object as the first layer in the model instead.\n",
      "  super().__init__(**kwargs)\n"
     ]
    },
    {
     "name": "stdout",
     "output_type": "stream",
     "text": [
      "Hyperparameters: {'learning_rate': 0.009889370552248438, 'batch_size': 48, 'epochs': 15, 'lstm_units': 94, 'activation': 'relu', 'lookback': 10, 'input_shape': (10, 10)}\n",
      "Shape:  (4382, 10, 10)\n"
     ]
    },
    {
     "name": "stderr",
     "output_type": "stream",
     "text": [
      "[I 2025-03-29 14:52:13,949] Trial 19 finished with value: 851.64453125 and parameters: {'learning_rate': 0.009889370552248438, 'batch_size': 48, 'epochs': 15, 'activation': 'relu', 'lstm_units': 94, 'lookback': 10}. Best is trial 18 with value: 624.7999471028646.\n"
     ]
    },
    {
     "name": "stdout",
     "output_type": "stream",
     "text": [
      "Epoch 1/16\n"
     ]
    },
    {
     "name": "stderr",
     "output_type": "stream",
     "text": [
      "c:\\Users\\ic2594\\AppData\\Local\\miniconda3\\Lib\\site-packages\\keras\\src\\layers\\rnn\\rnn.py:200: UserWarning: Do not pass an `input_shape`/`input_dim` argument to a layer. When using Sequential models, prefer using an `Input(shape)` object as the first layer in the model instead.\n",
      "  super().__init__(**kwargs)\n"
     ]
    },
    {
     "name": "stdout",
     "output_type": "stream",
     "text": [
      "\u001b[1m391/391\u001b[0m \u001b[32m━━━━━━━━━━━━━━━━━━━━\u001b[0m\u001b[37m\u001b[0m \u001b[1m1s\u001b[0m 2ms/step - loss: 3257411.5000\n",
      "Epoch 2/16\n",
      "\u001b[1m391/391\u001b[0m \u001b[32m━━━━━━━━━━━━━━━━━━━━\u001b[0m\u001b[37m\u001b[0m \u001b[1m1s\u001b[0m 2ms/step - loss: 4790.5132\n",
      "Epoch 3/16\n",
      "\u001b[1m391/391\u001b[0m \u001b[32m━━━━━━━━━━━━━━━━━━━━\u001b[0m\u001b[37m\u001b[0m \u001b[1m1s\u001b[0m 2ms/step - loss: 745.7451\n",
      "Epoch 4/16\n",
      "\u001b[1m391/391\u001b[0m \u001b[32m━━━━━━━━━━━━━━━━━━━━\u001b[0m\u001b[37m\u001b[0m \u001b[1m1s\u001b[0m 2ms/step - loss: 742.2798\n",
      "Epoch 5/16\n",
      "\u001b[1m391/391\u001b[0m \u001b[32m━━━━━━━━━━━━━━━━━━━━\u001b[0m\u001b[37m\u001b[0m \u001b[1m1s\u001b[0m 2ms/step - loss: 796.6109\n",
      "Epoch 6/16\n",
      "\u001b[1m391/391\u001b[0m \u001b[32m━━━━━━━━━━━━━━━━━━━━\u001b[0m\u001b[37m\u001b[0m \u001b[1m1s\u001b[0m 2ms/step - loss: 753.9861\n",
      "Epoch 7/16\n",
      "\u001b[1m391/391\u001b[0m \u001b[32m━━━━━━━━━━━━━━━━━━━━\u001b[0m\u001b[37m\u001b[0m \u001b[1m1s\u001b[0m 2ms/step - loss: 815.9762\n",
      "Epoch 8/16\n",
      "\u001b[1m391/391\u001b[0m \u001b[32m━━━━━━━━━━━━━━━━━━━━\u001b[0m\u001b[37m\u001b[0m \u001b[1m1s\u001b[0m 2ms/step - loss: 749.5327\n",
      "Epoch 9/16\n",
      "\u001b[1m391/391\u001b[0m \u001b[32m━━━━━━━━━━━━━━━━━━━━\u001b[0m\u001b[37m\u001b[0m \u001b[1m1s\u001b[0m 2ms/step - loss: 790.7542\n",
      "Epoch 10/16\n",
      "\u001b[1m391/391\u001b[0m \u001b[32m━━━━━━━━━━━━━━━━━━━━\u001b[0m\u001b[37m\u001b[0m \u001b[1m1s\u001b[0m 2ms/step - loss: 794.7924\n",
      "Epoch 11/16\n",
      "\u001b[1m391/391\u001b[0m \u001b[32m━━━━━━━━━━━━━━━━━━━━\u001b[0m\u001b[37m\u001b[0m \u001b[1m1s\u001b[0m 2ms/step - loss: 1109.2380\n",
      "Epoch 12/16\n",
      "\u001b[1m391/391\u001b[0m \u001b[32m━━━━━━━━━━━━━━━━━━━━\u001b[0m\u001b[37m\u001b[0m \u001b[1m1s\u001b[0m 2ms/step - loss: 791.7214\n",
      "Epoch 13/16\n",
      "\u001b[1m391/391\u001b[0m \u001b[32m━━━━━━━━━━━━━━━━━━━━\u001b[0m\u001b[37m\u001b[0m \u001b[1m1s\u001b[0m 2ms/step - loss: 778.3120\n",
      "Epoch 14/16\n",
      "\u001b[1m391/391\u001b[0m \u001b[32m━━━━━━━━━━━━━━━━━━━━\u001b[0m\u001b[37m\u001b[0m \u001b[1m1s\u001b[0m 2ms/step - loss: 809.3370\n",
      "Epoch 15/16\n",
      "\u001b[1m391/391\u001b[0m \u001b[32m━━━━━━━━━━━━━━━━━━━━\u001b[0m\u001b[37m\u001b[0m \u001b[1m1s\u001b[0m 2ms/step - loss: 797.4761\n",
      "Epoch 16/16\n",
      "\u001b[1m391/391\u001b[0m \u001b[32m━━━━━━━━━━━━━━━━━━━━\u001b[0m\u001b[37m\u001b[0m \u001b[1m1s\u001b[0m 2ms/step - loss: 813.8248\n"
     ]
    },
    {
     "name": "stderr",
     "output_type": "stream",
     "text": [
      "WARNING:absl:You are saving your model as an HDF5 file via `model.save()` or `keras.saving.save_model(model)`. This file format is considered legacy. We recommend using instead the native Keras format, e.g. `model.save('my_model.keras')` or `keras.saving.save_model(model, 'my_model.keras')`. \n"
     ]
    },
    {
     "name": "stdout",
     "output_type": "stream",
     "text": [
      "Best hyperparameters: {'learning_rate': 0.009041481031097066, 'batch_size': 45, 'epochs': 16, 'activation': 'relu', 'lstm_units': 94, 'lookback': 5}\n",
      "\u001b[1m549/549\u001b[0m \u001b[32m━━━━━━━━━━━━━━━━━━━━\u001b[0m\u001b[37m\u001b[0m \u001b[1m1s\u001b[0m 876us/step\n"
     ]
    },
    {
     "data": {
      "image/png": "[encoded data removed]",
      "text/plain": [
       "<Figure size 1000x600 with 1 Axes>"
      ]
     },
     "metadata": {},
     "output_type": "display_data"
    },
    {
     "data": {
      "text/plain": [
       "{'model': <Sequential name=sequential_164, built=True>,\n",
       " 'hyperparams': {'learning_rate': 0.009041481031097066,\n",
       "  'batch_size': 45,\n",
       "  'epochs': 16,\n",
       "  'activation': 'relu',\n",
       "  'lstm_units': 94,\n",
       "  'lookback': 5}}"
      ]
     },
     "execution_count": 71,
     "metadata": {},
     "output_type": "execute_result"
    }
   ],
   "source": [
    "getOptimalModel(SAVE_MODEL)"
   ]
  }
 ],
 "metadata": {
  "kernelspec": {
   "display_name": "base",
   "language": "python",
   "name": "python3"
  },
  "language_info": {
   "codemirror_mode": {
    "name": "ipython",
    "version": 3
   },
   "file_extension": ".py",
   "mimetype": "text/x-python",
   "name": "python",
   "nbconvert_exporter": "python",
   "pygments_lexer": "ipython3",
   "version": "3.12.9"
  }
 },
 "nbformat": 4,
 "nbformat_minor": 2
}
