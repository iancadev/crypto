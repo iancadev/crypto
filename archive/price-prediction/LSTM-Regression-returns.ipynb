{
 "cells": [
  {
   "cell_type": "code",
   "execution_count": 1,
   "metadata": {
    "tags": [
     "parameters"
    ]
   },
   "outputs": [],
   "source": [
    "import pandas as pd\n",
    "\n",
    "TICKER = \"ETHUSDC\"\n",
    "STOP_DATE = pd.Timestamp(year=2025, month=1, day=1, hour=12)\n",
    "LONGEST_PERIOD_MONTHS = 12\n",
    "NUM_FOLDS = 4 # note: this will test NUM_FOLDS-1 times\n",
    "MIN_LOOKBACK = 5\n",
    "MAX_LOOKBACK = 20\n",
    "NUM_FEATURES = 10"
   ]
  },
  {
   "cell_type": "code",
   "execution_count": 2,
   "metadata": {},
   "outputs": [
    {
     "name": "stderr",
     "output_type": "stream",
     "text": [
      "c:\\Users\\ic2594\\AppData\\Local\\miniconda3\\Lib\\site-packages\\tqdm\\auto.py:21: TqdmWarning: IProgress not found. Please update jupyter and ipywidgets. See https://ipywidgets.readthedocs.io/en/stable/user_install.html\n",
      "  from .autonotebook import tqdm as notebook_tqdm\n"
     ]
    }
   ],
   "source": [
    "import numpy as np\n",
    "import matplotlib.pyplot as plt\n",
    "import optuna\n",
    "import tensorflow as tf\n",
    "from tensorflow.keras.models import Sequential\n",
    "from tensorflow.keras.layers import LSTM, Dense\n",
    "\n",
    "SAVE_CSV = TICKER + \"_results.csv\"\n",
    "SAVE_MODEL = TICKER + \"_model.h5\"\n",
    "\n",
    "# optuna hyperparams\n",
    "def HYPERPARAMS(funct, **kwargs):\n",
    "    def objective(trial):\n",
    "        learning_rate = trial.suggest_float(\"learning_rate\", 1e-5, 1e-2, log=True)\n",
    "        batch_size = trial.suggest_int(\"batch_size\", 16, 128)\n",
    "        epochs = trial.suggest_int(\"epochs\", 10, 50)\n",
    "        activation = trial.suggest_categorical(\"activation\", [\"relu\", \"tanh\"])\n",
    "        lstm_units = trial.suggest_int(\"lstm_units\", 32, 128)\n",
    "        lookback = trial.suggest_int(\"lookback\", MIN_LOOKBACK, MAX_LOOKBACK)\n",
    "        \n",
    "        hyperparams = {\n",
    "            'learning_rate': learning_rate,\n",
    "            'batch_size': batch_size,\n",
    "            'epochs': epochs,\n",
    "            'lstm_units': lstm_units,\n",
    "            'activation': activation,\n",
    "            'lookback': lookback,\n",
    "        }\n",
    "        return funct(hyperparams=hyperparams, **kwargs)\n",
    "    return objective\n",
    "\n",
    "\n",
    "def appendResult(hyperparams=None, scores=None):\n",
    "    if not scores:\n",
    "        open(SAVE_CSV, \"w\").close()\n",
    "        return\n",
    "    with open(SAVE_CSV, \"a\") as f:\n",
    "        if f.tell() == 0:\n",
    "            f.write(\",\".join([*hyperparams.keys(), *scores.keys()]) + \"\\n\")\n",
    "        f.write(\",\".join(str(i) for i in [*hyperparams.values(), *scores.values()]) + \"\\n\")"
   ]
  },
  {
   "cell_type": "code",
   "execution_count": 3,
   "metadata": {},
   "outputs": [],
   "source": [
    "def dummy_npwarn_decorator_factory():\n",
    "  def npwarn_decorator(x):\n",
    "    return x\n",
    "  return npwarn_decorator\n",
    "np._no_nep50_warning = getattr(np, '_no_nep50_warning', dummy_npwarn_decorator_factory)\n"
   ]
  },
  {
   "cell_type": "markdown",
   "metadata": {},
   "source": [
    "# Okay, but seriously there's a big problem\n",
    "\n",
    "The LSTM is trained on min-max scaled data from 2024-2025.\n",
    "\n",
    "But when we do the RL, the min-max scaling happens from 2025-present.\n",
    "\n",
    "So the min-max scaling isn't even the same."
   ]
  },
  {
   "cell_type": "code",
   "execution_count": 4,
   "metadata": {},
   "outputs": [
    {
     "data": {
      "text/plain": [
       "15"
      ]
     },
     "execution_count": 4,
     "metadata": {},
     "output_type": "execute_result"
    }
   ],
   "source": [
    "def a(x):\n",
    "    a.b = 5\n",
    "    def updateB():\n",
    "        a.b = 10\n",
    "\n",
    "    updateB()\n",
    "\n",
    "    return x + a.b\n",
    "a(5)"
   ]
  },
  {
   "cell_type": "code",
   "execution_count": 5,
   "metadata": {},
   "outputs": [],
   "source": [
    "\"\"\"\n",
    "=== Q&A ===\n",
    "\n",
    "RL Model\n",
    "[      Train      ] [  Test  ]\n",
    "[  Train  ]  [Test]\n",
    "LSTM Model\n",
    "\n",
    "\n",
    "Q: Will this program only have access to \"train\" data? Should it have access to \"test\" data?\n",
    "A: It should not have access to \"test\" data. If we want to see how it performs on test data,\n",
    "we run a separate experiment from \"training\". Even automated performance monitoring on the\n",
    "\"test\" data will be conducted globally, not locally.\n",
    "\n",
    "Q: How will this program optimize the LSTM model before handing it off?\n",
    "Step 1: generate Walk-Forward Test Folds (A test B, AB test C, ABC test D, ... A-Y test Z)\n",
    "Step 2: use optuna to find the hyperparameters that have the best average MSE\n",
    "Step 3: train those hyperparameters on A-Z, publish\n",
    "\n",
    "Q: What financial indicators? What target?\n",
    "A: No financial indicators\n",
    "   Predicts \"Open\"\n",
    "\n",
    "\"\"\"\n",
    "\n",
    "\n",
    "from sklearn import preprocessing\n",
    "def getAssetData(ticker, maxPeriodLength_months=12):\n",
    "    df = pd.read_csv(f'assets/{ticker}.csv')\n",
    "\n",
    "    # filter to longest contiguous before STOP_DATE\n",
    "    df.drop(columns=[\"Ignore\", \"Close time\"], inplace=True)\n",
    "    df[\"Open time\"] = df[\"Open time\"].apply(lambda x: x * 1000 if len(str(x)) < len(\"1738369800000000\") else x)\n",
    "    df[\"Open time\"] = pd.to_datetime(df[\"Open time\"], unit='us')\n",
    "    df.set_index(\"Open time\", inplace=True)\n",
    "    df.sort_index(inplace=True)\n",
    "\n",
    "    df = df[df.index < STOP_DATE]\n",
    "\n",
    "    df[\"Gap\"] = df.index.to_series().diff().dt.total_seconds().div(60).fillna(0)\n",
    "    valid_intervals = df[df[\"Gap\"] <= 30]\n",
    "    last_gap_index = df[df[\"Gap\"] > 30].index[-1]\n",
    "    df = df.loc[last_gap_index:]\n",
    "    \n",
    "\n",
    "    df.drop(columns=[\"Gap\"], inplace=True)\n",
    "\n",
    "    # add financial indicators\n",
    "\n",
    "    # chop off N/A or longer than maxPeriodLength\n",
    "    df.dropna(inplace=True)\n",
    "    df = df[df.index > (df.index[-1] - pd.DateOffset(months=maxPeriodLength_months))]\n",
    "\n",
    "    # normalize except the target\n",
    "    target = df[\"Open\"].copy().pct_change()\n",
    "    display(target)\n",
    "    target.fillna(0, inplace=True)\n",
    "    scaler = preprocessing.MinMaxScaler()\n",
    "    normalized_columns = scaler.fit_transform(df)\n",
    "    df = pd.DataFrame(normalized_columns, columns=df.columns, index=df.index)\n",
    "    df[\"Target\"] = target\n",
    "    display(df[\"Target\"])\n",
    "\n",
    "    return df\n",
    "\n",
    "def formatLSTMInput(df, numFolds=4, lookback=5):\n",
    "    foldEndIndices = [int(len(df) * (i + 1) / numFolds) for i in range(numFolds)]\n",
    "    foldEndIndices = [0] + foldEndIndices + [len(df)]\n",
    "\n",
    "    folds = [df.iloc[foldEndIndices[i]:foldEndIndices[i + 1]] for i in range(len(foldEndIndices) - 1)]\n",
    "    folds = [fold.reset_index(drop=True) for fold in folds]\n",
    "\n",
    "    def formatXy(fold):\n",
    "        if len(fold) <= lookback:\n",
    "            print(\"Your fold is smaller than the lookback+1 period, so bro, fix it, please\")\n",
    "            return None, None\n",
    "        X = pd.concat([fold.shift(i) for i in range(lookback, 0, -1)], axis=1).dropna()\n",
    "        X = np.reshape(X.values, (len(X), lookback, len(fold.columns)))\n",
    "        y = np.reshape(fold[\"Target\"].shift(-lookback).dropna(), (-1, 1))\n",
    "        return X, y\n",
    "\n",
    "    # format X and format Y\n",
    "    trainTestFolds = []\n",
    "    for i in range(len(folds)-2):\n",
    "        train_fold = pd.concat(folds[0:i + 1], axis=0)\n",
    "        test_fold = folds[i + 1]\n",
    "        X_train, y_train = formatXy(train_fold)\n",
    "        X_test, y_test = formatXy(test_fold)\n",
    "        trainTestFolds.append({\n",
    "            'X_train': X_train,\n",
    "            'y_train': y_train,\n",
    "            'X_test': X_test,\n",
    "            'y_test': y_test\n",
    "        })\n",
    "    \n",
    "    train_final = pd.concat(folds, axis=0)\n",
    "    X_final, y_final = formatXy(train_final)\n",
    "    finalData = {\n",
    "        'X_train': X_final,\n",
    "        'y_train': y_final,\n",
    "        'open': train_final[\"Open\"].values[lookback:],\n",
    "    }\n",
    "\n",
    "    return { 'train-test-folds': trainTestFolds, 'final-train': finalData }\n",
    "\n",
    "def generateModel(hyperparams):\n",
    "    # build the Keras sequential model\n",
    "    learning_rate = hyperparams.get('learning_rate', 0.001)\n",
    "    batch_size = hyperparams.get('batch_size', 32)\n",
    "    epochs = hyperparams.get('epochs', 20)\n",
    "    lstm_units = hyperparams.get('lstm_units', 50)\n",
    "    activation = hyperparams.get('activation', 'relu')\n",
    "    lookback = hyperparams.get('lookback', 5)\n",
    "    input_shape = hyperparams.get('input_shape', (lookback, NUM_FEATURES))\n",
    "\n",
    "    model = Sequential([\n",
    "        LSTM(lstm_units, activation='relu', input_shape=input_shape),\n",
    "        Dense(1)  # Output layer for regression\n",
    "    ])\n",
    "    model.compile(optimizer='adam', loss='mse')\n",
    "    return model\n",
    "\n",
    "def KFoldsTrainTest(hyperparams, data):\n",
    "    inputs = formatLSTMInput(data, numFolds=NUM_FOLDS, lookback=hyperparams['lookback'])\n",
    "    trainTestFolds = inputs['train-test-folds']\n",
    "\n",
    "    hyperparams = hyperparams.copy()\n",
    "    hyperparams['input_shape'] = trainTestFolds[0]['X_train'].shape[1:]\n",
    "\n",
    "    print(f\"Hyperparameters: {hyperparams}\")\n",
    "    print(\"Shape: \", trainTestFolds[0]['X_train'].shape)\n",
    "\n",
    "    # train the model on each fold and evaluate\n",
    "    mse_scores = []\n",
    "    for fold in trainTestFolds:\n",
    "        model = generateModel(hyperparams)\n",
    "        X_train, y_train = fold['X_train'], fold['y_train']\n",
    "        X_test, y_test = fold['X_test'], fold['y_test']\n",
    "\n",
    "        # fit the model\n",
    "        model.fit(X_train, y_train, epochs=hyperparams['epochs'], batch_size=hyperparams['batch_size'], verbose=0)\n",
    "\n",
    "        # evaluate the model\n",
    "        mse = model.evaluate(X_test, y_test, verbose=0)\n",
    "        mse_scores.append(mse)\n",
    "\n",
    "    # return the average MSE\n",
    "    appendResult(hyperparams, { 'mse_scores': \";\".join(str(i) for i in mse_scores) })\n",
    "    return np.mean(mse_scores)\n",
    "\n",
    "def getOptimalModel(saveAs):\n",
    "    appendResult()\n",
    "\n",
    "    data = getAssetData(TICKER, LONGEST_PERIOD_MONTHS)\n",
    "    \n",
    "\n",
    "    objective = HYPERPARAMS(KFoldsTrainTest, data=data)\n",
    "    study = optuna.create_study(direction=\"minimize\")\n",
    "    study.optimize(objective, n_trials=25)\n",
    "    bestHyperparams = study.best_trial.params\n",
    "\n",
    "    finalData = formatLSTMInput(data, NUM_FOLDS, bestHyperparams['lookback'])['final-train']\n",
    "\n",
    "    model = generateModel(bestHyperparams)\n",
    "    model.fit(finalData['X_train'], finalData['y_train'], epochs=bestHyperparams['epochs'], batch_size=bestHyperparams['batch_size'], verbose=1)\n",
    "    model.save(saveAs)\n",
    "    print(f\"Best hyperparameters: {bestHyperparams}\")\n",
    "\n",
    "\n",
    "    # Predict on the training data\n",
    "    predictions = model.predict(finalData['X_train'])\n",
    "\n",
    "    print(finalData['open'])\n",
    "\n",
    "    # Calculate errors\n",
    "    errors = (predictions.flatten()) - finalData['y_train'].flatten()\n",
    "\n",
    "    # Plot error bars\n",
    "    plt.figure(figsize=(10, 6))\n",
    "    plt.errorbar(range(len(errors)), predictions.flatten(), yerr=abs(errors), ecolor='red', label='Prediction with Error Bars')\n",
    "    plt.xlabel('Sample Index')\n",
    "    plt.ylabel('Predicted Value')\n",
    "    plt.title('Prediction Error Bars')\n",
    "    plt.legend()\n",
    "    plt.show()\n",
    "\n",
    "    return { 'model': model, 'hyperparams': bestHyperparams }"
   ]
  },
  {
   "cell_type": "code",
   "execution_count": 6,
   "metadata": {},
   "outputs": [
    {
     "data": {
      "text/plain": [
       "Open time\n",
       "2024-01-01 12:00:00         NaN\n",
       "2024-01-01 12:30:00   -0.000564\n",
       "2024-01-01 13:00:00   -0.001910\n",
       "2024-01-01 13:30:00    0.002988\n",
       "2024-01-01 14:00:00   -0.000707\n",
       "                         ...   \n",
       "2025-01-01 09:30:00   -0.004197\n",
       "2025-01-01 10:00:00    0.003425\n",
       "2025-01-01 10:30:00   -0.000427\n",
       "2025-01-01 11:00:00   -0.001921\n",
       "2025-01-01 11:30:00    0.002560\n",
       "Name: Open, Length: 17568, dtype: float64"
      ]
     },
     "metadata": {},
     "output_type": "display_data"
    },
    {
     "data": {
      "text/plain": [
       "Open time\n",
       "2024-01-01 12:00:00    0.000000\n",
       "2024-01-01 12:30:00   -0.000564\n",
       "2024-01-01 13:00:00   -0.001910\n",
       "2024-01-01 13:30:00    0.002988\n",
       "2024-01-01 14:00:00   -0.000707\n",
       "                         ...   \n",
       "2025-01-01 09:30:00   -0.004197\n",
       "2025-01-01 10:00:00    0.003425\n",
       "2025-01-01 10:30:00   -0.000427\n",
       "2025-01-01 11:00:00   -0.001921\n",
       "2025-01-01 11:30:00    0.002560\n",
       "Name: Target, Length: 17568, dtype: float64"
      ]
     },
     "metadata": {},
     "output_type": "display_data"
    },
    {
     "name": "stderr",
     "output_type": "stream",
     "text": [
      "[I 2025-03-29 14:59:01,979] A new study created in memory with name: no-name-7abbcaef-048a-4855-a292-458a32fdaba0\n",
      "c:\\Users\\ic2594\\AppData\\Local\\miniconda3\\Lib\\site-packages\\keras\\src\\layers\\rnn\\rnn.py:200: UserWarning: Do not pass an `input_shape`/`input_dim` argument to a layer. When using Sequential models, prefer using an `Input(shape)` object as the first layer in the model instead.\n",
      "  super().__init__(**kwargs)\n"
     ]
    },
    {
     "name": "stdout",
     "output_type": "stream",
     "text": [
      "Hyperparameters: {'learning_rate': 0.0004010774779928836, 'batch_size': 55, 'epochs': 42, 'lstm_units': 103, 'activation': 'relu', 'lookback': 18, 'input_shape': (18, 10)}\n",
      "Shape:  (4374, 18, 10)\n"
     ]
    },
    {
     "name": "stderr",
     "output_type": "stream",
     "text": [
      "[I 2025-03-29 15:00:30,736] Trial 0 finished with value: 1.6112015259750478e-06 and parameters: {'learning_rate': 0.0004010774779928836, 'batch_size': 55, 'epochs': 42, 'activation': 'relu', 'lstm_units': 103, 'lookback': 18}. Best is trial 0 with value: 1.6112015259750478e-06.\n",
      "c:\\Users\\ic2594\\AppData\\Local\\miniconda3\\Lib\\site-packages\\keras\\src\\layers\\rnn\\rnn.py:200: UserWarning: Do not pass an `input_shape`/`input_dim` argument to a layer. When using Sequential models, prefer using an `Input(shape)` object as the first layer in the model instead.\n",
      "  super().__init__(**kwargs)\n"
     ]
    },
    {
     "name": "stdout",
     "output_type": "stream",
     "text": [
      "Hyperparameters: {'learning_rate': 0.000618424331041106, 'batch_size': 22, 'epochs': 47, 'lstm_units': 64, 'activation': 'relu', 'lookback': 9, 'input_shape': (9, 10)}\n",
      "Shape:  (4383, 9, 10)\n"
     ]
    },
    {
     "name": "stderr",
     "output_type": "stream",
     "text": [
      "[I 2025-03-29 15:02:01,985] Trial 1 finished with value: 2.638559370401102e-06 and parameters: {'learning_rate': 0.000618424331041106, 'batch_size': 22, 'epochs': 47, 'activation': 'relu', 'lstm_units': 64, 'lookback': 9}. Best is trial 0 with value: 1.6112015259750478e-06.\n",
      "c:\\Users\\ic2594\\AppData\\Local\\miniconda3\\Lib\\site-packages\\keras\\src\\layers\\rnn\\rnn.py:200: UserWarning: Do not pass an `input_shape`/`input_dim` argument to a layer. When using Sequential models, prefer using an `Input(shape)` object as the first layer in the model instead.\n",
      "  super().__init__(**kwargs)\n"
     ]
    },
    {
     "name": "stdout",
     "output_type": "stream",
     "text": [
      "Hyperparameters: {'learning_rate': 4.0534857970037343e-05, 'batch_size': 115, 'epochs': 47, 'lstm_units': 60, 'activation': 'relu', 'lookback': 17, 'input_shape': (17, 10)}\n",
      "Shape:  (4375, 17, 10)\n"
     ]
    },
    {
     "name": "stderr",
     "output_type": "stream",
     "text": [
      "[I 2025-03-29 15:02:49,968] Trial 2 finished with value: 1.1372226860354809e-05 and parameters: {'learning_rate': 4.0534857970037343e-05, 'batch_size': 115, 'epochs': 47, 'activation': 'relu', 'lstm_units': 60, 'lookback': 17}. Best is trial 0 with value: 1.6112015259750478e-06.\n",
      "c:\\Users\\ic2594\\AppData\\Local\\miniconda3\\Lib\\site-packages\\keras\\src\\layers\\rnn\\rnn.py:200: UserWarning: Do not pass an `input_shape`/`input_dim` argument to a layer. When using Sequential models, prefer using an `Input(shape)` object as the first layer in the model instead.\n",
      "  super().__init__(**kwargs)\n"
     ]
    },
    {
     "name": "stdout",
     "output_type": "stream",
     "text": [
      "Hyperparameters: {'learning_rate': 0.00031617071806176614, 'batch_size': 23, 'epochs': 22, 'lstm_units': 47, 'activation': 'relu', 'lookback': 18, 'input_shape': (18, 10)}\n",
      "Shape:  (4374, 18, 10)\n"
     ]
    },
    {
     "name": "stderr",
     "output_type": "stream",
     "text": [
      "[I 2025-03-29 15:03:48,037] Trial 3 finished with value: 5.70387703646702e-06 and parameters: {'learning_rate': 0.00031617071806176614, 'batch_size': 23, 'epochs': 22, 'activation': 'relu', 'lstm_units': 47, 'lookback': 18}. Best is trial 0 with value: 1.6112015259750478e-06.\n",
      "c:\\Users\\ic2594\\AppData\\Local\\miniconda3\\Lib\\site-packages\\keras\\src\\layers\\rnn\\rnn.py:200: UserWarning: Do not pass an `input_shape`/`input_dim` argument to a layer. When using Sequential models, prefer using an `Input(shape)` object as the first layer in the model instead.\n",
      "  super().__init__(**kwargs)\n"
     ]
    },
    {
     "name": "stdout",
     "output_type": "stream",
     "text": [
      "Hyperparameters: {'learning_rate': 0.000430855057955439, 'batch_size': 72, 'epochs': 30, 'lstm_units': 79, 'activation': 'tanh', 'lookback': 16, 'input_shape': (16, 10)}\n",
      "Shape:  (4376, 16, 10)\n"
     ]
    },
    {
     "name": "stderr",
     "output_type": "stream",
     "text": [
      "[I 2025-03-29 15:04:32,018] Trial 4 finished with value: 1.0379343090486751e-05 and parameters: {'learning_rate': 0.000430855057955439, 'batch_size': 72, 'epochs': 30, 'activation': 'tanh', 'lstm_units': 79, 'lookback': 16}. Best is trial 0 with value: 1.6112015259750478e-06.\n",
      "c:\\Users\\ic2594\\AppData\\Local\\miniconda3\\Lib\\site-packages\\keras\\src\\layers\\rnn\\rnn.py:200: UserWarning: Do not pass an `input_shape`/`input_dim` argument to a layer. When using Sequential models, prefer using an `Input(shape)` object as the first layer in the model instead.\n",
      "  super().__init__(**kwargs)\n"
     ]
    },
    {
     "name": "stdout",
     "output_type": "stream",
     "text": [
      "Hyperparameters: {'learning_rate': 0.0030832933825798285, 'batch_size': 85, 'epochs': 18, 'lstm_units': 123, 'activation': 'tanh', 'lookback': 12, 'input_shape': (12, 10)}\n",
      "Shape:  (4380, 12, 10)\n"
     ]
    },
    {
     "name": "stderr",
     "output_type": "stream",
     "text": [
      "[I 2025-03-29 15:05:01,237] Trial 5 finished with value: 2.1526019130154356e-05 and parameters: {'learning_rate': 0.0030832933825798285, 'batch_size': 85, 'epochs': 18, 'activation': 'tanh', 'lstm_units': 123, 'lookback': 12}. Best is trial 0 with value: 1.6112015259750478e-06.\n",
      "c:\\Users\\ic2594\\AppData\\Local\\miniconda3\\Lib\\site-packages\\keras\\src\\layers\\rnn\\rnn.py:200: UserWarning: Do not pass an `input_shape`/`input_dim` argument to a layer. When using Sequential models, prefer using an `Input(shape)` object as the first layer in the model instead.\n",
      "  super().__init__(**kwargs)\n"
     ]
    },
    {
     "name": "stdout",
     "output_type": "stream",
     "text": [
      "Hyperparameters: {'learning_rate': 1.055451030116085e-05, 'batch_size': 52, 'epochs': 41, 'lstm_units': 49, 'activation': 'tanh', 'lookback': 20, 'input_shape': (20, 10)}\n",
      "Shape:  (4372, 20, 10)\n"
     ]
    },
    {
     "name": "stderr",
     "output_type": "stream",
     "text": [
      "[I 2025-03-29 15:06:01,450] Trial 6 finished with value: 6.258821334389116e-06 and parameters: {'learning_rate': 1.055451030116085e-05, 'batch_size': 52, 'epochs': 41, 'activation': 'tanh', 'lstm_units': 49, 'lookback': 20}. Best is trial 0 with value: 1.6112015259750478e-06.\n",
      "c:\\Users\\ic2594\\AppData\\Local\\miniconda3\\Lib\\site-packages\\keras\\src\\layers\\rnn\\rnn.py:200: UserWarning: Do not pass an `input_shape`/`input_dim` argument to a layer. When using Sequential models, prefer using an `Input(shape)` object as the first layer in the model instead.\n",
      "  super().__init__(**kwargs)\n"
     ]
    },
    {
     "name": "stdout",
     "output_type": "stream",
     "text": [
      "Hyperparameters: {'learning_rate': 0.002182182946817078, 'batch_size': 126, 'epochs': 39, 'lstm_units': 56, 'activation': 'relu', 'lookback': 10, 'input_shape': (10, 10)}\n",
      "Shape:  (4382, 10, 10)\n"
     ]
    },
    {
     "name": "stderr",
     "output_type": "stream",
     "text": [
      "[I 2025-03-29 15:06:28,473] Trial 7 finished with value: 1.2190992492833175e-05 and parameters: {'learning_rate': 0.002182182946817078, 'batch_size': 126, 'epochs': 39, 'activation': 'relu', 'lstm_units': 56, 'lookback': 10}. Best is trial 0 with value: 1.6112015259750478e-06.\n",
      "c:\\Users\\ic2594\\AppData\\Local\\miniconda3\\Lib\\site-packages\\keras\\src\\layers\\rnn\\rnn.py:200: UserWarning: Do not pass an `input_shape`/`input_dim` argument to a layer. When using Sequential models, prefer using an `Input(shape)` object as the first layer in the model instead.\n",
      "  super().__init__(**kwargs)\n"
     ]
    },
    {
     "name": "stdout",
     "output_type": "stream",
     "text": [
      "Hyperparameters: {'learning_rate': 3.080922281129671e-05, 'batch_size': 100, 'epochs': 49, 'lstm_units': 41, 'activation': 'relu', 'lookback': 11, 'input_shape': (11, 10)}\n",
      "Shape:  (4381, 11, 10)\n"
     ]
    },
    {
     "name": "stderr",
     "output_type": "stream",
     "text": [
      "[I 2025-03-29 15:07:02,236] Trial 8 finished with value: 4.572187587352043e-06 and parameters: {'learning_rate': 3.080922281129671e-05, 'batch_size': 100, 'epochs': 49, 'activation': 'relu', 'lstm_units': 41, 'lookback': 11}. Best is trial 0 with value: 1.6112015259750478e-06.\n",
      "c:\\Users\\ic2594\\AppData\\Local\\miniconda3\\Lib\\site-packages\\keras\\src\\layers\\rnn\\rnn.py:200: UserWarning: Do not pass an `input_shape`/`input_dim` argument to a layer. When using Sequential models, prefer using an `Input(shape)` object as the first layer in the model instead.\n",
      "  super().__init__(**kwargs)\n"
     ]
    },
    {
     "name": "stdout",
     "output_type": "stream",
     "text": [
      "Hyperparameters: {'learning_rate': 3.466984182285568e-05, 'batch_size': 90, 'epochs': 32, 'lstm_units': 109, 'activation': 'relu', 'lookback': 6, 'input_shape': (6, 10)}\n",
      "Shape:  (4386, 6, 10)\n"
     ]
    },
    {
     "name": "stderr",
     "output_type": "stream",
     "text": [
      "[I 2025-03-29 15:07:29,856] Trial 9 finished with value: 9.198420457323664e-06 and parameters: {'learning_rate': 3.466984182285568e-05, 'batch_size': 90, 'epochs': 32, 'activation': 'relu', 'lstm_units': 109, 'lookback': 6}. Best is trial 0 with value: 1.6112015259750478e-06.\n",
      "c:\\Users\\ic2594\\AppData\\Local\\miniconda3\\Lib\\site-packages\\keras\\src\\layers\\rnn\\rnn.py:200: UserWarning: Do not pass an `input_shape`/`input_dim` argument to a layer. When using Sequential models, prefer using an `Input(shape)` object as the first layer in the model instead.\n",
      "  super().__init__(**kwargs)\n"
     ]
    },
    {
     "name": "stdout",
     "output_type": "stream",
     "text": [
      "Hyperparameters: {'learning_rate': 0.008402567245871857, 'batch_size': 49, 'epochs': 10, 'lstm_units': 100, 'activation': 'tanh', 'lookback': 15, 'input_shape': (15, 10)}\n",
      "Shape:  (4377, 15, 10)\n"
     ]
    },
    {
     "name": "stderr",
     "output_type": "stream",
     "text": [
      "[I 2025-03-29 15:07:52,464] Trial 10 finished with value: 1.9345640036287175e-05 and parameters: {'learning_rate': 0.008402567245871857, 'batch_size': 49, 'epochs': 10, 'activation': 'tanh', 'lstm_units': 100, 'lookback': 15}. Best is trial 0 with value: 1.6112015259750478e-06.\n",
      "c:\\Users\\ic2594\\AppData\\Local\\miniconda3\\Lib\\site-packages\\keras\\src\\layers\\rnn\\rnn.py:200: UserWarning: Do not pass an `input_shape`/`input_dim` argument to a layer. When using Sequential models, prefer using an `Input(shape)` object as the first layer in the model instead.\n",
      "  super().__init__(**kwargs)\n"
     ]
    },
    {
     "name": "stdout",
     "output_type": "stream",
     "text": [
      "Hyperparameters: {'learning_rate': 0.0003206044832303934, 'batch_size': 24, 'epochs': 42, 'lstm_units': 81, 'activation': 'relu', 'lookback': 7, 'input_shape': (7, 10)}\n",
      "Shape:  (4385, 7, 10)\n"
     ]
    },
    {
     "name": "stderr",
     "output_type": "stream",
     "text": [
      "[I 2025-03-29 15:09:09,312] Trial 11 finished with value: 7.833255513863454e-07 and parameters: {'learning_rate': 0.0003206044832303934, 'batch_size': 24, 'epochs': 42, 'activation': 'relu', 'lstm_units': 81, 'lookback': 7}. Best is trial 11 with value: 7.833255513863454e-07.\n",
      "c:\\Users\\ic2594\\AppData\\Local\\miniconda3\\Lib\\site-packages\\keras\\src\\layers\\rnn\\rnn.py:200: UserWarning: Do not pass an `input_shape`/`input_dim` argument to a layer. When using Sequential models, prefer using an `Input(shape)` object as the first layer in the model instead.\n",
      "  super().__init__(**kwargs)\n"
     ]
    },
    {
     "name": "stdout",
     "output_type": "stream",
     "text": [
      "Hyperparameters: {'learning_rate': 0.0002205418754384301, 'batch_size': 40, 'epochs': 37, 'lstm_units': 87, 'activation': 'relu', 'lookback': 5, 'input_shape': (5, 10)}\n",
      "Shape:  (4387, 5, 10)\n"
     ]
    },
    {
     "name": "stderr",
     "output_type": "stream",
     "text": [
      "[I 2025-03-29 15:09:50,194] Trial 12 finished with value: 3.339486625009158e-06 and parameters: {'learning_rate': 0.0002205418754384301, 'batch_size': 40, 'epochs': 37, 'activation': 'relu', 'lstm_units': 87, 'lookback': 5}. Best is trial 11 with value: 7.833255513863454e-07.\n",
      "c:\\Users\\ic2594\\AppData\\Local\\miniconda3\\Lib\\site-packages\\keras\\src\\layers\\rnn\\rnn.py:200: UserWarning: Do not pass an `input_shape`/`input_dim` argument to a layer. When using Sequential models, prefer using an `Input(shape)` object as the first layer in the model instead.\n",
      "  super().__init__(**kwargs)\n"
     ]
    },
    {
     "name": "stdout",
     "output_type": "stream",
     "text": [
      "Hyperparameters: {'learning_rate': 0.000173094314337107, 'batch_size': 62, 'epochs': 42, 'lstm_units': 82, 'activation': 'relu', 'lookback': 8, 'input_shape': (8, 10)}\n",
      "Shape:  (4384, 8, 10)\n"
     ]
    },
    {
     "name": "stderr",
     "output_type": "stream",
     "text": [
      "[I 2025-03-29 15:10:32,919] Trial 13 finished with value: 4.098986740549056e-06 and parameters: {'learning_rate': 0.000173094314337107, 'batch_size': 62, 'epochs': 42, 'activation': 'relu', 'lstm_units': 82, 'lookback': 8}. Best is trial 11 with value: 7.833255513863454e-07.\n",
      "c:\\Users\\ic2594\\AppData\\Local\\miniconda3\\Lib\\site-packages\\keras\\src\\layers\\rnn\\rnn.py:200: UserWarning: Do not pass an `input_shape`/`input_dim` argument to a layer. When using Sequential models, prefer using an `Input(shape)` object as the first layer in the model instead.\n",
      "  super().__init__(**kwargs)\n"
     ]
    },
    {
     "name": "stdout",
     "output_type": "stream",
     "text": [
      "Hyperparameters: {'learning_rate': 0.0009846188414176376, 'batch_size': 30, 'epochs': 32, 'lstm_units': 100, 'activation': 'relu', 'lookback': 14, 'input_shape': (14, 10)}\n",
      "Shape:  (4378, 14, 10)\n"
     ]
    },
    {
     "name": "stderr",
     "output_type": "stream",
     "text": [
      "[I 2025-03-29 15:11:50,216] Trial 14 finished with value: 2.360640905862965e-06 and parameters: {'learning_rate': 0.0009846188414176376, 'batch_size': 30, 'epochs': 32, 'activation': 'relu', 'lstm_units': 100, 'lookback': 14}. Best is trial 11 with value: 7.833255513863454e-07.\n",
      "c:\\Users\\ic2594\\AppData\\Local\\miniconda3\\Lib\\site-packages\\keras\\src\\layers\\rnn\\rnn.py:200: UserWarning: Do not pass an `input_shape`/`input_dim` argument to a layer. When using Sequential models, prefer using an `Input(shape)` object as the first layer in the model instead.\n",
      "  super().__init__(**kwargs)\n"
     ]
    },
    {
     "name": "stdout",
     "output_type": "stream",
     "text": [
      "Hyperparameters: {'learning_rate': 8.502425870981268e-05, 'batch_size': 16, 'epochs': 36, 'lstm_units': 128, 'activation': 'relu', 'lookback': 20, 'input_shape': (20, 10)}\n",
      "Shape:  (4372, 20, 10)\n"
     ]
    },
    {
     "name": "stderr",
     "output_type": "stream",
     "text": [
      "[I 2025-03-29 15:16:08,949] Trial 15 finished with value: 8.833855010455712e-07 and parameters: {'learning_rate': 8.502425870981268e-05, 'batch_size': 16, 'epochs': 36, 'activation': 'relu', 'lstm_units': 128, 'lookback': 20}. Best is trial 11 with value: 7.833255513863454e-07.\n",
      "c:\\Users\\ic2594\\AppData\\Local\\miniconda3\\Lib\\site-packages\\keras\\src\\layers\\rnn\\rnn.py:200: UserWarning: Do not pass an `input_shape`/`input_dim` argument to a layer. When using Sequential models, prefer using an `Input(shape)` object as the first layer in the model instead.\n",
      "  super().__init__(**kwargs)\n"
     ]
    },
    {
     "name": "stdout",
     "output_type": "stream",
     "text": [
      "Hyperparameters: {'learning_rate': 9.817136520911526e-05, 'batch_size': 16, 'epochs': 26, 'lstm_units': 32, 'activation': 'relu', 'lookback': 7, 'input_shape': (7, 10)}\n",
      "Shape:  (4385, 7, 10)\n"
     ]
    },
    {
     "name": "stderr",
     "output_type": "stream",
     "text": [
      "[I 2025-03-29 15:18:49,129] Trial 16 finished with value: 5.544249442361131e-06 and parameters: {'learning_rate': 9.817136520911526e-05, 'batch_size': 16, 'epochs': 26, 'activation': 'relu', 'lstm_units': 32, 'lookback': 7}. Best is trial 11 with value: 7.833255513863454e-07.\n",
      "c:\\Users\\ic2594\\AppData\\Local\\miniconda3\\Lib\\site-packages\\keras\\src\\layers\\rnn\\rnn.py:200: UserWarning: Do not pass an `input_shape`/`input_dim` argument to a layer. When using Sequential models, prefer using an `Input(shape)` object as the first layer in the model instead.\n",
      "  super().__init__(**kwargs)\n"
     ]
    },
    {
     "name": "stdout",
     "output_type": "stream",
     "text": [
      "Hyperparameters: {'learning_rate': 8.959598383387469e-05, 'batch_size': 36, 'epochs': 36, 'lstm_units': 121, 'activation': 'relu', 'lookback': 19, 'input_shape': (19, 10)}\n",
      "Shape:  (4373, 19, 10)\n"
     ]
    },
    {
     "name": "stderr",
     "output_type": "stream",
     "text": [
      "[I 2025-03-29 15:25:43,545] Trial 17 finished with value: 1.6230094009491343e-06 and parameters: {'learning_rate': 8.959598383387469e-05, 'batch_size': 36, 'epochs': 36, 'activation': 'relu', 'lstm_units': 121, 'lookback': 19}. Best is trial 11 with value: 7.833255513863454e-07.\n",
      "c:\\Users\\ic2594\\AppData\\Local\\miniconda3\\Lib\\site-packages\\keras\\src\\layers\\rnn\\rnn.py:200: UserWarning: Do not pass an `input_shape`/`input_dim` argument to a layer. When using Sequential models, prefer using an `Input(shape)` object as the first layer in the model instead.\n",
      "  super().__init__(**kwargs)\n"
     ]
    },
    {
     "name": "stdout",
     "output_type": "stream",
     "text": [
      "Hyperparameters: {'learning_rate': 9.043217541578939e-05, 'batch_size': 41, 'epochs': 27, 'lstm_units': 69, 'activation': 'tanh', 'lookback': 14, 'input_shape': (14, 10)}\n",
      "Shape:  (4378, 14, 10)\n"
     ]
    },
    {
     "name": "stderr",
     "output_type": "stream",
     "text": [
      "[I 2025-03-29 15:28:38,894] Trial 18 finished with value: 6.1104262082759915e-06 and parameters: {'learning_rate': 9.043217541578939e-05, 'batch_size': 41, 'epochs': 27, 'activation': 'tanh', 'lstm_units': 69, 'lookback': 14}. Best is trial 11 with value: 7.833255513863454e-07.\n",
      "c:\\Users\\ic2594\\AppData\\Local\\miniconda3\\Lib\\site-packages\\keras\\src\\layers\\rnn\\rnn.py:200: UserWarning: Do not pass an `input_shape`/`input_dim` argument to a layer. When using Sequential models, prefer using an `Input(shape)` object as the first layer in the model instead.\n",
      "  super().__init__(**kwargs)\n"
     ]
    },
    {
     "name": "stdout",
     "output_type": "stream",
     "text": [
      "Hyperparameters: {'learning_rate': 1.0079631803524431e-05, 'batch_size': 29, 'epochs': 45, 'lstm_units': 114, 'activation': 'relu', 'lookback': 13, 'input_shape': (13, 10)}\n",
      "Shape:  (4379, 13, 10)\n"
     ]
    },
    {
     "name": "stderr",
     "output_type": "stream",
     "text": [
      "[I 2025-03-29 15:33:48,608] Trial 19 finished with value: 1.2091584551399137e-06 and parameters: {'learning_rate': 1.0079631803524431e-05, 'batch_size': 29, 'epochs': 45, 'activation': 'relu', 'lstm_units': 114, 'lookback': 13}. Best is trial 11 with value: 7.833255513863454e-07.\n",
      "c:\\Users\\ic2594\\AppData\\Local\\miniconda3\\Lib\\site-packages\\keras\\src\\layers\\rnn\\rnn.py:200: UserWarning: Do not pass an `input_shape`/`input_dim` argument to a layer. When using Sequential models, prefer using an `Input(shape)` object as the first layer in the model instead.\n",
      "  super().__init__(**kwargs)\n"
     ]
    },
    {
     "name": "stdout",
     "output_type": "stream",
     "text": [
      "Hyperparameters: {'learning_rate': 0.001133937280232081, 'batch_size': 65, 'epochs': 35, 'lstm_units': 90, 'activation': 'relu', 'lookback': 9, 'input_shape': (9, 10)}\n",
      "Shape:  (4383, 9, 10)\n"
     ]
    },
    {
     "name": "stderr",
     "output_type": "stream",
     "text": [
      "[I 2025-03-29 15:34:27,699] Trial 20 finished with value: 8.006180488943452e-06 and parameters: {'learning_rate': 0.001133937280232081, 'batch_size': 65, 'epochs': 35, 'activation': 'relu', 'lstm_units': 90, 'lookback': 9}. Best is trial 11 with value: 7.833255513863454e-07.\n",
      "c:\\Users\\ic2594\\AppData\\Local\\miniconda3\\Lib\\site-packages\\keras\\src\\layers\\rnn\\rnn.py:200: UserWarning: Do not pass an `input_shape`/`input_dim` argument to a layer. When using Sequential models, prefer using an `Input(shape)` object as the first layer in the model instead.\n",
      "  super().__init__(**kwargs)\n"
     ]
    },
    {
     "name": "stdout",
     "output_type": "stream",
     "text": [
      "Hyperparameters: {'learning_rate': 1.8286356695004256e-05, 'batch_size': 16, 'epochs': 44, 'lstm_units': 115, 'activation': 'relu', 'lookback': 13, 'input_shape': (13, 10)}\n",
      "Shape:  (4379, 13, 10)\n"
     ]
    },
    {
     "name": "stderr",
     "output_type": "stream",
     "text": [
      "[I 2025-03-29 15:37:20,553] Trial 21 finished with value: 9.590111176294158e-07 and parameters: {'learning_rate': 1.8286356695004256e-05, 'batch_size': 16, 'epochs': 44, 'activation': 'relu', 'lstm_units': 115, 'lookback': 13}. Best is trial 11 with value: 7.833255513863454e-07.\n",
      "c:\\Users\\ic2594\\AppData\\Local\\miniconda3\\Lib\\site-packages\\keras\\src\\layers\\rnn\\rnn.py:200: UserWarning: Do not pass an `input_shape`/`input_dim` argument to a layer. When using Sequential models, prefer using an `Input(shape)` object as the first layer in the model instead.\n",
      "  super().__init__(**kwargs)\n"
     ]
    },
    {
     "name": "stdout",
     "output_type": "stream",
     "text": [
      "Hyperparameters: {'learning_rate': 1.8362083203465908e-05, 'batch_size': 16, 'epochs': 44, 'lstm_units': 127, 'activation': 'relu', 'lookback': 12, 'input_shape': (12, 10)}\n",
      "Shape:  (4380, 12, 10)\n"
     ]
    },
    {
     "name": "stderr",
     "output_type": "stream",
     "text": [
      "[I 2025-03-29 15:40:27,727] Trial 22 finished with value: 1.098522640556136e-06 and parameters: {'learning_rate': 1.8362083203465908e-05, 'batch_size': 16, 'epochs': 44, 'activation': 'relu', 'lstm_units': 127, 'lookback': 12}. Best is trial 11 with value: 7.833255513863454e-07.\n",
      "c:\\Users\\ic2594\\AppData\\Local\\miniconda3\\Lib\\site-packages\\keras\\src\\layers\\rnn\\rnn.py:200: UserWarning: Do not pass an `input_shape`/`input_dim` argument to a layer. When using Sequential models, prefer using an `Input(shape)` object as the first layer in the model instead.\n",
      "  super().__init__(**kwargs)\n"
     ]
    },
    {
     "name": "stdout",
     "output_type": "stream",
     "text": [
      "Hyperparameters: {'learning_rate': 5.455232025472645e-05, 'batch_size': 31, 'epochs': 50, 'lstm_units': 109, 'activation': 'relu', 'lookback': 5, 'input_shape': (5, 10)}\n",
      "Shape:  (4387, 5, 10)\n"
     ]
    },
    {
     "name": "stderr",
     "output_type": "stream",
     "text": [
      "[I 2025-03-29 15:41:41,314] Trial 23 finished with value: 3.8582469035948934e-06 and parameters: {'learning_rate': 5.455232025472645e-05, 'batch_size': 31, 'epochs': 50, 'activation': 'relu', 'lstm_units': 109, 'lookback': 5}. Best is trial 11 with value: 7.833255513863454e-07.\n",
      "c:\\Users\\ic2594\\AppData\\Local\\miniconda3\\Lib\\site-packages\\keras\\src\\layers\\rnn\\rnn.py:200: UserWarning: Do not pass an `input_shape`/`input_dim` argument to a layer. When using Sequential models, prefer using an `Input(shape)` object as the first layer in the model instead.\n",
      "  super().__init__(**kwargs)\n"
     ]
    },
    {
     "name": "stdout",
     "output_type": "stream",
     "text": [
      "Hyperparameters: {'learning_rate': 1.934540427275438e-05, 'batch_size': 16, 'epochs': 39, 'lstm_units': 118, 'activation': 'relu', 'lookback': 20, 'input_shape': (20, 10)}\n",
      "Shape:  (4372, 20, 10)\n"
     ]
    },
    {
     "name": "stderr",
     "output_type": "stream",
     "text": [
      "[I 2025-03-29 15:45:06,722] Trial 24 finished with value: 9.070152107900261e-07 and parameters: {'learning_rate': 1.934540427275438e-05, 'batch_size': 16, 'epochs': 39, 'activation': 'relu', 'lstm_units': 118, 'lookback': 20}. Best is trial 11 with value: 7.833255513863454e-07.\n"
     ]
    },
    {
     "name": "stdout",
     "output_type": "stream",
     "text": [
      "Epoch 1/42\n"
     ]
    },
    {
     "name": "stderr",
     "output_type": "stream",
     "text": [
      "c:\\Users\\ic2594\\AppData\\Local\\miniconda3\\Lib\\site-packages\\keras\\src\\layers\\rnn\\rnn.py:200: UserWarning: Do not pass an `input_shape`/`input_dim` argument to a layer. When using Sequential models, prefer using an `Input(shape)` object as the first layer in the model instead.\n",
      "  super().__init__(**kwargs)\n"
     ]
    },
    {
     "name": "stdout",
     "output_type": "stream",
     "text": [
      "\u001b[1m732/732\u001b[0m \u001b[32m━━━━━━━━━━━━━━━━━━━━\u001b[0m\u001b[37m\u001b[0m \u001b[1m2s\u001b[0m 2ms/step - loss: 6.7171e-05\n",
      "Epoch 2/42\n",
      "\u001b[1m732/732\u001b[0m \u001b[32m━━━━━━━━━━━━━━━━━━━━\u001b[0m\u001b[37m\u001b[0m \u001b[1m1s\u001b[0m 2ms/step - loss: 2.4907e-05\n",
      "Epoch 3/42\n",
      "\u001b[1m732/732\u001b[0m \u001b[32m━━━━━━━━━━━━━━━━━━━━\u001b[0m\u001b[37m\u001b[0m \u001b[1m1s\u001b[0m 2ms/step - loss: 2.3381e-05\n",
      "Epoch 4/42\n",
      "\u001b[1m732/732\u001b[0m \u001b[32m━━━━━━━━━━━━━━━━━━━━\u001b[0m\u001b[37m\u001b[0m \u001b[1m1s\u001b[0m 2ms/step - loss: 2.3873e-05\n",
      "Epoch 5/42\n",
      "\u001b[1m732/732\u001b[0m \u001b[32m━━━━━━━━━━━━━━━━━━━━\u001b[0m\u001b[37m\u001b[0m \u001b[1m1s\u001b[0m 2ms/step - loss: 2.0989e-05\n",
      "Epoch 6/42\n",
      "\u001b[1m732/732\u001b[0m \u001b[32m━━━━━━━━━━━━━━━━━━━━\u001b[0m\u001b[37m\u001b[0m \u001b[1m1s\u001b[0m 2ms/step - loss: 1.7952e-05\n",
      "Epoch 7/42\n",
      "\u001b[1m732/732\u001b[0m \u001b[32m━━━━━━━━━━━━━━━━━━━━\u001b[0m\u001b[37m\u001b[0m \u001b[1m1s\u001b[0m 2ms/step - loss: 1.1500e-05\n",
      "Epoch 8/42\n",
      "\u001b[1m732/732\u001b[0m \u001b[32m━━━━━━━━━━━━━━━━━━━━\u001b[0m\u001b[37m\u001b[0m \u001b[1m1s\u001b[0m 2ms/step - loss: 6.8499e-06\n",
      "Epoch 9/42\n",
      "\u001b[1m732/732\u001b[0m \u001b[32m━━━━━━━━━━━━━━━━━━━━\u001b[0m\u001b[37m\u001b[0m \u001b[1m1s\u001b[0m 2ms/step - loss: 3.7739e-06\n",
      "Epoch 10/42\n",
      "\u001b[1m732/732\u001b[0m \u001b[32m━━━━━━━━━━━━━━━━━━━━\u001b[0m\u001b[37m\u001b[0m \u001b[1m1s\u001b[0m 2ms/step - loss: 3.5090e-06\n",
      "Epoch 11/42\n",
      "\u001b[1m732/732\u001b[0m \u001b[32m━━━━━━━━━━━━━━━━━━━━\u001b[0m\u001b[37m\u001b[0m \u001b[1m1s\u001b[0m 2ms/step - loss: 2.2796e-06\n",
      "Epoch 12/42\n",
      "\u001b[1m732/732\u001b[0m \u001b[32m━━━━━━━━━━━━━━━━━━━━\u001b[0m\u001b[37m\u001b[0m \u001b[1m1s\u001b[0m 2ms/step - loss: 1.8041e-06\n",
      "Epoch 13/42\n",
      "\u001b[1m732/732\u001b[0m \u001b[32m━━━━━━━━━━━━━━━━━━━━\u001b[0m\u001b[37m\u001b[0m \u001b[1m1s\u001b[0m 2ms/step - loss: 1.6182e-06\n",
      "Epoch 14/42\n",
      "\u001b[1m732/732\u001b[0m \u001b[32m━━━━━━━━━━━━━━━━━━━━\u001b[0m\u001b[37m\u001b[0m \u001b[1m1s\u001b[0m 2ms/step - loss: 1.2068e-06\n",
      "Epoch 15/42\n",
      "\u001b[1m732/732\u001b[0m \u001b[32m━━━━━━━━━━━━━━━━━━━━\u001b[0m\u001b[37m\u001b[0m \u001b[1m1s\u001b[0m 2ms/step - loss: 1.0869e-06\n",
      "Epoch 16/42\n",
      "\u001b[1m732/732\u001b[0m \u001b[32m━━━━━━━━━━━━━━━━━━━━\u001b[0m\u001b[37m\u001b[0m \u001b[1m1s\u001b[0m 2ms/step - loss: 1.1076e-06\n",
      "Epoch 17/42\n",
      "\u001b[1m732/732\u001b[0m \u001b[32m━━━━━━━━━━━━━━━━━━━━\u001b[0m\u001b[37m\u001b[0m \u001b[1m1s\u001b[0m 2ms/step - loss: 7.7369e-07\n",
      "Epoch 18/42\n",
      "\u001b[1m732/732\u001b[0m \u001b[32m━━━━━━━━━━━━━━━━━━━━\u001b[0m\u001b[37m\u001b[0m \u001b[1m1s\u001b[0m 2ms/step - loss: 1.0673e-06\n",
      "Epoch 19/42\n",
      "\u001b[1m732/732\u001b[0m \u001b[32m━━━━━━━━━━━━━━━━━━━━\u001b[0m\u001b[37m\u001b[0m \u001b[1m1s\u001b[0m 2ms/step - loss: 4.6290e-07\n",
      "Epoch 20/42\n",
      "\u001b[1m732/732\u001b[0m \u001b[32m━━━━━━━━━━━━━━━━━━━━\u001b[0m\u001b[37m\u001b[0m \u001b[1m1s\u001b[0m 2ms/step - loss: 4.9364e-07\n",
      "Epoch 21/42\n",
      "\u001b[1m732/732\u001b[0m \u001b[32m━━━━━━━━━━━━━━━━━━━━\u001b[0m\u001b[37m\u001b[0m \u001b[1m1s\u001b[0m 2ms/step - loss: 5.6399e-07\n",
      "Epoch 22/42\n",
      "\u001b[1m732/732\u001b[0m \u001b[32m━━━━━━━━━━━━━━━━━━━━\u001b[0m\u001b[37m\u001b[0m \u001b[1m3s\u001b[0m 5ms/step - loss: 8.1053e-07\n",
      "Epoch 23/42\n",
      "\u001b[1m732/732\u001b[0m \u001b[32m━━━━━━━━━━━━━━━━━━━━\u001b[0m\u001b[37m\u001b[0m \u001b[1m3s\u001b[0m 4ms/step - loss: 4.0929e-07\n",
      "Epoch 24/42\n",
      "\u001b[1m732/732\u001b[0m \u001b[32m━━━━━━━━━━━━━━━━━━━━\u001b[0m\u001b[37m\u001b[0m \u001b[1m5s\u001b[0m 4ms/step - loss: 5.3571e-07\n",
      "Epoch 25/42\n",
      "\u001b[1m732/732\u001b[0m \u001b[32m━━━━━━━━━━━━━━━━━━━━\u001b[0m\u001b[37m\u001b[0m \u001b[1m1s\u001b[0m 2ms/step - loss: 6.8472e-07\n",
      "Epoch 26/42\n",
      "\u001b[1m732/732\u001b[0m \u001b[32m━━━━━━━━━━━━━━━━━━━━\u001b[0m\u001b[37m\u001b[0m \u001b[1m1s\u001b[0m 2ms/step - loss: 2.4767e-07\n",
      "Epoch 27/42\n",
      "\u001b[1m732/732\u001b[0m \u001b[32m━━━━━━━━━━━━━━━━━━━━\u001b[0m\u001b[37m\u001b[0m \u001b[1m1s\u001b[0m 2ms/step - loss: 3.3485e-07\n",
      "Epoch 28/42\n",
      "\u001b[1m732/732\u001b[0m \u001b[32m━━━━━━━━━━━━━━━━━━━━\u001b[0m\u001b[37m\u001b[0m \u001b[1m1s\u001b[0m 2ms/step - loss: 3.6988e-07\n",
      "Epoch 29/42\n",
      "\u001b[1m732/732\u001b[0m \u001b[32m━━━━━━━━━━━━━━━━━━━━\u001b[0m\u001b[37m\u001b[0m \u001b[1m1s\u001b[0m 2ms/step - loss: 6.0035e-07\n",
      "Epoch 30/42\n",
      "\u001b[1m732/732\u001b[0m \u001b[32m━━━━━━━━━━━━━━━━━━━━\u001b[0m\u001b[37m\u001b[0m \u001b[1m1s\u001b[0m 2ms/step - loss: 2.9256e-07\n",
      "Epoch 31/42\n",
      "\u001b[1m732/732\u001b[0m \u001b[32m━━━━━━━━━━━━━━━━━━━━\u001b[0m\u001b[37m\u001b[0m \u001b[1m1s\u001b[0m 2ms/step - loss: 2.7286e-07\n",
      "Epoch 32/42\n",
      "\u001b[1m732/732\u001b[0m \u001b[32m━━━━━━━━━━━━━━━━━━━━\u001b[0m\u001b[37m\u001b[0m \u001b[1m1s\u001b[0m 2ms/step - loss: 2.6241e-07\n",
      "Epoch 33/42\n",
      "\u001b[1m732/732\u001b[0m \u001b[32m━━━━━━━━━━━━━━━━━━━━\u001b[0m\u001b[37m\u001b[0m \u001b[1m1s\u001b[0m 2ms/step - loss: 2.6615e-07\n",
      "Epoch 34/42\n",
      "\u001b[1m732/732\u001b[0m \u001b[32m━━━━━━━━━━━━━━━━━━━━\u001b[0m\u001b[37m\u001b[0m \u001b[1m1s\u001b[0m 2ms/step - loss: 3.1382e-07\n",
      "Epoch 35/42\n",
      "\u001b[1m732/732\u001b[0m \u001b[32m━━━━━━━━━━━━━━━━━━━━\u001b[0m\u001b[37m\u001b[0m \u001b[1m1s\u001b[0m 2ms/step - loss: 3.4310e-07\n",
      "Epoch 36/42\n",
      "\u001b[1m732/732\u001b[0m \u001b[32m━━━━━━━━━━━━━━━━━━━━\u001b[0m\u001b[37m\u001b[0m \u001b[1m1s\u001b[0m 2ms/step - loss: 3.4836e-07\n",
      "Epoch 37/42\n",
      "\u001b[1m732/732\u001b[0m \u001b[32m━━━━━━━━━━━━━━━━━━━━\u001b[0m\u001b[37m\u001b[0m \u001b[1m3s\u001b[0m 4ms/step - loss: 3.7076e-07\n",
      "Epoch 38/42\n",
      "\u001b[1m732/732\u001b[0m \u001b[32m━━━━━━━━━━━━━━━━━━━━\u001b[0m\u001b[37m\u001b[0m \u001b[1m5s\u001b[0m 3ms/step - loss: 2.9643e-07\n",
      "Epoch 39/42\n",
      "\u001b[1m732/732\u001b[0m \u001b[32m━━━━━━━━━━━━━━━━━━━━\u001b[0m\u001b[37m\u001b[0m \u001b[1m1s\u001b[0m 2ms/step - loss: 2.4889e-07\n",
      "Epoch 40/42\n",
      "\u001b[1m732/732\u001b[0m \u001b[32m━━━━━━━━━━━━━━━━━━━━\u001b[0m\u001b[37m\u001b[0m \u001b[1m1s\u001b[0m 2ms/step - loss: 2.8868e-07\n",
      "Epoch 41/42\n",
      "\u001b[1m732/732\u001b[0m \u001b[32m━━━━━━━━━━━━━━━━━━━━\u001b[0m\u001b[37m\u001b[0m \u001b[1m1s\u001b[0m 2ms/step - loss: 3.0335e-07\n",
      "Epoch 42/42\n",
      "\u001b[1m732/732\u001b[0m \u001b[32m━━━━━━━━━━━━━━━━━━━━\u001b[0m\u001b[37m\u001b[0m \u001b[1m1s\u001b[0m 2ms/step - loss: 2.3345e-07\n"
     ]
    },
    {
     "name": "stderr",
     "output_type": "stream",
     "text": [
      "WARNING:absl:You are saving your model as an HDF5 file via `model.save()` or `keras.saving.save_model(model)`. This file format is considered legacy. We recommend using instead the native Keras format, e.g. `model.save('my_model.keras')` or `keras.saving.save_model(model, 'my_model.keras')`. \n"
     ]
    },
    {
     "name": "stdout",
     "output_type": "stream",
     "text": [
      "Best hyperparameters: {'learning_rate': 0.0003206044832303934, 'batch_size': 24, 'epochs': 42, 'activation': 'relu', 'lstm_units': 81, 'lookback': 7}\n",
      "\u001b[1m549/549\u001b[0m \u001b[32m━━━━━━━━━━━━━━━━━━━━\u001b[0m\u001b[37m\u001b[0m \u001b[1m1s\u001b[0m 951us/step\n",
      "[0.07117245 0.07563376 0.0737106  ... 0.60306871 0.59973837 0.6041684 ]\n"
     ]
    },
    {
     "data": {
      "image/png": "[encoded data removed]",
      "text/plain": [
       "<Figure size 1000x600 with 1 Axes>"
      ]
     },
     "metadata": {},
     "output_type": "display_data"
    },
    {
     "data": {
      "text/plain": [
       "{'model': <Sequential name=sequential_75, built=True>,\n",
       " 'hyperparams': {'learning_rate': 0.0003206044832303934,\n",
       "  'batch_size': 24,\n",
       "  'epochs': 42,\n",
       "  'activation': 'relu',\n",
       "  'lstm_units': 81,\n",
       "  'lookback': 7}}"
      ]
     },
     "execution_count": 6,
     "metadata": {},
     "output_type": "execute_result"
    }
   ],
   "source": [
    "getOptimalModel(SAVE_MODEL)"
   ]
  }
 ],
 "metadata": {
  "kernelspec": {
   "display_name": "base",
   "language": "python",
   "name": "python3"
  },
  "language_info": {
   "codemirror_mode": {
    "name": "ipython",
    "version": 3
   },
   "file_extension": ".py",
   "mimetype": "text/x-python",
   "name": "python",
   "nbconvert_exporter": "python",
   "pygments_lexer": "ipython3",
   "version": "3.12.9"
  }
 },
 "nbformat": 4,
 "nbformat_minor": 2
}
