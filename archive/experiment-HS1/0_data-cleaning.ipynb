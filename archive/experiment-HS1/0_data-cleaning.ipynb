{
 "cells": [
  {
   "cell_type": "code",
   "execution_count": null,
   "metadata": {},
   "outputs": [
    {
     "name": "stdout",
     "output_type": "stream",
     "text": [
      "Stored 'files' (list)\n",
      "Stored 'tickers' (list)\n"
     ]
    }
   ],
   "source": [
    "files = [\"ADAUSDC\", \"ALGOUSDC\", \"BCHUSDC\", \"BTCUSDC\", \"CKBUSDC\", \"DASHUSDT\", \"EOSUSDC\", \"ETCUSDC\", \"ETHUSDC\",\n",
    "           \"FIROUSDT\", \"LTCUSDC\", \"NEOUSDC\", \"TRXUSDC\", \"TUSDT\", \"XLMUSDC\", \"XMRUSDT\", \"XNOUSDT\", \"XRPUSDC\",\n",
    "           \"XVGUSDT\", \"ZECUSDC\"]\n",
    "tickers = [*files]\n",
    "\n",
    "%store files tickers"
   ]
  },
  {
   "cell_type": "markdown",
   "metadata": {},
   "source": [
    "### Fix time on files (format should be microseconds)"
   ]
  },
  {
   "cell_type": "code",
   "execution_count": null,
   "metadata": {},
   "outputs": [],
   "source": [
    "import pandas as pd\n",
    "for fname in files:\n",
    "    # Read the CSV file\n",
    "    df = pd.read_csv(f\"assets/{fname}.csv\")\n",
    "    df['Open time'] = df['Open time'].apply(lambda x: x * 1000 if len(str(x)) < len(str(1738470600000000)) else x)\n",
    "    df.to_csv(f\"assets/{fname}.csv\", index=False)"
   ]
  },
  {
   "cell_type": "markdown",
   "metadata": {},
   "source": [
    "### Drop 'Close time' and 'Ignore'"
   ]
  },
  {
   "cell_type": "code",
   "execution_count": 8,
   "metadata": {},
   "outputs": [],
   "source": [
    "import pandas as pd\n",
    "for fname in files:\n",
    "    # Read the CSV file\n",
    "    df = pd.read_csv(f\"assets/{fname}.csv\")\n",
    "    df = df.drop(columns=['Close time', 'Ignore'])\n",
    "    df.to_csv(f\"assets/{fname}.csv\", index=False)"
   ]
  }
 ],
 "metadata": {
  "kernelspec": {
   "display_name": "base",
   "language": "python",
   "name": "python3"
  },
  "language_info": {
   "codemirror_mode": {
    "name": "ipython",
    "version": 3
   },
   "file_extension": ".py",
   "mimetype": "text/x-python",
   "name": "python",
   "nbconvert_exporter": "python",
   "pygments_lexer": "ipython3",
   "version": "3.12.9"
  }
 },
 "nbformat": 4,
 "nbformat_minor": 2
}
