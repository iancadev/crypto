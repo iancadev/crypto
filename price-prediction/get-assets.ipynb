{
 "cells": [
  {
   "cell_type": "code",
   "execution_count": null,
   "metadata": {
    "tags": [
     "parameters"
    ]
   },
   "outputs": [],
   "source": [
    "# tickers = [\"BTCUSDC\", \"SANDUSDC\", \"XRPUSDC\", \"ETHUSDC\"]\n",
    "tickers = []\n",
    "eraseExisting = False\n",
    "\n",
    "plotOutput = \"get-assets_date-ranges.png\""
   ]
  },
  {
   "cell_type": "code",
   "execution_count": null,
   "metadata": {},
   "outputs": [],
   "source": [
    "from selenium import webdriver\n",
    "from selenium.webdriver.common.by import By\n",
    "from selenium.webdriver.chrome.service import Service\n",
    "from selenium.webdriver.chrome.options import Options\n",
    "import time\n",
    "import os\n",
    "import requests\n",
    "import zipfile\n",
    "from IPython import display\n",
    "\n",
    "\n",
    "target_files = []\n",
    "for ticker in tickers:\n",
    "    url = f\"https://data.binance.vision/?prefix=data/spot/monthly/klines/{ticker}/30m/\"\n",
    "    output_csv = f\"tmp/{ticker}.csv\"\n",
    "    target_csv = f\"assets/{ticker}.csv\"\n",
    "\n",
    "    target_files.append(os.path.abspath(target_csv))\n",
    "\n",
    "    if not eraseExisting:\n",
    "        if os.path.exists(target_csv):\n",
    "            continue\n",
    "\n",
    "    # Set up Selenium WebDriver\n",
    "    options = Options()\n",
    "    options.add_argument(\"--headless\")  # Run in headless mode\n",
    "    # service = Service('path/to/msedgedriver')  # Replace with the path to your Edge WebDriver\n",
    "    driver = webdriver.Edge(options=options)\n",
    "\n",
    "    try:\n",
    "        # Launch the URL\n",
    "        driver.get(url)\n",
    "        time.sleep(5)  # Wait for 5 seconds\n",
    "\n",
    "        # Find all links ending with \".zip\"\n",
    "        links = driver.find_elements(By.XPATH, \"//a[substring(@href, string-length(@href) - 3) = '.zip']\")\n",
    "        zip_links = [link.get_attribute('href') for link in links]\n",
    "\n",
    "        for link in zip_links:\n",
    "            print(link)\n",
    "\n",
    "        # Create the local folder if it doesn't exist\n",
    "        os.makedirs('tmp', exist_ok=True)\n",
    "\n",
    "        with open(output_csv, 'w') as file:\n",
    "            file.write(\"Open time,Open,High,Low,Close,Volume,Close time,Quote asset volume,Number of trades,Taker buy base asset volume,Taker buy quote asset volume,Ignore\\n\")\n",
    "\n",
    "        # Download and save each linked resource\n",
    "        for i, link in enumerate(zip_links):\n",
    "            print(f\"{i+1}/{len(zip_links)}\")\n",
    "\n",
    "            file_name = os.path.join('tmp', os.path.basename(link))\n",
    "            response = requests.get(link)\n",
    "            with open(file_name, 'wb') as file:\n",
    "                file.write(response.content)\n",
    "\n",
    "            time.sleep(1)\n",
    "\n",
    "            if zipfile.is_zipfile(file_name):\n",
    "                with zipfile.ZipFile(file_name, 'r') as zip_ref:\n",
    "                    zip_ref.extractall('tmp')\n",
    "\n",
    "            os.remove(file_name)\n",
    "\n",
    "            time.sleep(1)\n",
    "\n",
    "            # Get the name of the extracted CSV file\n",
    "            extracted_files = zip_ref.namelist()\n",
    "            if len(extracted_files) == 1:\n",
    "                extracted_csv = os.path.join('tmp', extracted_files[0])\n",
    "                \n",
    "                # Append the content of the extracted CSV to master.csv\n",
    "                with open(extracted_csv, 'r') as source_file:\n",
    "                    with open(output_csv, 'a') as master_file:\n",
    "                        master_file.write(source_file.read())\n",
    "                \n",
    "                # Delete the original extracted CSV file\n",
    "                os.remove(extracted_csv)\n",
    "            time.sleep(1)\n",
    "        \n",
    "        # Move the consolidated CSV to the target location\n",
    "        os.makedirs(os.path.dirname(target_csv), exist_ok=True)\n",
    "        os.replace(output_csv, target_csv)\n",
    "    finally:\n",
    "        driver.quit()"
   ]
  },
  {
   "cell_type": "code",
   "execution_count": 15,
   "metadata": {},
   "outputs": [
    {
     "ename": "OverflowError",
     "evalue": "cannot convert float infinity to integer",
     "output_type": "error",
     "traceback": [
      "\u001b[31m---------------------------------------------------------------------------\u001b[39m",
      "\u001b[31mOverflowError\u001b[39m                             Traceback (most recent call last)",
      "\u001b[36mCell\u001b[39m\u001b[36m \u001b[39m\u001b[32mIn[15]\u001b[39m\u001b[32m, line 35\u001b[39m\n\u001b[32m     33\u001b[39m plt.title(\u001b[33m\"\u001b[39m\u001b[33mDate Ranges for Each Asset\u001b[39m\u001b[33m\"\u001b[39m)\n\u001b[32m     34\u001b[39m plt.grid(axis=\u001b[33m'\u001b[39m\u001b[33mx\u001b[39m\u001b[33m'\u001b[39m, which=\u001b[33m'\u001b[39m\u001b[33mmajor\u001b[39m\u001b[33m'\u001b[39m, linestyle=\u001b[33m'\u001b[39m\u001b[33m-\u001b[39m\u001b[33m'\u001b[39m, color=\u001b[33m'\u001b[39m\u001b[33mgray\u001b[39m\u001b[33m'\u001b[39m, alpha=\u001b[32m0.7\u001b[39m)\n\u001b[32m---> \u001b[39m\u001b[32m35\u001b[39m plt.xticks(pd.date_range(start=\u001b[43mpd\u001b[49m\u001b[43m.\u001b[49m\u001b[43mto_datetime\u001b[49m\u001b[43m(\u001b[49m\u001b[43mmin_time\u001b[49m\u001b[43m,\u001b[49m\u001b[43m \u001b[49m\u001b[43munit\u001b[49m\u001b[43m=\u001b[49m\u001b[33;43m'\u001b[39;49m\u001b[33;43mus\u001b[39;49m\u001b[33;43m'\u001b[39;49m\u001b[43m)\u001b[49m, \n\u001b[32m     36\u001b[39m                          end=pd.to_datetime(max_time, unit=\u001b[33m'\u001b[39m\u001b[33mus\u001b[39m\u001b[33m'\u001b[39m), \n\u001b[32m     37\u001b[39m                          freq=\u001b[33m'\u001b[39m\u001b[33mY\u001b[39m\u001b[33m'\u001b[39m), rotation=\u001b[32m45\u001b[39m)\n\u001b[32m     38\u001b[39m plt.grid(axis=\u001b[33m'\u001b[39m\u001b[33mx\u001b[39m\u001b[33m'\u001b[39m, which=\u001b[33m'\u001b[39m\u001b[33mminor\u001b[39m\u001b[33m'\u001b[39m, linestyle=\u001b[33m'\u001b[39m\u001b[33m:\u001b[39m\u001b[33m'\u001b[39m, color=\u001b[33m'\u001b[39m\u001b[33mgray\u001b[39m\u001b[33m'\u001b[39m, alpha=\u001b[32m0.5\u001b[39m)\n\u001b[32m     39\u001b[39m plt.minorticks_on()\n",
      "\u001b[36mFile \u001b[39m\u001b[32mc:\\Users\\ic2594\\AppData\\Local\\miniconda3\\Lib\\site-packages\\pandas\\core\\tools\\datetimes.py:1101\u001b[39m, in \u001b[36mto_datetime\u001b[39m\u001b[34m(arg, errors, dayfirst, yearfirst, utc, format, exact, unit, infer_datetime_format, origin, cache)\u001b[39m\n\u001b[32m   1099\u001b[39m         result = convert_listlike(argc, \u001b[38;5;28mformat\u001b[39m)\n\u001b[32m   1100\u001b[39m \u001b[38;5;28;01melse\u001b[39;00m:\n\u001b[32m-> \u001b[39m\u001b[32m1101\u001b[39m     result = \u001b[43mconvert_listlike\u001b[49m\u001b[43m(\u001b[49m\u001b[43mnp\u001b[49m\u001b[43m.\u001b[49m\u001b[43marray\u001b[49m\u001b[43m(\u001b[49m\u001b[43m[\u001b[49m\u001b[43marg\u001b[49m\u001b[43m]\u001b[49m\u001b[43m)\u001b[49m\u001b[43m,\u001b[49m\u001b[43m \u001b[49m\u001b[38;5;28;43mformat\u001b[39;49m\u001b[43m)\u001b[49m[\u001b[32m0\u001b[39m]\n\u001b[32m   1102\u001b[39m     \u001b[38;5;28;01mif\u001b[39;00m \u001b[38;5;28misinstance\u001b[39m(arg, \u001b[38;5;28mbool\u001b[39m) \u001b[38;5;129;01mand\u001b[39;00m \u001b[38;5;28misinstance\u001b[39m(result, np.bool_):\n\u001b[32m   1103\u001b[39m         result = \u001b[38;5;28mbool\u001b[39m(result)  \u001b[38;5;66;03m# TODO: avoid this kludge.\u001b[39;00m\n",
      "\u001b[36mFile \u001b[39m\u001b[32mc:\\Users\\ic2594\\AppData\\Local\\miniconda3\\Lib\\site-packages\\pandas\\core\\tools\\datetimes.py:407\u001b[39m, in \u001b[36m_convert_listlike_datetimes\u001b[39m\u001b[34m(arg, format, name, utc, unit, errors, dayfirst, yearfirst, exact)\u001b[39m\n\u001b[32m    405\u001b[39m     \u001b[38;5;28;01mif\u001b[39;00m \u001b[38;5;28mformat\u001b[39m \u001b[38;5;129;01mis\u001b[39;00m \u001b[38;5;129;01mnot\u001b[39;00m \u001b[38;5;28;01mNone\u001b[39;00m:\n\u001b[32m    406\u001b[39m         \u001b[38;5;28;01mraise\u001b[39;00m \u001b[38;5;167;01mValueError\u001b[39;00m(\u001b[33m\"\u001b[39m\u001b[33mcannot specify both format and unit\u001b[39m\u001b[33m\"\u001b[39m)\n\u001b[32m--> \u001b[39m\u001b[32m407\u001b[39m     \u001b[38;5;28;01mreturn\u001b[39;00m \u001b[43m_to_datetime_with_unit\u001b[49m\u001b[43m(\u001b[49m\u001b[43marg\u001b[49m\u001b[43m,\u001b[49m\u001b[43m \u001b[49m\u001b[43munit\u001b[49m\u001b[43m,\u001b[49m\u001b[43m \u001b[49m\u001b[43mname\u001b[49m\u001b[43m,\u001b[49m\u001b[43m \u001b[49m\u001b[43mutc\u001b[49m\u001b[43m,\u001b[49m\u001b[43m \u001b[49m\u001b[43merrors\u001b[49m\u001b[43m)\u001b[49m\n\u001b[32m    408\u001b[39m \u001b[38;5;28;01melif\u001b[39;00m \u001b[38;5;28mgetattr\u001b[39m(arg, \u001b[33m\"\u001b[39m\u001b[33mndim\u001b[39m\u001b[33m\"\u001b[39m, \u001b[32m1\u001b[39m) > \u001b[32m1\u001b[39m:\n\u001b[32m    409\u001b[39m     \u001b[38;5;28;01mraise\u001b[39;00m \u001b[38;5;167;01mTypeError\u001b[39;00m(\n\u001b[32m    410\u001b[39m         \u001b[33m\"\u001b[39m\u001b[33marg must be a string, datetime, list, tuple, 1-d array, or Series\u001b[39m\u001b[33m\"\u001b[39m\n\u001b[32m    411\u001b[39m     )\n",
      "\u001b[36mFile \u001b[39m\u001b[32mc:\\Users\\ic2594\\AppData\\Local\\miniconda3\\Lib\\site-packages\\pandas\\core\\tools\\datetimes.py:512\u001b[39m, in \u001b[36m_to_datetime_with_unit\u001b[39m\u001b[34m(arg, unit, name, utc, errors)\u001b[39m\n\u001b[32m    510\u001b[39m \u001b[38;5;28;01mwith\u001b[39;00m np.errstate(over=\u001b[33m\"\u001b[39m\u001b[33mraise\u001b[39m\u001b[33m\"\u001b[39m):\n\u001b[32m    511\u001b[39m     \u001b[38;5;28;01mtry\u001b[39;00m:\n\u001b[32m--> \u001b[39m\u001b[32m512\u001b[39m         arr = \u001b[43mcast_from_unit_vectorized\u001b[49m\u001b[43m(\u001b[49m\u001b[43marg\u001b[49m\u001b[43m,\u001b[49m\u001b[43m \u001b[49m\u001b[43munit\u001b[49m\u001b[43m=\u001b[49m\u001b[43munit\u001b[49m\u001b[43m)\u001b[49m\n\u001b[32m    513\u001b[39m     \u001b[38;5;28;01mexcept\u001b[39;00m OutOfBoundsDatetime:\n\u001b[32m    514\u001b[39m         \u001b[38;5;28;01mif\u001b[39;00m errors != \u001b[33m\"\u001b[39m\u001b[33mraise\u001b[39m\u001b[33m\"\u001b[39m:\n",
      "\u001b[36mFile \u001b[39m\u001b[32mconversion.pyx:145\u001b[39m, in \u001b[36mpandas._libs.tslibs.conversion.cast_from_unit_vectorized\u001b[39m\u001b[34m()\u001b[39m\n",
      "\u001b[31mOverflowError\u001b[39m: cannot convert float infinity to integer"
     ]
    },
    {
     "data": {
      "image/png": "[encoded data removed]",
      "text/plain": [
       "<Figure size 1000x600 with 1 Axes>"
      ]
     },
     "metadata": {},
     "output_type": "display_data"
    }
   ],
   "source": [
    "import pandas as pd\n",
    "import numpy as np\n",
    "import matplotlib.pyplot as plt\n",
    "from functools import reduce\n",
    "\n",
    "# Load all dataframes and extract the time columns\n",
    "time_columns = []\n",
    "merged_dfs = []\n",
    "\n",
    "min_time = np.inf\n",
    "max_time = 0\n",
    "for asset in tickers:\n",
    "    df = pd.read_csv(f\"assets/{asset}.csv\")\n",
    "    df.iloc[:, 0] = df.iloc[:, 0].apply(lambda x: int(f\"{x}000\") if len(str(x)) == 13 else x)\n",
    "    df = df.sort_values(by=df.columns[0])\n",
    "    df['Asset'] = asset  # Add a column with the asset name\n",
    "\n",
    "    min_time = min(min_time, df.iloc[0, 0])\n",
    "    max_time = max(max_time, df.iloc[-1, 0])\n",
    "\n",
    "    merged_dfs.append(df)\n",
    "    time_columns.append(set(df.iloc[:, 0]))\n",
    "\n",
    "\n",
    "# Create a plot for the date ranges of each asset\n",
    "plt.figure(figsize=(10, 6))\n",
    "for asset, df in zip(tickers, merged_dfs):\n",
    "    asset_times = pd.to_datetime(df.iloc[:, 0], unit='us')\n",
    "    plt.scatter(asset_times, [asset] * len(asset_times), label=asset, s=1)\n",
    "\n",
    "plt.xlabel(\"Timestamp\")\n",
    "plt.ylabel(\"Asset\")\n",
    "plt.title(\"Date Ranges for Each Asset\")\n",
    "plt.grid(axis='x', which='major', linestyle='-', color='gray', alpha=0.7)\n",
    "plt.xticks(pd.date_range(start=pd.to_datetime(min_time, unit='us'), \n",
    "                         end=pd.to_datetime(max_time, unit='us'), \n",
    "                         freq='Y'), rotation=45)\n",
    "plt.grid(axis='x', which='minor', linestyle=':', color='gray', alpha=0.5)\n",
    "plt.minorticks_on()\n",
    "plt.gca().xaxis.set_minor_locator(plt.matplotlib.dates.MonthLocator())\n",
    "plt.legend()\n",
    "plt.tight_layout()\n",
    "\n",
    "# Save the plot\n",
    "plt.savefig(plotOutput)\n",
    "# plt.show()\n",
    "display(plt)\n"
   ]
  },
  {
   "cell_type": "code",
   "execution_count": null,
   "metadata": {},
   "outputs": [
    {
     "name": "stdout",
     "output_type": "stream",
     "text": [
      "2019-07-05 12:00:00 to 2019-08-15 01:30:00, duration: 40 days and 13 hours (1947 windows)\n",
      "2024-03-07 08:00:00 to 2025-02-28 23:30:00, duration: 358 days and 15 hours (17215 windows)\n",
      "2019-08-15 10:00:00 to 2019-09-30 07:30:00, duration: 45 days and 21 hours (2203 windows)\n"
     ]
    }
   ],
   "source": [
    "\n",
    "merged_df = pd.concat(merged_dfs, ignore_index=True)\n",
    "\n",
    "\n",
    "# Find the minimum common set of times\n",
    "common_times = reduce(lambda x, y: x & y, time_columns)\n",
    "common_times = pd.to_datetime(list(common_times), unit='us')\n",
    "# Group common_times into ranges with no gap greater than 5 minutes\n",
    "common_times = common_times.sort_values()\n",
    "ranges = []\n",
    "start = common_times[0]\n",
    "prev = common_times[0]\n",
    "\n",
    "for current in common_times[1:]:\n",
    "    if (current - prev).total_seconds() > 1800:  # 5 minutes in seconds\n",
    "        ranges.append((start, prev))\n",
    "        start = current\n",
    "    prev = current\n",
    "\n",
    "ranges.append((start, prev))  # Add the last range\n",
    "\n",
    "# Convert ranges to a set of tuples\n",
    "date_ranges = set(ranges)\n",
    "\n",
    "for start, end in date_ranges:\n",
    "    duration = end - start\n",
    "    days = duration.days\n",
    "    hours = duration.seconds // 3600\n",
    "    num_half_hour_points = (end - start).total_seconds() // 1800\n",
    "    \n",
    "    print(f\"{start} to {end}, duration: {days} days and {hours} hours ({int(num_half_hour_points)} windows)\")"
   ]
  },
  {
   "cell_type": "code",
   "execution_count": null,
   "metadata": {
    "tags": [
     "outputs"
    ]
   },
   "outputs": [],
   "source": [
    "output_data = {\n",
    "    'date_ranges': date_ranges,\n",
    "    'date_ranges_plot': os.path.abspath(plotOutput),\n",
    "    'success': target_files\n",
    "}\n",
    "\n",
    "print(\"Saved the data\")"
   ]
  }
 ],
 "metadata": {
  "kernelspec": {
   "display_name": "base",
   "language": "python",
   "name": "python3"
  },
  "language_info": {
   "codemirror_mode": {
    "name": "ipython",
    "version": 3
   },
   "file_extension": ".py",
   "mimetype": "text/x-python",
   "name": "python",
   "nbconvert_exporter": "python",
   "pygments_lexer": "ipython3",
   "version": "3.12.9"
  }
 },
 "nbformat": 4,
 "nbformat_minor": 2
}
