{
 "cells": [
  {
   "cell_type": "markdown",
   "metadata": {},
   "source": [
    "## The one-stop shop for Binance data\n",
    "\n",
    "\n",
    "PARAMETERS:\n",
    "- Downloaded interval (assumed `30 minutes`)\n",
    "- Downsample to interval (assumed `30 minutes`)\n",
    "- Drop features (assumed `Close time` and `Ignore`)\n",
    "- Combine assets\n",
    "- Add features\n",
    "  - Min-VaR portfolio weight\n",
    "  - RSI `[num_periods]`\n",
    "  - ADX `[num_periods]`\n",
    "  - Momentum Indicator `[num_periods]`\n",
    "\n",
    "Step 1: Check if the data was downloaded to raw yet (if not, download it)"
   ]
  }
 ],
 "metadata": {
  "language_info": {
   "name": "python"
  }
 },
 "nbformat": 4,
 "nbformat_minor": 2
}
