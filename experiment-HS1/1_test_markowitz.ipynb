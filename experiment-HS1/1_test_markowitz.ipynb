{
 "cells": [
  {
   "cell_type": "markdown",
   "metadata": {},
   "source": [
    "#### CONCEPT: Check, over various rolling windows, the feasibility of the assets for the Markowitz portfolio.\n",
    "\n",
    "\n",
    "1. Plot the areas where the returns of each asset over a 40-day rolling window surpass a risk-free rate of \"0\"\n",
    "\n",
    "2. Select assets that do \"decently\" on that test. Plot random samples of 5, and show where their covariance matrix is non-singular\n",
    "\n",
    "3. Try to run the max-sharpe portfolio optimization, on our five favorite assets. Save those weights to a CSV, for 30-day, 60-day, and 100-day rolling windows.\n"
   ]
  }
 ],
 "metadata": {
  "language_info": {
   "name": "python"
  }
 },
 "nbformat": 4,
 "nbformat_minor": 2
}
