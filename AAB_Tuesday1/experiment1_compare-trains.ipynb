{
 "cells": [
  {
   "cell_type": "code",
   "execution_count": 1,
   "id": "8a9b15f7",
   "metadata": {},
   "outputs": [],
   "source": [
    "# load a bunch of assets\n",
    "\n",
    "# subset based on the first entry for all assets\n",
    "\n",
    "# make sure they all have normalized features\n",
    "\n",
    "# train ensemble LSTMs with optuna for various targets (1 asset)\n",
    "\n",
    "# see which LSTMs perform best on the test period\n",
    "\n",
    "# do transfer learning for a set of test assets\n",
    "\n",
    "# see which LSTMs perform best on the test assets"
   ]
  },
  {
   "cell_type": "code",
   "execution_count": null,
   "metadata": {},
   "outputs": [],
   "source": [
    "# get a decent variety of target and test pairs\n",
    "\n",
    "# train ensemble LSTMs with optuna for various targets (2 assets)\n",
    "\n",
    "# see which LSTMs perform best on the test period\n",
    "\n",
    "# do transfer learning for a set of test assets\n",
    "\n",
    "# see which LSTMs perform best on the test assets"
   ]
  },
  {
   "cell_type": "code",
   "execution_count": null,
   "id": "8a9b15f7",
   "metadata": {
    "vscode": {
     "languageId": "plaintext"
    }
   },
   "outputs": [],
   "source": []
  }
 ],
 "metadata": {
  "kernelspec": {
   "display_name": "Python 3",
   "language": "python",
   "name": "python3"
  },
  "language_info": {
   "codemirror_mode": {
    "name": "ipython",
    "version": 3
   },
   "file_extension": ".py",
   "mimetype": "text/x-python",
   "name": "python",
   "nbconvert_exporter": "python",
   "pygments_lexer": "ipython3",
   "version": "3.12.3"
  }
 },
 "nbformat": 4,
 "nbformat_minor": 5
}
